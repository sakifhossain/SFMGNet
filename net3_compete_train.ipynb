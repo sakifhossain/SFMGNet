{
 "cells": [
  {
   "cell_type": "code",
   "execution_count": 6,
   "metadata": {},
   "outputs": [],
   "source": [
    "import torch\n",
    "import torch.nn as nn\n",
    "import torch.nn.functional as F\n",
    "import pandas as pd\n",
    "import numpy as np\n",
    "import torch.utils.data as data_utils\n",
    "import torch.optim as optim\n",
    "import matplotlib.pyplot as plt\n",
    "from torch.utils.data import Dataset\n",
    "from scipy.spatial import distance\n",
    "from sklearn.metrics import mean_squared_error\n",
    "import my_models as my_models\n",
    "from sklearn.metrics import mean_squared_error\n",
    "from matplotlib import pyplot as plt"
   ]
  },
  {
   "cell_type": "code",
   "execution_count": 53,
   "metadata": {},
   "outputs": [],
   "source": [
    "class CSVDataset(Dataset):\n",
    "    # load the dataset\n",
    "    def __init__(self, path, data_length2):\n",
    "        # load the csv file as a dataframe\n",
    "        df = pd.read_csv(path, index_col=None)\n",
    "        df = df[['ped1_x', 'ped1_y', 'goal_x', 'goal_y', 'd_w1', 'n_w_x1', 'n_w_y1', 'd_w2', 'n_w_x2', 'n_w_y2', 'd_w3', \n",
    "             'n_w_x3', 'n_w_y3', 'd_w4','n_w_x4', 'n_w_y4', 'd_w5','n_w_x5', 'n_w_y5', 'd_w6', 'n_w_x6', 'n_w_y6','d_w7', \n",
    "             'n_w_x7', 'n_w_y7', 'd_w8','n_w_x8', 'n_w_y8', 'd_w9','n_w_x9', 'n_w_y9', \n",
    "             'd_w_bound', 'n_w_bound_x', 'n_w_bound_y', 'rotation_angle', 'eta_group_x', 'eta_group_y', \n",
    "             'bound_x', 'bound_y', 'n1_x', 'n1_y', 'n2_x', 'n2_y', 'n3_x', 'n3_y',\n",
    "             'n4_x', 'n4_y', 'n5_x', 'n5_y', 'n6_x', 'n6_y', 'n7_x', 'n7_y', 'n8_x',\n",
    "             'n8_y', 'n9_x', 'n9_y', 'n1_repulse_x', 'n1_repulse_y', 'n2_repulse_x', \n",
    "             'n2_repulse_y', 'n3_repulse_x', 'n3_repulse_y', 'n4_repulse_x', \n",
    "             'n4_repulse_y', 'n5_repulse_x', 'n5_repulse_y', 'n6_repulse_x', \n",
    "             'n6_repulse_y', 'n7_repulse_x', 'n7_repulse_y', 'n8_repulse_x', \n",
    "             'n8_repulse_y', 'n9_repulse_x', 'n9_repulse_y', 'attract_x', \n",
    "             'attract_y', 'repulse_total_x', 'repulse_total_y', 'repulse_bound_x', \n",
    "             'repulse_bound_y', 'total_x', 'total_y', 'group_x', 'group_y', 'centroid_dist']]\n",
    "        # process input and outputs\n",
    "        temp_input = df.values[:, :2].astype('float32')\n",
    "        temp_input2 = []\n",
    "\n",
    "        for x in range(0, data_length2, 1):\n",
    "\n",
    "            temp_input3 = temp_input[x:(10+x)] - temp_input[x]\n",
    "            for z in range(len(temp_input3)):\n",
    "                temp_input2.append(temp_input3[z])\n",
    "        temp_input2 = np.array(temp_input2)\n",
    "        temp_input2 = temp_input2.reshape(data_length2, 20)\n",
    "        \n",
    "        for p in df.columns[2:37]:\n",
    "            if 'd_w' in p:\n",
    "                temp_column = np.exp(np.reshape(np.array(df[p][9:], dtype='float32'), (data_length2, 1)))\n",
    "            else: \n",
    "                temp_column = np.reshape(np.array(df[p][9:], dtype='float32'), (data_length2, 1))\n",
    "            temp_input2 = np.concatenate((temp_input2, temp_column), axis=1)\n",
    "        \n",
    "        print(np.shape(temp_input2))\n",
    "\n",
    "        temp_out = np.array(df[['total_x', 'total_y']], dtype=\"float32\")\n",
    "        temp_out = temp_out[9:]\n",
    "        \n",
    "        # store the inputs and outputs \n",
    "        self.X = temp_input2\n",
    "        self.y = temp_out\n",
    "        # ensure target has the right shape\n",
    "        self.y = self.y.reshape((len(self.y), 2))\n",
    " \n",
    "    # number of rows in the dataset\n",
    "    def __len__(self):\n",
    "        return len(self.X)\n",
    " \n",
    "    # get a row at an index\n",
    "    def __getitem__(self, idx):\n",
    "        return [self.X[idx], self.y[idx]]\n",
    " \n",
    "    # get indexes for train and test rows\n",
    "    def get_splits(self, n_test=0.5):\n",
    "        # determine sizes\n",
    "        test_size_temp = round(n_test * len(self.X))\n",
    "        train_size = len(self.X) - test_size_temp\n",
    "        dev_size = round(.5 * test_size_temp)\n",
    "        test_size = test_size_temp - dev_size\n",
    "        # calculate the split\n",
    "        print(train_size, dev_size, test_size)\n",
    "        return data_utils.dataset.random_split(self, [train_size, dev_size, test_size])"
   ]
  },
  {
   "cell_type": "code",
   "execution_count": 36,
   "metadata": {},
   "outputs": [],
   "source": [
    "# net3 complete/Final\n",
    "\n",
    "class Net3_complete(nn.Module):\n",
    "    # only attract and ped repulse here. boundary repulse can be easily added\n",
    "    def __init__(self, model_attract, model_repulse, model_ped, model_group):\n",
    "        super().__init__()\n",
    "        self.model_attract = model_attract\n",
    "        self.model_repulse = model_repulse\n",
    "        self.model_ped = model_ped\n",
    "        self.model_group = model_group\n",
    "        \n",
    "        self.combiner1 = nn.Linear(8, 20)\n",
    "        self.combiner2 = nn.Linear(20, 2)       \n",
    "\n",
    "    def forward(self, e, x_attract1, x_attract2, x_bound, x1, x2, x3, x4, x5, x6, x7, x8, x9, x_angle, x_centroid):\n",
    "        head1 = self.model_attract(x_attract1, x_attract2, e)\n",
    "        head2 = self.model_repulse(x_bound)\n",
    "        head3 = self.model_ped(e, x1, x2, x3, x4, x5, x6, x7, x8, x9)\n",
    "        temp_v_desired = e * 0.5\n",
    "        temp_group = torch.cat((temp_v_desired, x_angle), 1)\n",
    "        head4 = self.model_group(temp_group, x_centroid)\n",
    "        # x3 = (e^dw1, nw_x1, nw_y1)\n",
    "        \n",
    "        combiner_input = torch.cat((head1, head2, head3, head4), 1)\n",
    "        \n",
    "        x = torch.relu(self.combiner1(combiner_input))\n",
    "        x = self.combiner2(x)\n",
    "        print(type(x))\n",
    "        \n",
    "        return x\n"
   ]
  },
  {
   "cell_type": "code",
   "execution_count": 9,
   "metadata": {},
   "outputs": [],
   "source": [
    "# prepare the dataset\n",
    "def prepare_data(path, data_length3):\n",
    "    # load the dataset\n",
    "    dataset = CSVDataset(path, data_length3)\n",
    "    # calculate split\n",
    "    train, dev, test = dataset.get_splits()\n",
    "    # prepare data loaders\n",
    "    train_dl = data_utils.DataLoader(train, batch_size=16, shuffle=True)\n",
    "    dev_dl = data_utils.DataLoader(dev, batch_size=16, shuffle=True)\n",
    "    test_dl = data_utils.DataLoader(test, batch_size=16, shuffle=False)\n",
    "    return train_dl, dev_dl, test_dl"
   ]
  },
  {
   "cell_type": "code",
   "execution_count": 10,
   "metadata": {},
   "outputs": [],
   "source": [
    "def speed_finder(positions):\n",
    "    positions = positions.view((10, 2))\n",
    "    temp_array = []\n",
    "    for k in reversed(range(10)):\n",
    "        temp_positions = positions[k] - positions[k - 1]\n",
    "        temp_positions = torch.norm(temp_positions)\n",
    "        temp_array.insert(0, temp_positions)\n",
    "    return torch.Tensor(temp_array)"
   ]
  },
  {
   "cell_type": "code",
   "execution_count": 22,
   "metadata": {},
   "outputs": [],
   "source": [
    "# evaluate the model\n",
    "\n",
    "def evaluate_model(test_dl, model):\n",
    "    predictions, actuals = list(), list()\n",
    "    for i, (inputs, targets) in enumerate(test_dl):\n",
    "        # evaluate the model on the test set\n",
    "        # [0, 19] == trajectories, [20, 21] == [e_x, e_y] ,[22, 23, 24] == [dw1, nw_x1, nw_y1], \n",
    "        # [25, 26, 27] == [dw2, nw_x2, nw_y2], [28, 29, 30] == [dw3, nw_x3, nw_y3], [31, 32, 33] == [dw4, nw_x4, nw_y4]\n",
    "        # [34, 35, 36] == [dw5, nw_x5, nw_y5], [37, 38, 39] == [dw6, nw_x6, nw_y6], [40, 41, 42] == [dw7, nw_x7, nw_y7]\n",
    "        # [43, 44, 45] == [dw8, nw_x8, nw_y8], [46, 47, 48] == [dw9, nw_x9, nw_y9]\n",
    "        # [49, 50, 51] == [dw_b, nw_x_b, nw_y_b], [52, 53] == [centroid, angle]\n",
    "        #  e, x_attract1, x_attract2, x_bound, x1, x2, x3, x4, x5, x6, x7, x8, x9, x_group, x_speed\n",
    "        \n",
    "        x_attract2 = inputs[:, :20]\n",
    "        x_attract1 = []\n",
    "        goal2 = inputs[:, 20:22]\n",
    "        \n",
    "        for p in range(len(inputs)):\n",
    "            temp_x1 = speed_finder(x_attract2[p])\n",
    "            x_attract1.append(temp_x1.tolist())\n",
    "        x_attract1 = torch.Tensor(x_attract1)\n",
    "        \n",
    "        goal2 = inputs[:, 20:22]\n",
    "        x1 = inputs[:, 22:25]\n",
    "        x2 = inputs[:, 25:28]\n",
    "        x3 = inputs[:, 28:31]\n",
    "        x4 = inputs[:, 31:34]\n",
    "        x5 = inputs[:, 34:37]\n",
    "        x6 = inputs[:, 37:40]\n",
    "        x7 = inputs[:, 40:43]\n",
    "        x8 = inputs[:, 43:46]\n",
    "        x9 = inputs[:, 46:49]\n",
    "        x_bound = inputs[:, 49:52]\n",
    "        x_angle = inputs[:, 52:53]\n",
    "        x_centroid = inputs[:, 53:]\n",
    "        \n",
    "        yhat = model(goal2, x_attract1, x_attract2, x_bound, x1, x2, x3, x4, x5, x6, x7, x8, x9, x_angle, x_centroid)\n",
    "        yhat = yhat.detach().numpy()\n",
    "        actual = targets.numpy()\n",
    "        actual = actual.reshape((len(actual), 2))\n",
    "        predictions.append(yhat)\n",
    "        actuals.append(actual)\n",
    "    predictions, actuals = np.vstack(predictions), np.vstack(actuals)\n",
    "    # calculate mse\n",
    "    mse = mean_squared_error(actuals, predictions)\n",
    "    return mse"
   ]
  },
  {
   "cell_type": "code",
   "execution_count": 54,
   "metadata": {},
   "outputs": [],
   "source": [
    "data_path_final = \"data/ped_group_data_final_1000_group_fixed.csv\"\n",
    "df_n = pd.read_csv(data_path_final, index_col=None)\n",
    "temp_input = np.array(df_n[[\"ped1_x\", \"ped1_y\"]], dtype='float32')\n",
    "data_length = len(temp_input) - 9"
   ]
  },
  {
   "cell_type": "code",
   "execution_count": 55,
   "metadata": {},
   "outputs": [
    {
     "name": "stdout",
     "output_type": "stream",
     "text": [
      "(1219391, 55)\n",
      "609695 304848 304848\n"
     ]
    }
   ],
   "source": [
    "train_dl, dev_dl, test_dl = prepare_data(data_path_final, data_length)"
   ]
  },
  {
   "cell_type": "code",
   "execution_count": 17,
   "metadata": {},
   "outputs": [],
   "source": [
    "net3_ped1 = my_models.Net3_ped1()\n",
    "net3_ped2 = my_models.Net3_ped2()\n",
    "net3_ped3 = my_models.Net3_ped3()\n",
    "net3_ped4 = my_models.Net3_ped4()\n",
    "net3_ped5 = my_models.Net3_ped5()\n",
    "net3_ped6 = my_models.Net3_ped6()\n",
    "net3_ped7 = my_models.Net3_ped7()\n",
    "net3_ped8 = my_models.Net3_ped8()\n",
    "net3_ped9 = my_models.Net3_ped9()\n",
    "\n",
    "net3_ped_repulse_total = my_models.Net3_ped_repulse_total(net3_ped1, net3_ped2, net3_ped3, net3_ped4, net3_ped5,\n",
    "                                                          net3_ped6, net3_ped7, net3_ped8, net3_ped9)\n",
    "\n",
    "net3_attract = my_models.Net3_attract()\n",
    "net3_repulse = my_models.Net3_repulse()\n",
    "net3_ped_group = my_models.Net3_ped_group()"
   ]
  },
  {
   "cell_type": "code",
   "execution_count": 18,
   "metadata": {},
   "outputs": [],
   "source": [
    "path_ped_repulse = \"weights/Net3_ped_repulse_total.pth\"\n",
    "path_attract = \"weights/net3_attract.pth\"\n",
    "path_repulse = \"weights/net3_repulse.pth\"\n",
    "path_group = \"weights/net3_ped_group.pth\""
   ]
  },
  {
   "cell_type": "code",
   "execution_count": 19,
   "metadata": {},
   "outputs": [
    {
     "data": {
      "text/plain": [
       "<All keys matched successfully>"
      ]
     },
     "execution_count": 19,
     "metadata": {},
     "output_type": "execute_result"
    }
   ],
   "source": [
    "net3_ped_repulse_total.load_state_dict(torch.load(path_ped_repulse))\n",
    "net3_attract.load_state_dict(torch.load(path_attract))\n",
    "net3_repulse.load_state_dict(torch.load(path_repulse))\n",
    "net3_ped_group.load_state_dict(torch.load(path_group))"
   ]
  },
  {
   "cell_type": "code",
   "execution_count": 31,
   "metadata": {},
   "outputs": [],
   "source": [
    "net3_complete = Net3_complete(net3_attract, net3_repulse, net3_ped_repulse_total, net3_ped_group)\n",
    "# print(net3_complete)"
   ]
  },
  {
   "cell_type": "code",
   "execution_count": 23,
   "metadata": {},
   "outputs": [],
   "source": [
    "loss_function = nn.MSELoss()\n",
    "optimizer = optim.Adam(net3_complete.parameters(), lr=0.0001)"
   ]
  },
  {
   "cell_type": "code",
   "execution_count": 24,
   "metadata": {},
   "outputs": [],
   "source": [
    "loss_array = []\n",
    "x_array = []\n",
    "dev_loss_array = []"
   ]
  },
  {
   "cell_type": "code",
   "execution_count": 47,
   "metadata": {},
   "outputs": [
    {
     "name": "stdout",
     "output_type": "stream",
     "text": [
      "epoch no:  0\n",
      "5.160378932952881\n",
      "MSE_dev: 540.74316406, RMSE: 23.2539\n"
     ]
    }
   ],
   "source": [
    "for epoch in range(1):\n",
    "    # enumerate mini batches\n",
    "    for i, (inputs, targets) in enumerate(train_dl):\n",
    "        \n",
    "        optimizer.zero_grad()\n",
    "        # concatinating (0, 19) == trajectories, [20, 21] == [e_x, e_y] ,[22] = dw1 , [23, 24] == [nw_x1, nw_y1], \n",
    "        # [25] = dw2, [26, 27] == [nw_x2, nw_y2], [28] = dw3,  [29, 30] == [nw_x3, nw_y3]\n",
    "        # 0:20 trajectories, 20:22 goal, 22: dw, nw\n",
    "        x_attract2 = inputs[:, :20]\n",
    "        x_attract1 = []\n",
    "        goal2 = inputs[:, 20:22]\n",
    "        \n",
    "        for p in range(len(inputs)):\n",
    "            temp_x1 = speed_finder(x_attract2[p])\n",
    "            x_attract1.append(temp_x1.tolist())\n",
    "            # goal2.append(temp_goal.tolist())\n",
    "        x_attract1 = torch.Tensor(x_attract1)\n",
    "        \n",
    "        # [0, 19] == trajectories, [20, 21] == [e_x, e_y] ,[22, 23, 24] == [dw1, nw_x1, nw_y1], \n",
    "        # [25, 26, 27] == [dw2, nw_x2, nw_y2], [28, 29, 30] == [dw3, nw_x3, nw_y3], [31, 32, 33] == [dw4, nw_x4, nw_y4]\n",
    "        # [34, 35, 36] == [dw5, nw_x5, nw_y5], [37, 38, 39] == [dw6, nw_x6, nw_y6], [40, 41, 42] == [dw7, nw_x7, nw_y7]\n",
    "        # [43, 44, 45] == [dw8, nw_x8, nw_y8], [46, 47, 48] == [dw9, nw_x9, nw_y9]\n",
    "        # [49, 50, 51] == [dw_b, nw_x_b, nw_y_b], [52, 53, 54] == [angle, centroid_x, centroid_y]\n",
    "        # e, x_attract1, x_attract2, x_bound, x1, x2, x3, x4, x5, x6, x7, x8, x9, x_angle, x_centroid\n",
    "        \n",
    "        \n",
    "        goal2 = inputs[:, 20:22]\n",
    "        x1 = inputs[:, 22:25]\n",
    "        x2 = inputs[:, 25:28]\n",
    "        x3 = inputs[:, 28:31]\n",
    "        x4 = inputs[:, 31:34]\n",
    "        x5 = inputs[:, 34:37]\n",
    "        x6 = inputs[:, 37:40]\n",
    "        x7 = inputs[:, 40:43]\n",
    "        x8 = inputs[:, 43:46]\n",
    "        x9 = inputs[:, 46:49]\n",
    "        x_bound = inputs[:, 49:52]\n",
    "        x_angle = inputs[:, 52:53]\n",
    "        x_centroid = inputs[:, 53:]\n",
    "        \n",
    "        yhat = net3_complete(goal2, x_attract1, x_attract2, x_bound, x1, x2, x3, x4, x5, x6, x7, x8, x9, x_angle, x_centroid)\n",
    "        loss = loss_function(yhat, targets)\n",
    "        loss.backward()\n",
    "        optimizer.step()\n",
    "    print(\"epoch no: \", epoch)\n",
    "    print(loss.item())\n",
    "    loss_array.append(loss.item())\n",
    "    x_array.append(epoch)\n",
    "    \n",
    "    # evaluate dev\n",
    "    mse = evaluate_model(dev_dl, net3_complete)\n",
    "    dev_loss_array.append(mse)\n",
    "    print('MSE_dev: %.8f, RMSE: %.4f' % (mse, np.sqrt(mse)))\n",
    "    if 0.01 < loss.item() < mse :\n",
    "        break"
   ]
  },
  {
   "cell_type": "code",
   "execution_count": null,
   "metadata": {},
   "outputs": [],
   "source": [
    "mse = evaluate_model(test_dl, net3_complete)\n",
    "print('MSE_dev: %.8f, RMSE: %.4f' % (mse, np.sqrt(mse)))"
   ]
  },
  {
   "cell_type": "code",
   "execution_count": 97,
   "metadata": {},
   "outputs": [
    {
     "data": {
      "image/png": "[encoded data removed]",
      "text/plain": [
       "<Figure size 432x288 with 1 Axes>"
      ]
     },
     "metadata": {
      "needs_background": "light"
     },
     "output_type": "display_data"
    }
   ],
   "source": [
    "plt.plot(x_array[1:], dev_loss_array, color=\"blue\")\n",
    "plt.show()"
   ]
  },
  {
   "cell_type": "code",
   "execution_count": 145,
   "metadata": {},
   "outputs": [],
   "source": [
    "# epoch: 200\n",
    "# 0.027730274945497513\n",
    "# MSE_dev: 0.28038612, RMSE: 0.5295\n",
    "# torch.save(net3_complete.state_dict(), \"net3_complete.pth\")"
   ]
  }
 ],
 "metadata": {
  "kernelspec": {
   "display_name": "Python 3 (ipykernel)",
   "language": "python",
   "name": "python3"
  },
  "language_info": {
   "codemirror_mode": {
    "name": "ipython",
    "version": 3
   },
   "file_extension": ".py",
   "mimetype": "text/x-python",
   "name": "python",
   "nbconvert_exporter": "python",
   "pygments_lexer": "ipython3",
   "version": "3.7.1"
  }
 },
 "nbformat": 4,
 "nbformat_minor": 4
}
