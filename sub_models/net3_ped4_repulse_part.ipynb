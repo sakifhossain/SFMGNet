{
 "cells": [
  {
   "cell_type": "code",
   "execution_count": 1,
   "metadata": {},
   "outputs": [],
   "source": [
    "import torch\n",
    "import torch.nn as nn\n",
    "import torch.nn.functional as F\n",
    "import pandas as pd\n",
    "import numpy as np\n",
    "import torch.utils.data as data_utils\n",
    "import torch.optim as optim\n",
    "import matplotlib.pyplot as plt\n",
    "from torch.utils.data import Dataset\n",
    "from scipy.spatial import distance\n",
    "from sklearn.metrics import mean_squared_error"
   ]
  },
  {
   "cell_type": "code",
   "execution_count": 2,
   "metadata": {},
   "outputs": [],
   "source": [
    "# df_n = pd.read_csv(\"C:/Users/sakif/jupyter projects/thesis_test/modular test/ped_group_data_1000.csv\", index_col=None)\n",
    "\n",
    "df_n = pd.read_csv(\"C:/Users/sakif/jupyter projects/thesis_test/modular test/ped_group_data_final_1000_group_fixed.csv\",\n",
    "                   index_col=None)"
   ]
  },
  {
   "cell_type": "code",
   "execution_count": 3,
   "metadata": {},
   "outputs": [
    {
     "data": {
      "text/html": [
       "<div>\n",
       "<style scoped>\n",
       "    .dataframe tbody tr th:only-of-type {\n",
       "        vertical-align: middle;\n",
       "    }\n",
       "\n",
       "    .dataframe tbody tr th {\n",
       "        vertical-align: top;\n",
       "    }\n",
       "\n",
       "    .dataframe thead th {\n",
       "        text-align: right;\n",
       "    }\n",
       "</style>\n",
       "<table border=\"1\" class=\"dataframe\">\n",
       "  <thead>\n",
       "    <tr style=\"text-align: right;\">\n",
       "      <th></th>\n",
       "      <th>ped1_x</th>\n",
       "      <th>ped1_y</th>\n",
       "      <th>d_w1</th>\n",
       "      <th>d_w2</th>\n",
       "      <th>d_w3</th>\n",
       "      <th>d_w4</th>\n",
       "      <th>d_w5</th>\n",
       "      <th>d_w6</th>\n",
       "      <th>d_w7</th>\n",
       "      <th>d_w8</th>\n",
       "      <th>...</th>\n",
       "      <th>repulse_bound_x</th>\n",
       "      <th>repulse_bound_y</th>\n",
       "      <th>total_x</th>\n",
       "      <th>total_y</th>\n",
       "      <th>group_x</th>\n",
       "      <th>group_y</th>\n",
       "      <th>centroid_dist</th>\n",
       "      <th>rotation_angle</th>\n",
       "      <th>eta_group_x</th>\n",
       "      <th>eta_group_y</th>\n",
       "    </tr>\n",
       "  </thead>\n",
       "  <tbody>\n",
       "    <tr>\n",
       "      <th>0</th>\n",
       "      <td>3.151296</td>\n",
       "      <td>0.812570</td>\n",
       "      <td>7.518455</td>\n",
       "      <td>7.539853</td>\n",
       "      <td>1.824990</td>\n",
       "      <td>0.0</td>\n",
       "      <td>0.0</td>\n",
       "      <td>0.0</td>\n",
       "      <td>0.0</td>\n",
       "      <td>0.0</td>\n",
       "      <td>...</td>\n",
       "      <td>0.000205</td>\n",
       "      <td>5.159880e-07</td>\n",
       "      <td>-0.179403</td>\n",
       "      <td>0.578560</td>\n",
       "      <td>0.0</td>\n",
       "      <td>0.0</td>\n",
       "      <td>0.0</td>\n",
       "      <td>0.0</td>\n",
       "      <td>0.0</td>\n",
       "      <td>0.0</td>\n",
       "    </tr>\n",
       "    <tr>\n",
       "      <th>1</th>\n",
       "      <td>3.316522</td>\n",
       "      <td>0.924126</td>\n",
       "      <td>7.518455</td>\n",
       "      <td>0.227481</td>\n",
       "      <td>8.727315</td>\n",
       "      <td>0.0</td>\n",
       "      <td>0.0</td>\n",
       "      <td>0.0</td>\n",
       "      <td>0.0</td>\n",
       "      <td>0.0</td>\n",
       "      <td>...</td>\n",
       "      <td>-0.000398</td>\n",
       "      <td>4.620207e-06</td>\n",
       "      <td>-0.037931</td>\n",
       "      <td>0.118670</td>\n",
       "      <td>0.0</td>\n",
       "      <td>0.0</td>\n",
       "      <td>0.0</td>\n",
       "      <td>0.0</td>\n",
       "      <td>0.0</td>\n",
       "      <td>0.0</td>\n",
       "    </tr>\n",
       "    <tr>\n",
       "      <th>2</th>\n",
       "      <td>3.480186</td>\n",
       "      <td>1.039624</td>\n",
       "      <td>7.539853</td>\n",
       "      <td>0.227481</td>\n",
       "      <td>8.785952</td>\n",
       "      <td>0.0</td>\n",
       "      <td>0.0</td>\n",
       "      <td>0.0</td>\n",
       "      <td>0.0</td>\n",
       "      <td>0.0</td>\n",
       "      <td>...</td>\n",
       "      <td>-0.000909</td>\n",
       "      <td>-1.638707e-06</td>\n",
       "      <td>-0.009764</td>\n",
       "      <td>0.024631</td>\n",
       "      <td>0.0</td>\n",
       "      <td>0.0</td>\n",
       "      <td>0.0</td>\n",
       "      <td>0.0</td>\n",
       "      <td>0.0</td>\n",
       "      <td>0.0</td>\n",
       "    </tr>\n",
       "    <tr>\n",
       "      <th>3</th>\n",
       "      <td>3.643004</td>\n",
       "      <td>1.155970</td>\n",
       "      <td>1.824990</td>\n",
       "      <td>8.727315</td>\n",
       "      <td>8.785952</td>\n",
       "      <td>0.0</td>\n",
       "      <td>0.0</td>\n",
       "      <td>0.0</td>\n",
       "      <td>0.0</td>\n",
       "      <td>0.0</td>\n",
       "      <td>...</td>\n",
       "      <td>-0.002058</td>\n",
       "      <td>-3.182115e-05</td>\n",
       "      <td>-0.005290</td>\n",
       "      <td>0.005300</td>\n",
       "      <td>0.0</td>\n",
       "      <td>0.0</td>\n",
       "      <td>0.0</td>\n",
       "      <td>0.0</td>\n",
       "      <td>0.0</td>\n",
       "      <td>0.0</td>\n",
       "    </tr>\n",
       "    <tr>\n",
       "      <th>4</th>\n",
       "      <td>3.805033</td>\n",
       "      <td>1.272525</td>\n",
       "      <td>7.070194</td>\n",
       "      <td>7.243578</td>\n",
       "      <td>1.924727</td>\n",
       "      <td>0.0</td>\n",
       "      <td>0.0</td>\n",
       "      <td>0.0</td>\n",
       "      <td>0.0</td>\n",
       "      <td>0.0</td>\n",
       "      <td>...</td>\n",
       "      <td>-0.004651</td>\n",
       "      <td>3.400722e-05</td>\n",
       "      <td>-0.004931</td>\n",
       "      <td>0.001306</td>\n",
       "      <td>0.0</td>\n",
       "      <td>0.0</td>\n",
       "      <td>0.0</td>\n",
       "      <td>0.0</td>\n",
       "      <td>0.0</td>\n",
       "      <td>0.0</td>\n",
       "    </tr>\n",
       "  </tbody>\n",
       "</table>\n",
       "<p>5 rows × 86 columns</p>\n",
       "</div>"
      ],
      "text/plain": [
       "     ped1_x    ped1_y      d_w1      d_w2      d_w3  d_w4  d_w5  d_w6  d_w7  \\\n",
       "0  3.151296  0.812570  7.518455  7.539853  1.824990   0.0   0.0   0.0   0.0   \n",
       "1  3.316522  0.924126  7.518455  0.227481  8.727315   0.0   0.0   0.0   0.0   \n",
       "2  3.480186  1.039624  7.539853  0.227481  8.785952   0.0   0.0   0.0   0.0   \n",
       "3  3.643004  1.155970  1.824990  8.727315  8.785952   0.0   0.0   0.0   0.0   \n",
       "4  3.805033  1.272525  7.070194  7.243578  1.924727   0.0   0.0   0.0   0.0   \n",
       "\n",
       "   d_w8  ...  repulse_bound_x  repulse_bound_y   total_x   total_y  group_x  \\\n",
       "0   0.0  ...         0.000205     5.159880e-07 -0.179403  0.578560      0.0   \n",
       "1   0.0  ...        -0.000398     4.620207e-06 -0.037931  0.118670      0.0   \n",
       "2   0.0  ...        -0.000909    -1.638707e-06 -0.009764  0.024631      0.0   \n",
       "3   0.0  ...        -0.002058    -3.182115e-05 -0.005290  0.005300      0.0   \n",
       "4   0.0  ...        -0.004651     3.400722e-05 -0.004931  0.001306      0.0   \n",
       "\n",
       "   group_y  centroid_dist  rotation_angle  eta_group_x  eta_group_y  \n",
       "0      0.0            0.0             0.0          0.0          0.0  \n",
       "1      0.0            0.0             0.0          0.0          0.0  \n",
       "2      0.0            0.0             0.0          0.0          0.0  \n",
       "3      0.0            0.0             0.0          0.0          0.0  \n",
       "4      0.0            0.0             0.0          0.0          0.0  \n",
       "\n",
       "[5 rows x 86 columns]"
      ]
     },
     "execution_count": 3,
     "metadata": {},
     "output_type": "execute_result"
    }
   ],
   "source": [
    "df_n.head()"
   ]
  },
  {
   "cell_type": "code",
   "execution_count": 4,
   "metadata": {},
   "outputs": [
    {
     "data": {
      "text/plain": [
       "Index(['ped1_x', 'ped1_y', 'd_w1', 'd_w2', 'd_w3', 'd_w4', 'd_w5', 'd_w6',\n",
       "       'd_w7', 'd_w8', 'd_w9', 'n_w_x1', 'n_w_y1', 'n_w_x2', 'n_w_y2',\n",
       "       'n_w_x3', 'n_w_y3', 'n_w_x4', 'n_w_y4', 'n_w_x5', 'n_w_y5', 'n_w_x6',\n",
       "       'n_w_y6', 'n_w_x7', 'n_w_y7', 'n_w_x8', 'n_w_y8', 'n_w_x9', 'n_w_y9',\n",
       "       'n_w_bound_x', 'n_w_bound_y', 'd_w_bound', 'goal_x', 'goal_y',\n",
       "       'bound_x', 'bound_y', 'n1_x', 'n1_y', 'n2_x', 'n2_y', 'n3_x', 'n3_y',\n",
       "       'n4_x', 'n4_y', 'n5_x', 'n5_y', 'n6_x', 'n6_y', 'n7_x', 'n7_y', 'n8_x',\n",
       "       'n8_y', 'n9_x', 'n9_y', 'n1_repulse_x', 'n1_repulse_y', 'n2_repulse_x',\n",
       "       'n2_repulse_y', 'n3_repulse_x', 'n3_repulse_y', 'n4_repulse_x',\n",
       "       'n4_repulse_y', 'n5_repulse_x', 'n5_repulse_y', 'n6_repulse_x',\n",
       "       'n6_repulse_y', 'n7_repulse_x', 'n7_repulse_y', 'n8_repulse_x',\n",
       "       'n8_repulse_y', 'n9_repulse_x', 'n9_repulse_y', 'attract_x',\n",
       "       'attract_y', 'repulse_total_x', 'repulse_total_y', 'repulse_bound_x',\n",
       "       'repulse_bound_y', 'total_x', 'total_y', 'group_x', 'group_y',\n",
       "       'centroid_dist', 'rotation_angle', 'eta_group_x', 'eta_group_y'],\n",
       "      dtype='object')"
      ]
     },
     "execution_count": 4,
     "metadata": {},
     "output_type": "execute_result"
    }
   ],
   "source": [
    "df_n.columns"
   ]
  },
  {
   "cell_type": "code",
   "execution_count": 5,
   "metadata": {},
   "outputs": [
    {
     "data": {
      "text/plain": [
       "Index(['n4_repulse_x', 'n4_repulse_y'], dtype='object')"
      ]
     },
     "execution_count": 5,
     "metadata": {},
     "output_type": "execute_result"
    }
   ],
   "source": [
    "df_n.columns[-26:-24]"
   ]
  },
  {
   "cell_type": "code",
   "execution_count": 6,
   "metadata": {},
   "outputs": [],
   "source": [
    "temp_input = df_n.values[:, :2].astype('float32')"
   ]
  },
  {
   "cell_type": "code",
   "execution_count": 7,
   "metadata": {},
   "outputs": [
    {
     "name": "stdout",
     "output_type": "stream",
     "text": [
      "1219391\n"
     ]
    }
   ],
   "source": [
    "print(len(temp_input) - 9)\n",
    "data_length = len(temp_input) - 9"
   ]
  },
  {
   "cell_type": "code",
   "execution_count": 8,
   "metadata": {},
   "outputs": [
    {
     "data": {
      "text/plain": [
       "86"
      ]
     },
     "execution_count": 8,
     "metadata": {},
     "output_type": "execute_result"
    }
   ],
   "source": [
    "len(df_n.columns)"
   ]
  },
  {
   "cell_type": "code",
   "execution_count": 9,
   "metadata": {},
   "outputs": [],
   "source": [
    "# dataset definition\n",
    "# return both trajectories and tw, nw\n",
    "# obstacle -6:-4\n",
    "# neighbour 1: -24:-22\n",
    "class CSVDataset(Dataset):\n",
    "    # load the dataset\n",
    "    def __init__(self, path, data_length2):\n",
    "        # load the csv file as a dataframe\n",
    "        df = pd.read_csv(path, index_col=None)\n",
    "        # print(df.head())\n",
    "        # process input and outputs\n",
    "        temp_input = df.values[:, :2].astype('float32')\n",
    "        # type 2: 0:10, then 1:11 and so on\n",
    "        temp_input2 = []\n",
    "        # print(len(temp_input)-10)\n",
    "        for x in range(0, data_length2, 1):\n",
    "            # print(x)\n",
    "            # print(temp_input[x:(10+x)] - temp_input[x])\n",
    "            temp_input3 = temp_input[x:(10+x)] - temp_input[x]\n",
    "            for z in range(len(temp_input3)):\n",
    "                temp_input2.append(temp_input3[z])\n",
    "        temp_input2 = np.array(temp_input2)\n",
    "        temp_input2 = temp_input2.reshape(data_length2, 20)\n",
    "        \n",
    "        # appending dw, e, and n_w\n",
    "        \n",
    "        temp_e_x = np.reshape(np.array(df[\"goal_x\"][9:], dtype='float32'), (data_length2, 1))\n",
    "        temp_e_y = np.reshape(np.array(df[\"goal_y\"][9:], dtype='float32'), (data_length2, 1))\n",
    "        \n",
    "        temp_dw4 = np.exp(np.reshape(np.array(df[\"d_w4\"][9:], dtype='float32'), (data_length2, 1)))\n",
    "        temp_nw_x4 = np.reshape(np.array(df[\"n_w_x4\"][9:], dtype='float32'), (data_length2, 1))\n",
    "        temp_nw_y4 = np.reshape(np.array(df[\"n_w_y4\"][9:], dtype='float32'), (data_length2, 1))\n",
    "        \n",
    "        temp_input2 = np.concatenate((temp_input2, temp_e_x), axis=1)\n",
    "        temp_input2 = np.concatenate((temp_input2, temp_e_y), axis=1)\n",
    "        \n",
    "        temp_input2 = np.concatenate((temp_input2, temp_dw4), axis=1)\n",
    "        temp_input2 = np.concatenate((temp_input2, temp_nw_x4), axis=1)\n",
    "        temp_input2 = np.concatenate((temp_input2, temp_nw_y4), axis=1)\n",
    "        # 0:20 trajectories, 20:22 goal, 22: dw, nw \n",
    "        \n",
    "        # temp_e_x[temp_e_x == 0.0] = 10\n",
    "        # temp_e_y[temp_e_y == 0.0] = 10\n",
    "        \n",
    "        \n",
    "        # print(temp_e_y)\n",
    "        \"\"\"\n",
    "        \n",
    "        temp_dw1 = np.exp(np.reshape(np.array(df[\"d_w1\"][9:], dtype='float32'), (data_length2, 1)))\n",
    "        temp_nw_x1 = np.reshape(np.array(df[\"n_w_x1\"][9:], dtype='float32'), (data_length2, 1))\n",
    "        temp_nw_y1 = np.reshape(np.array(df[\"n_w_y1\"][9:], dtype='float32'), (data_length2, 1))\n",
    "        \n",
    "        temp_dw2 = np.exp(np.reshape(np.array(df[\"d_w2\"][9:], dtype='float32'), (data_length2, 1)))\n",
    "        temp_nw_x2 = np.reshape(np.array(df[\"n_w_x2\"][9:], dtype='float32'), (data_length2, 1))\n",
    "        temp_nw_y2 = np.reshape(np.array(df[\"n_w_y2\"][9:], dtype='float32'), (data_length2, 1))\n",
    "        \n",
    "        temp_dw3 = np.exp(np.reshape(np.array(df[\"d_w3\"][9:], dtype='float32'), (data_length2, 1)))\n",
    "        temp_nw_x3 = np.reshape(np.array(df[\"n_w_x3\"][9:], dtype='float32'), (data_length2, 1))\n",
    "        temp_nw_y3 = np.reshape(np.array(df[\"n_w_y3\"][9:], dtype='float32'), (data_length2, 1))\n",
    "        \n",
    "        temp_dw4 = np.exp(np.reshape(np.array(df[\"d_w4\"][9:], dtype='float32'), (data_length2, 1)))\n",
    "        temp_nw_x4 = np.reshape(np.array(df[\"n_w_x4\"][9:], dtype='float32'), (data_length2, 1))\n",
    "        temp_nw_y4 = np.reshape(np.array(df[\"n_w_y4\"][9:], dtype='float32'), (data_length2, 1))\n",
    "        \n",
    "        temp_dw5 = np.exp(np.reshape(np.array(df[\"d_w5\"][9:], dtype='float32'), (data_length2, 1)))\n",
    "        temp_nw_x5 = np.reshape(np.array(df[\"n_w_x5\"][9:], dtype='float32'), (data_length2, 1))\n",
    "        temp_nw_y5 = np.reshape(np.array(df[\"n_w_y5\"][9:], dtype='float32'), (data_length2, 1))\n",
    "        \n",
    "        temp_dw6 = np.exp(np.reshape(np.array(df[\"d_w6\"][9:], dtype='float32'), (data_length2, 1)))\n",
    "        temp_nw_x6 = np.reshape(np.array(df[\"n_w_x6\"][9:], dtype='float32'), (data_length2, 1))\n",
    "        temp_nw_y6 = np.reshape(np.array(df[\"n_w_y6\"][9:], dtype='float32'), (data_length2, 1))\n",
    "        \n",
    "        temp_dw7 = np.exp(np.reshape(np.array(df[\"d_w7\"][9:], dtype='float32'), (data_length2, 1)))\n",
    "        temp_nw_x7 = np.reshape(np.array(df[\"n_w_x7\"][9:], dtype='float32'), (data_length2, 1))\n",
    "        temp_nw_y7 = np.reshape(np.array(df[\"n_w_y7\"][9:], dtype='float32'), (data_length2, 1))\n",
    "        \n",
    "        temp_dw8 = np.exp(np.reshape(np.array(df[\"d_w8\"][9:], dtype='float32'), (data_length2, 1)))\n",
    "        temp_nw_x8 = np.reshape(np.array(df[\"n_w_x8\"][9:], dtype='float32'), (data_length2, 1))\n",
    "        temp_nw_y8 = np.reshape(np.array(df[\"n_w_y8\"][9:], dtype='float32'), (data_length2, 1))\n",
    "        \n",
    "        temp_dw9 = np.exp(np.reshape(np.array(df[\"d_w9\"][9:], dtype='float32'), (data_length2, 1)))\n",
    "        temp_nw_x9 = np.reshape(np.array(df[\"n_w_x9\"][9:], dtype='float32'), (data_length2, 1))\n",
    "        temp_nw_y9 = np.reshape(np.array(df[\"n_w_y9\"][9:], dtype='float32'), (data_length2, 1))\n",
    "        \n",
    "        # concatinating (0, 19) == trajectories, [20, 21] == [e_x, e_y] ,[22, 23, 24] == [dw1, nw_x1, nw_y1], \n",
    "        # [25, 26, 27] == [dw2, nw_x2, nw_y2], [28, 29, 30] == [dw3, nw_x3, nw_y3]\n",
    "        \n",
    "        temp_input2 = np.concatenate((temp_input2, temp_e_x), axis=1)\n",
    "        temp_input2 = np.concatenate((temp_input2, temp_e_y), axis=1)\n",
    "        \n",
    "        temp_input2 = np.concatenate((temp_input2, temp_dw1), axis=1)\n",
    "        temp_input2 = np.concatenate((temp_input2, temp_nw_x1), axis=1)\n",
    "        temp_input2 = np.concatenate((temp_input2, temp_nw_y1), axis=1)\n",
    "        \n",
    "        temp_input2 = np.concatenate((temp_input2, temp_dw2), axis=1)\n",
    "        temp_input2 = np.concatenate((temp_input2, temp_nw_x2), axis=1)\n",
    "        temp_input2 = np.concatenate((temp_input2, temp_nw_y2), axis=1)\n",
    "        \n",
    "        temp_input2 = np.concatenate((temp_input2, temp_dw3), axis=1)\n",
    "        temp_input2 = np.concatenate((temp_input2, temp_nw_x3), axis=1)\n",
    "        temp_input2 = np.concatenate((temp_input2, temp_nw_y3), axis=1)\n",
    "        \n",
    "        temp_input2 = np.concatenate((temp_input2, temp_dw4), axis=1)\n",
    "        temp_input2 = np.concatenate((temp_input2, temp_nw_x4), axis=1)\n",
    "        temp_input2 = np.concatenate((temp_input2, temp_nw_y4), axis=1)\n",
    "        \n",
    "        temp_input2 = np.concatenate((temp_input2, temp_dw5), axis=1)\n",
    "        temp_input2 = np.concatenate((temp_input2, temp_nw_x5), axis=1)\n",
    "        temp_input2 = np.concatenate((temp_input2, temp_nw_y5), axis=1)\n",
    "        \n",
    "        temp_input2 = np.concatenate((temp_input2, temp_dw6), axis=1)\n",
    "        temp_input2 = np.concatenate((temp_input2, temp_nw_x6), axis=1)\n",
    "        temp_input2 = np.concatenate((temp_input2, temp_nw_y6), axis=1)\n",
    "        \n",
    "        temp_input2 = np.concatenate((temp_input2, temp_dw7), axis=1)\n",
    "        temp_input2 = np.concatenate((temp_input2, temp_nw_x7), axis=1)\n",
    "        temp_input2 = np.concatenate((temp_input2, temp_nw_y7), axis=1)\n",
    "        \n",
    "        temp_input2 = np.concatenate((temp_input2, temp_dw8), axis=1)\n",
    "        temp_input2 = np.concatenate((temp_input2, temp_nw_x8), axis=1)\n",
    "        temp_input2 = np.concatenate((temp_input2, temp_nw_y8), axis=1)\n",
    "        \n",
    "        temp_input2 = np.concatenate((temp_input2, temp_dw9), axis=1)\n",
    "        temp_input2 = np.concatenate((temp_input2, temp_nw_x9), axis=1)\n",
    "        temp_input2 = np.concatenate((temp_input2, temp_nw_y9), axis=1)\n",
    "        \"\"\"\n",
    "        \n",
    "        print(np.shape(temp_input2))\n",
    "        \n",
    "        temp_out = df.values[:, -26:-24].astype('float32')\n",
    "        temp_out = temp_out[9:]\n",
    "        \n",
    "        # store the inputs and outputs \n",
    "        self.X = temp_input2\n",
    "        self.y = temp_out\n",
    "        # ensure target has the right shape\n",
    "        self.y = self.y.reshape((len(self.y), 2))\n",
    " \n",
    "    # number of rows in the dataset\n",
    "    def __len__(self):\n",
    "        return len(self.X)\n",
    " \n",
    "    # get a row at an index\n",
    "    def __getitem__(self, idx):\n",
    "        return [self.X[idx], self.y[idx]]\n",
    " \n",
    "    # get indexes for train and test rows\n",
    "    def get_splits(self, n_test=0.5):\n",
    "        # determine sizes\n",
    "        test_size_temp = round(n_test * len(self.X))\n",
    "        train_size = len(self.X) - test_size_temp\n",
    "        dev_size = round(.5 * test_size_temp)\n",
    "        test_size = test_size_temp - dev_size\n",
    "        # calculate the split\n",
    "        print(train_size, dev_size, test_size)\n",
    "        return data_utils.dataset.random_split(self, [train_size, dev_size, test_size])"
   ]
  },
  {
   "cell_type": "code",
   "execution_count": 10,
   "metadata": {},
   "outputs": [],
   "source": [
    "# prepare the dataset\n",
    "def prepare_data(path, data_length3):\n",
    "    # load the dataset\n",
    "    dataset = CSVDataset(path, data_length3)\n",
    "    # calculate split\n",
    "    train, dev, test = dataset.get_splits()\n",
    "    # prepare data loaders\n",
    "    train_dl = data_utils.DataLoader(train, batch_size=16, shuffle=True)\n",
    "    dev_dl = data_utils.DataLoader(dev, batch_size=16, shuffle=True)\n",
    "    test_dl = data_utils.DataLoader(test, batch_size=16, shuffle=False)\n",
    "    return train_dl, dev_dl, test_dl"
   ]
  },
  {
   "cell_type": "code",
   "execution_count": 11,
   "metadata": {},
   "outputs": [],
   "source": [
    "# Total Net1 , predicts fo, fw and then finally total f \n",
    "# concatinating (0, 19) == trajectories, [20, 21] == [e_x, e_y] ,[22] = dw1 , [23, 24] == [nw_x1, nw_y1], \n",
    "# [25] = dw2, [26, 27] == [nw_x2, nw_y2], [28] = dw3,  [29, 30] == [nw_x3, nw_y3]\n",
    "# here, dw is actually e^dw\n",
    "\n",
    "class Net3_ped4(nn.Module):\n",
    "    # only attract and ped repulse here. boundary repulse can be easily added\n",
    "    def __init__(self):\n",
    "        super().__init__()\n",
    "        \n",
    "        # net2 starts // inputs: e^dw1 and [nw_x1, nw_y1], e_x and e_y\n",
    "        self.fc1 = nn.Linear(3, 2)\n",
    "        self.fc2 = nn.Linear(5, 2)\n",
    "        self.fc3 = nn.Linear(4, 2)        \n",
    "\n",
    "    def forward(self, e, x3):\n",
    "        # x3 = (e^dw1, nw_x1, nw_y1)\n",
    "        \n",
    "        x3_alt_input = torch.cat((e, x3), 1)\n",
    "        x3 = torch.relu(self.fc1(x3))\n",
    "        # x3_alt_temp = torch.cat((e, x3))\n",
    "        x3_alt = torch.relu(self.fc2(x3_alt_input))\n",
    "        x3_temp = torch.cat((x3, x3_alt), 1)\n",
    "        \n",
    "        x = self.fc3(x3_temp)\n",
    "        \n",
    "        return x"
   ]
  },
  {
   "cell_type": "code",
   "execution_count": 12,
   "metadata": {},
   "outputs": [],
   "source": [
    "# data_path_final = \"C:/Users/sakif/jupyter projects/thesis_test/modular test/ped_group_data_1000.csv\"\n",
    "data_path_final = \"C:/Users/sakif/jupyter projects/thesis_test/modular test/ped_group_data_final_1000_group_fixed.csv\""
   ]
  },
  {
   "cell_type": "code",
   "execution_count": 13,
   "metadata": {},
   "outputs": [
    {
     "name": "stdout",
     "output_type": "stream",
     "text": [
      "(1219391, 25)\n",
      "609695 304848 304848\n"
     ]
    }
   ],
   "source": [
    "train_dl, dev_dl, test_dl = prepare_data(data_path_final, data_length)"
   ]
  },
  {
   "cell_type": "code",
   "execution_count": 14,
   "metadata": {},
   "outputs": [
    {
     "name": "stdout",
     "output_type": "stream",
     "text": [
      "Net3_ped4(\n",
      "  (fc1): Linear(in_features=3, out_features=2, bias=True)\n",
      "  (fc2): Linear(in_features=5, out_features=2, bias=True)\n",
      "  (fc3): Linear(in_features=4, out_features=2, bias=True)\n",
      ")\n"
     ]
    }
   ],
   "source": [
    "net3_ped4 = Net3_ped4()\n",
    "print(net3_ped4)"
   ]
  },
  {
   "cell_type": "code",
   "execution_count": 15,
   "metadata": {},
   "outputs": [],
   "source": [
    "# make a class prediction for one row of data\n",
    "def predict(row, model):\n",
    "    # convert row to data\n",
    "    row = torch.Tensor([row])\n",
    "    # make prediction\n",
    "    yhat = model(row)\n",
    "    # retrieve numpy array\n",
    "    yhat = yhat.detach().numpy()\n",
    "    return yhat"
   ]
  },
  {
   "cell_type": "code",
   "execution_count": 16,
   "metadata": {},
   "outputs": [],
   "source": [
    "from sklearn.metrics import mean_squared_error"
   ]
  },
  {
   "cell_type": "code",
   "execution_count": 17,
   "metadata": {},
   "outputs": [],
   "source": [
    "# evaluate the model\n",
    "\n",
    "def evaluate_model(test_dl, model):\n",
    "    predictions, actuals = list(), list()\n",
    "    for i, (inputs, targets) in enumerate(test_dl):\n",
    "        # evaluate the model on the test set\n",
    "        # 0:20 trajectories, 20:22 goal, 22: dw, nw\n",
    "        goal2 = inputs[:, 20:22]\n",
    "        x3 = inputs[:, 22:]\n",
    "        # x3 = inputs[:, 22:25]\n",
    "        # x4 = inputs[:, 25:28]\n",
    "        # x5 = inputs[:, 28:]\n",
    "        yhat = model(goal2, x3)\n",
    "        # retrieve numpy array\n",
    "        yhat = yhat.detach().numpy()\n",
    "        actual = targets.numpy()\n",
    "        actual = actual.reshape((len(actual), 2))\n",
    "        # store\n",
    "        predictions.append(yhat)\n",
    "        actuals.append(actual)\n",
    "    predictions, actuals = np.vstack(predictions), np.vstack(actuals)\n",
    "    # calculate mse\n",
    "    mse = mean_squared_error(actuals, predictions)\n",
    "    # mse = np.mean((actuals - predictions)**2)\n",
    "    return mse"
   ]
  },
  {
   "cell_type": "code",
   "execution_count": 18,
   "metadata": {},
   "outputs": [],
   "source": [
    "loss_function = nn.MSELoss()\n",
    "optimizer = optim.Adam(net3_ped4.parameters(), lr=0.001)"
   ]
  },
  {
   "cell_type": "code",
   "execution_count": 19,
   "metadata": {},
   "outputs": [],
   "source": [
    "loss_array = []\n",
    "x_array = []\n",
    "dev_loss_array = []"
   ]
  },
  {
   "cell_type": "code",
   "execution_count": 20,
   "metadata": {},
   "outputs": [
    {
     "name": "stdout",
     "output_type": "stream",
     "text": [
      "epoch no:  0\n",
      "0.0005803406820632517\n",
      "MSE_dev: 0.01269870, RMSE: 0.1127\n",
      "epoch no:  1\n",
      "3.724656562553719e-05\n",
      "MSE_dev: 0.01268953, RMSE: 0.1126\n",
      "epoch no:  2\n",
      "0.03664352744817734\n",
      "MSE_dev: 0.01268946, RMSE: 0.1126\n",
      "epoch no:  3\n",
      "0.00594226224347949\n",
      "MSE_dev: 0.01272989, RMSE: 0.1128\n",
      "epoch no:  4\n",
      "0.0003523609775584191\n",
      "MSE_dev: 0.01270203, RMSE: 0.1127\n",
      "epoch no:  5\n",
      "0.01331313606351614\n",
      "MSE_dev: 0.01271200, RMSE: 0.1127\n",
      "epoch no:  6\n",
      "0.019658200442790985\n",
      "MSE_dev: 0.01270396, RMSE: 0.1127\n",
      "epoch no:  7\n",
      "0.0004299570282455534\n",
      "MSE_dev: 0.01271947, RMSE: 0.1128\n",
      "epoch no:  8\n",
      "0.023958683013916016\n",
      "MSE_dev: 0.01270306, RMSE: 0.1127\n",
      "epoch no:  9\n",
      "0.00866248644888401\n",
      "MSE_dev: 0.01269744, RMSE: 0.1127\n"
     ]
    }
   ],
   "source": [
    "for epoch in range(10):\n",
    "    # enumerate mini batches\n",
    "    for i, (inputs, targets) in enumerate(train_dl):\n",
    "        \n",
    "        # clear the gradients\n",
    "        optimizer.zero_grad()\n",
    "        # concatinating (0, 19) == trajectories, [20, 21] == [e_x, e_y] ,[22] = dw1 , [23, 24] == [nw_x1, nw_y1], \n",
    "        # [25] = dw2, [26, 27] == [nw_x2, nw_y2], [28] = dw3,  [29, 30] == [nw_x3, nw_y3]\n",
    "        # 0:20 trajectories, 20:22 goal, 22: dw, nw\n",
    "        goal2 = inputs[:, 20:22]\n",
    "        x3 = inputs[:, 22:]\n",
    "        # goal2 = torch.Tensor(goal2)\n",
    "        # x1, goal = speed_finder(inputs)\n",
    "        yhat = net3_ped4(goal2, x3)\n",
    "        # calculate loss\n",
    "        loss = loss_function(yhat, targets)\n",
    "        # credit assignment\n",
    "        loss.backward()\n",
    "        # update model weights\n",
    "        optimizer.step()\n",
    "    print(\"epoch no: \", epoch)\n",
    "    print(loss.item())\n",
    "    loss_array.append(loss.item())\n",
    "    x_array.append(epoch)\n",
    "    \n",
    "    # evaluate dev\n",
    "    mse = evaluate_model(dev_dl, net3_ped4)\n",
    "    dev_loss_array.append(mse)\n",
    "    print('MSE_dev: %.8f, RMSE: %.4f' % (mse, np.sqrt(mse)))"
   ]
  },
  {
   "cell_type": "code",
   "execution_count": 21,
   "metadata": {},
   "outputs": [],
   "source": [
    "from matplotlib import pyplot as plt"
   ]
  },
  {
   "cell_type": "code",
   "execution_count": 22,
   "metadata": {},
   "outputs": [
    {
     "name": "stdout",
     "output_type": "stream",
     "text": [
      "MSE_dev: 0.0125311594456434, RMSE: 0.1119\n"
     ]
    }
   ],
   "source": [
    "mse = evaluate_model(test_dl, net3_ped4)\n",
    "print('MSE_dev: %.16f, RMSE: %.4f' % (mse, np.sqrt(mse)))"
   ]
  },
  {
   "cell_type": "code",
   "execution_count": 23,
   "metadata": {},
   "outputs": [
    {
     "data": {
      "image/png": "[encoded data removed]",
      "text/plain": [
       "<Figure size 432x288 with 1 Axes>"
      ]
     },
     "metadata": {
      "needs_background": "light"
     },
     "output_type": "display_data"
    }
   ],
   "source": [
    "# 10 hidden layers\n",
    "plt.plot(x_array, loss_array, color=\"black\")\n",
    "plt.plot(x_array, dev_loss_array, color=\"blue\")\n",
    "plt.show()"
   ]
  },
  {
   "cell_type": "code",
   "execution_count": 53,
   "metadata": {},
   "outputs": [
    {
     "data": {
      "image/png": "[encoded data removed]",
      "text/plain": [
       "<Figure size 432x288 with 1 Axes>"
      ]
     },
     "metadata": {
      "needs_background": "light"
     },
     "output_type": "display_data"
    }
   ],
   "source": [
    "# 20 hidden layers\n",
    "plt.plot(x_array, loss_array, color=\"black\")\n",
    "plt.plot(x_array, dev_loss_array, color=\"blue\")\n",
    "plt.show()"
   ]
  },
  {
   "cell_type": "code",
   "execution_count": 68,
   "metadata": {},
   "outputs": [
    {
     "data": {
      "image/png": "[encoded data removed]",
      "text/plain": [
       "<Figure size 432x288 with 1 Axes>"
      ]
     },
     "metadata": {
      "needs_background": "light"
     },
     "output_type": "display_data"
    }
   ],
   "source": [
    "# 50 hidden layers\n",
    "plt.plot(x_array, loss_array, color=\"black\")\n",
    "plt.plot(x_array, dev_loss_array, color=\"blue\")\n",
    "plt.show()"
   ]
  },
  {
   "cell_type": "code",
   "execution_count": 24,
   "metadata": {},
   "outputs": [],
   "source": [
    "# epoch: 10\n",
    "# loss: 0.00013872241834178567\n",
    "torch.save(net3_ped4.state_dict(), \"C:/Users/sakif/jupyter projects/thesis_test/modular test/weights/net3_ped4.pth\")"
   ]
  },
  {
   "cell_type": "code",
   "execution_count": null,
   "metadata": {},
   "outputs": [],
   "source": []
  }
 ],
 "metadata": {
  "kernelspec": {
   "display_name": "Python 3 (ipykernel)",
   "language": "python",
   "name": "python3"
  },
  "language_info": {
   "codemirror_mode": {
    "name": "ipython",
    "version": 3
   },
   "file_extension": ".py",
   "mimetype": "text/x-python",
   "name": "python",
   "nbconvert_exporter": "python",
   "pygments_lexer": "ipython3",
   "version": "3.7.1"
  }
 },
 "nbformat": 4,
 "nbformat_minor": 4
}
