{
 "cells": [
  {
   "cell_type": "code",
   "execution_count": 749,
   "metadata": {},
   "outputs": [],
   "source": [
    "from filterpy.common import kinematic_kf\n",
    "import numpy as np\n",
    "from filterpy.kalman import IMMEstimator\n",
    "import math\n",
    "from filterpy.kalman import KalmanFilter\n",
    "import pandas as pd"
   ]
  },
  {
   "cell_type": "code",
   "execution_count": 1171,
   "metadata": {},
   "outputs": [],
   "source": [
    "def state_transition_matrix(v, yaw, T):\n",
    "    term13 = (v/yaw) * (-math.cos(yaw) + math.cos(T * yaw + yaw))\n",
    "    term14 = (-math.sin(yaw) + math.sin(T * yaw + yaw))/yaw\n",
    "    term15 = T * v * math.cos(T * yaw + yaw)/ yaw - v * (-math.sin(yaw) + math.sin(T * yaw + yaw)) / yaw **2\n",
    "    term23 = (v/yaw) * (-math.sin(yaw) + math.sin(T * yaw + yaw))\n",
    "    term24 = (math.cos(yaw) - math.cos(T * yaw + yaw)) / yaw\n",
    "    term25 = T * v * math.sin(T * yaw + yaw)/ yaw - v * (math.cos(yaw) - math.cos(T * yaw + yaw)) / yaw **2\n",
    "    state_transition_matrix = np.array([[1, 0, term13, term14, term15],\n",
    "                                        [0, 1, term23, term24, term25],\n",
    "                                        [0, 0, 1, 0, T],\n",
    "                                        [0, 0, 0, 1, 0],\n",
    "                                        [0, 0, 0, 0, 1]])\n",
    "    return state_transition_matrix\n",
    "\n",
    "def direction(current_state, destination_state):\n",
    "    # atan2(b1−a1,b2−a2)\n",
    "    directions1 = np.linalg.norm((np.array(destination_state) - np.array(current_state)))\n",
    "    # dest_tempp = np.array(destination_state) - np.array(current_state)\n",
    "    # temp_d = math.atan2(dest_tempp[0], dest_tempp[1])\n",
    "    # directions1 = math.degrees(temp_d)\n",
    "    # print(directions1)\n",
    "    return directions1"
   ]
  },
  {
   "cell_type": "code",
   "execution_count": 751,
   "metadata": {},
   "outputs": [],
   "source": [
    "test_df_path = \"C:/Users/sakif/jupyter projects/thesis_test/modular test/Untitled Folder/eth_data_prepared_normal3.csv\"\n",
    "# delta_t = 0.4"
   ]
  },
  {
   "cell_type": "code",
   "execution_count": 752,
   "metadata": {},
   "outputs": [],
   "source": [
    "test_df = pd.read_csv(test_df_path, index_col=None)"
   ]
  },
  {
   "cell_type": "code",
   "execution_count": 753,
   "metadata": {},
   "outputs": [],
   "source": [
    "unique_peds = np.unique(test_df['ped_no'])\n",
    "dest_all = []\n",
    "for n in range(len(unique_peds)):\n",
    "    test_df_indiv2 = test_df.loc[test_df['ped_no'] == unique_peds[n]]\n",
    "    input_xy_temp2 = np.array(test_df_indiv2[['pos_x', 'pos_y']])\n",
    "    dest_temp = input_xy_temp2[-1]\n",
    "    dest_all.append(dest_temp)\n",
    "dest_all = np.array(dest_all)\n",
    "# dest_all"
   ]
  },
  {
   "cell_type": "code",
   "execution_count": 754,
   "metadata": {},
   "outputs": [],
   "source": [
    "import matplotlib.pyplot as plt"
   ]
  },
  {
   "cell_type": "code",
   "execution_count": 755,
   "metadata": {},
   "outputs": [
    {
     "data": {
      "text/plain": [
       "354.0"
      ]
     },
     "execution_count": 755,
     "metadata": {},
     "output_type": "execute_result"
    }
   ],
   "source": [
    "len(np.unique(dest_all))/2"
   ]
  },
  {
   "cell_type": "code",
   "execution_count": 756,
   "metadata": {},
   "outputs": [],
   "source": [
    "from sklearn.cluster import KMeans"
   ]
  },
  {
   "cell_type": "code",
   "execution_count": 757,
   "metadata": {},
   "outputs": [
    {
     "data": {
      "text/plain": [
       "array([[12.65814642,  5.53807136],\n",
       "       [-2.42247966,  1.8782528 ],\n",
       "       [ 3.16009339,  5.38515784],\n",
       "       [-1.67269075,  7.75310654]])"
      ]
     },
     "execution_count": 757,
     "metadata": {},
     "output_type": "execute_result"
    }
   ],
   "source": [
    "kmeans = KMeans(n_clusters=4, random_state=0).fit(dest_all)\n",
    "center_points = kmeans.cluster_centers_\n",
    "center_points"
   ]
  },
  {
   "cell_type": "code",
   "execution_count": 758,
   "metadata": {},
   "outputs": [
    {
     "data": {
      "text/plain": [
       "<matplotlib.collections.PathCollection at 0x1e5c3095898>"
      ]
     },
     "execution_count": 758,
     "metadata": {},
     "output_type": "execute_result"
    },
    {
     "data": {
      "image/png": "[encoded data removed]",
      "text/plain": [
       "<Figure size 432x288 with 1 Axes>"
      ]
     },
     "metadata": {
      "needs_background": "light"
     },
     "output_type": "display_data"
    }
   ],
   "source": [
    "plt.scatter(dest_all[:, 0], dest_all[:, 1])\n",
    "plt.xlim(-10, 17)\n",
    "plt.ylim(-10, 17)\n",
    "plt.scatter(center_points[:, 0], center_points[:, 1], c=[\"red\", \"black\", \"yellow\", \"magenta\"], marker=\"X\", s=100)"
   ]
  },
  {
   "cell_type": "code",
   "execution_count": 962,
   "metadata": {},
   "outputs": [],
   "source": [
    "# dataframe for individual pedestrian \n",
    "test_df_indiv = test_df.loc[test_df['ped_no'] == 12]\n",
    "# test_df_indiv = test_df_indiv.loc[test_df_indiv['frame_id'] >= 846]"
   ]
  },
  {
   "cell_type": "code",
   "execution_count": 963,
   "metadata": {},
   "outputs": [],
   "source": [
    "input_xy_temp = np.array(test_df_indiv[[\"pos_x\", \"pos_y\"]])"
   ]
  },
  {
   "cell_type": "code",
   "execution_count": 964,
   "metadata": {},
   "outputs": [
    {
     "data": {
      "text/plain": [
       "33"
      ]
     },
     "execution_count": 964,
     "metadata": {},
     "output_type": "execute_result"
    }
   ],
   "source": [
    "len(input_xy_temp)\n",
    "# len(input_xy_temp[10:])"
   ]
  },
  {
   "cell_type": "code",
   "execution_count": 965,
   "metadata": {},
   "outputs": [
    {
     "data": {
      "text/plain": [
       "array([[12.093503  ,  6.9491148 ],\n",
       "       [11.677707  ,  6.9380927 ],\n",
       "       [11.256787  ,  6.9269347 ],\n",
       "       [10.830646  ,  6.9156383 ],\n",
       "       [10.433467  ,  6.7836326 ],\n",
       "       [10.074596  ,  6.7267811 ],\n",
       "       [ 9.6663374 ,  6.5522283 ],\n",
       "       [ 9.3397096 ,  6.4911244 ],\n",
       "       [ 9.006079  ,  6.3488821 ],\n",
       "       [ 8.6729785 ,  6.28618   ],\n",
       "       [ 8.2112039 ,  6.2295435 ],\n",
       "       [ 7.7835489 ,  6.1289142 ],\n",
       "       [ 7.3505405 ,  6.0270252 ],\n",
       "       [ 6.8732599 ,  6.0091402 ],\n",
       "       [ 6.4288714 ,  5.9051721 ],\n",
       "       [ 5.978812  ,  5.7998772 ],\n",
       "       [ 5.4830124 ,  5.7801208 ],\n",
       "       [ 5.0692403 ,  5.7133218 ],\n",
       "       [ 4.6017793 ,  5.6047765 ],\n",
       "       [ 4.1367541 ,  5.6245858 ],\n",
       "       [ 3.7577338 ,  5.5971544 ],\n",
       "       [ 3.3180835 ,  5.4402314 ],\n",
       "       [ 2.8791922 ,  5.3694336 ],\n",
       "       [ 2.4351154 ,  5.2977993 ],\n",
       "       [ 1.9791737 ,  5.1361458 ],\n",
       "       [ 1.5743182 ,  5.0605252 ],\n",
       "       [ 1.1145162 ,  4.9857625 ],\n",
       "       [ 0.69320737,  4.8176517 ],\n",
       "       [ 0.27434693,  4.738989  ],\n",
       "       [-0.20894471,  4.5689783 ],\n",
       "       [-0.6532613 ,  4.3027821 ],\n",
       "       [-0.99210509,  4.0776613 ],\n",
       "       [-1.7175713 ,  3.8102603 ]])"
      ]
     },
     "execution_count": 965,
     "metadata": {},
     "output_type": "execute_result"
    }
   ],
   "source": [
    "input_xy_temp"
   ]
  },
  {
   "cell_type": "code",
   "execution_count": 978,
   "metadata": {},
   "outputs": [
    {
     "data": {
      "text/plain": [
       "(-10.0, 17.0)"
      ]
     },
     "execution_count": 978,
     "metadata": {},
     "output_type": "execute_result"
    },
    {
     "data": {
      "image/png": "[encoded data removed]",
      "text/plain": [
       "<Figure size 432x288 with 1 Axes>"
      ]
     },
     "metadata": {
      "needs_background": "light"
     },
     "output_type": "display_data"
    }
   ],
   "source": [
    "plt.scatter(input_xy_temp[:, 0], input_xy_temp[:, 1])\n",
    "plt.scatter(dest_list[:, 0], dest_list[:, 1], c=[\"black\", \"red\", \"green\", \"yellow\"])\n",
    "plt.xlim(-10, 17)\n",
    "plt.ylim(-10, 17)"
   ]
  },
  {
   "cell_type": "code",
   "execution_count": 979,
   "metadata": {},
   "outputs": [
    {
     "data": {
      "text/plain": [
       "'\\nstart = [2, 10.3]\\nend_straight = [3, 0.8]\\nend_left = [-2.8, 5.5]\\nend_right = [8.3, 5.5]\\nv = 0.707\\ndelta_t = 0.1\\n'"
      ]
     },
     "execution_count": 979,
     "metadata": {},
     "output_type": "execute_result"
    }
   ],
   "source": [
    "\"\"\"\n",
    "start = [2, 10.3]\n",
    "end_straight = [3, 0.8]\n",
    "end_left = [-2.8, 5.5]\n",
    "end_right = [8.3, 5.5]\n",
    "v = 0.707\n",
    "delta_t = 0.1\n",
    "\"\"\"\n",
    " # sGPS: assume 8.8m/s2 as maximum acceleration, forcing the vehicle\n",
    "#sCOURSE: assume 0.1rad/s as maximum turn rate for the vehicle\n",
    "# sVelocity: assume 8.8m/s2 as maximum acceleration, forcing the vehicle\n",
    "# sYaw: assume 1.0rad/s2 as the maximum turn rate acceleration for the vehicle"
   ]
  },
  {
   "cell_type": "code",
   "execution_count": 980,
   "metadata": {},
   "outputs": [
    {
     "data": {
      "text/plain": [
       "array([[-2.        ,  5.8566027 ],\n",
       "       [-6.5902743 ,  0.06572437],\n",
       "       [-6.5553084 , 11.867515  ],\n",
       "       [15.10717   ,  5.5659299 ]])"
      ]
     },
     "execution_count": 980,
     "metadata": {},
     "output_type": "execute_result"
    }
   ],
   "source": [
    "dest_list = np.array(((-2, 5.8566027), (-6.5902743, 0.065724367), (-6.5553084, 11.867515), (15.10717, 5.5659299)))\n",
    "# dest_list = center_points\n",
    "dest_list"
   ]
  },
  {
   "cell_type": "code",
   "execution_count": 1195,
   "metadata": {},
   "outputs": [],
   "source": [
    "def imm_dest_filter(input_xy_temp, dest_list):\n",
    "    start = input_xy_temp[0]\n",
    "    # zone1, zone2, zone3, zone4 = [-2, 5.8566027], [-6.5902743, 0.065724367], [-6.5553084, 1.1867515], [15.10717, 5.5659299]\n",
    "    zone1, zone2, zone3, zone4 = dest_list[0], dest_list[1], dest_list[2], dest_list[3]\n",
    "    v, delta_t = 0.707, 0.4\n",
    "\n",
    "    kf1 = KalmanFilter(dim_x=5, dim_z=2)\n",
    "    kf2 = KalmanFilter(dim_x=5, dim_z=2)\n",
    "    kf3 = KalmanFilter(dim_x=5, dim_z=2)\n",
    "    kf4 = KalmanFilter(dim_x=5, dim_z=2)\n",
    "\n",
    "    directions1, directions2, directions3 = direction(start, zone1), direction(start, zone2), direction(start, zone3)\n",
    "    directions4 = direction(start, zone4)\n",
    "\n",
    "    state_transition1 = state_transition_matrix(v, directions1, delta_t)\n",
    "    state_transition2 = state_transition_matrix(v, directions2, delta_t)\n",
    "    state_transition3 = state_transition_matrix(v, directions3, delta_t)\n",
    "    state_transition4 = state_transition_matrix(v, directions4, delta_t)\n",
    "\n",
    "    kf1.F, kf2.F, kf3.F, kf4.F = state_transition1, state_transition2, state_transition3, state_transition4\n",
    "\n",
    "    # define initial state [x, y, yaw, velocity, yaw*dt]\n",
    "    kf1.x = np.array([input_xy_temp[0, 0], input_xy_temp[0, 1], directions1, v, directions1*delta_t])\n",
    "    kf2.x = np.array([input_xy_temp[0, 0], input_xy_temp[0, 1], directions2, v, directions2*delta_t])\n",
    "    kf3.x = np.array([input_xy_temp[0, 0], input_xy_temp[0, 1], directions3, v, directions3*delta_t])\n",
    "    kf4.x = np.array([input_xy_temp[0, 0], input_xy_temp[0, 1], directions4, v, directions4*delta_t])\n",
    "\n",
    "    sGPS, sCourse, sVelocity, sYaw = 0.5*8.8*delta_t**2, 0.1*delta_t, 8.8*delta_t, 1.0*delta_t\n",
    "    temp_q = np.diag([sGPS**2, sGPS**2, sCourse**2, sVelocity**2, sYaw**2])\n",
    "    # process noise\n",
    "    kf1.Q, kf2.Q, kf3.Q, kf4.Q = temp_q, temp_q, temp_q, temp_q\n",
    "    # measurement noise\n",
    "    kf1.R, kf2.R, kf3.R, kf4.R = np.identity(2)*5, np.identity(2)*5, np.identity(2)*5, np.identity(2)*5\n",
    "    # Define the covariance matrix.\n",
    "    # Here I take advantage of the fact that P already contains np.eye(dim_x), and just multiply by the uncertainty:\n",
    "    kf1.P *= 10; kf2.P *= 10; kf3.P *= 10; kf4.P *= 10\n",
    "\n",
    "    # define measurement function\n",
    "    kf1.H = np.array([[1.0, 0.0, 0.0, 0.0, 0.0],\n",
    "                    [0.0, 1.0, 0.0, 0.0, 0.0]])\n",
    "    kf2.H = np.array([[1.0, 0.0, 0.0, 0.0, 0.0],\n",
    "                    [0.0, 1.0, 0.0, 0.0, 0.0]])\n",
    "    kf3.H = np.array([[1.0, 0.0, 0.0, 0.0, 0.0],\n",
    "                    [0.0, 1.0, 0.0, 0.0, 0.0]])\n",
    "    kf4.H = np.array([[1.0, 0.0, 0.0, 0.0, 0.0],\n",
    "                    [0.0, 1.0, 0.0, 0.0, 0.0]])\n",
    "\n",
    "    filters = [kf1, kf2, kf3, kf4]\n",
    "\n",
    "    mu = [0.25, 0.25, 0.25, 0.25] # each filter is equally likely at the start\n",
    "\n",
    "    trans = np.array([[0.90, 0.033, 0.033, 0.033], \n",
    "                      [0.033, 0.90, 0.033, 0.033], \n",
    "                      [0.033, 0.033, 0.90, 0.033],\n",
    "                      [0.033, 0.033, 0.033, 0.90]\n",
    "                     ]) \n",
    "    # M[i,j] is the probability of switching from filter j to filter i.\n",
    "\n",
    "    imm = IMMEstimator(filters, mu, trans)\n",
    "    for i in range(len(input_xy_temp)):\n",
    "        z = input_xy_temp[i]\n",
    "        imm.predict()\n",
    "        imm.update(z)\n",
    "    chosen_filter = np.argmax(imm.mu)\n",
    "    estimated_destination = dest_list[chosen_filter]\n",
    "    # print(\"Highest probability: \", np.max(imm.mu))\n",
    "    return estimated_destination"
   ]
  },
  {
   "cell_type": "code",
   "execution_count": 1196,
   "metadata": {},
   "outputs": [
    {
     "data": {
      "text/plain": [
       "33"
      ]
     },
     "execution_count": 1196,
     "metadata": {},
     "output_type": "execute_result"
    }
   ],
   "source": [
    "len(input_xy_temp)"
   ]
  },
  {
   "cell_type": "code",
   "execution_count": 1197,
   "metadata": {},
   "outputs": [
    {
     "data": {
      "text/plain": [
       "array([-2.       ,  5.8566027])"
      ]
     },
     "execution_count": 1197,
     "metadata": {},
     "output_type": "execute_result"
    }
   ],
   "source": [
    "my_filter = imm_dest_filter(input_xy_temp, dest_list)\n",
    "my_filter"
   ]
  },
  {
   "cell_type": "code",
   "execution_count": 1198,
   "metadata": {},
   "outputs": [
    {
     "data": {
      "text/plain": [
       "360"
      ]
     },
     "execution_count": 1198,
     "metadata": {},
     "output_type": "execute_result"
    }
   ],
   "source": [
    "unique_peds = np.unique(test_df['ped_no'])\n",
    "dest_list = np.array(((-2, 5.8566027), (-6.5902743, 0.065724367), (-6.5553084, 11.867515), (15.10717, 5.5659299)))\n",
    "estimated_dest_list = []\n",
    "for n in range(len(unique_peds)):\n",
    "    test_df_indiv3 = test_df.loc[test_df['ped_no'] == unique_peds[n]]\n",
    "    input_xy_temp3 = np.array(test_df_indiv3[['pos_x', 'pos_y']])\n",
    "    estimated_dest_temp = imm_dest_filter(input_xy_temp3, dest_list)\n",
    "    estimated_dest_list.append(estimated_dest_temp)\n",
    "    # dest_temp = input_xy_temp2[-1]\n",
    "    # dest_all.append(dest_temp)\n",
    "#dest_all = np.array(dest_all)\n",
    "estimated_dest_list = np.array(estimated_dest_list)\n",
    "len(estimated_dest_list)"
   ]
  },
  {
   "cell_type": "code",
   "execution_count": 1199,
   "metadata": {},
   "outputs": [
    {
     "data": {
      "text/plain": [
       "360"
      ]
     },
     "execution_count": 1199,
     "metadata": {},
     "output_type": "execute_result"
    }
   ],
   "source": [
    "actual_dest_list = []\n",
    "for n in range(len(unique_peds)):\n",
    "    test_df_indiv3 = test_df.loc[test_df['ped_no'] == unique_peds[n]]\n",
    "    input_xy_temp3 = np.array(test_df_indiv3[['pos_x', 'pos_y']])\n",
    "    temp_n = np.argmin(np.linalg.norm((dest_list - input_xy_temp3[-1]), axis=1))\n",
    "    temp_n2 = dest_list[temp_n]\n",
    "    actual_dest_list.append(temp_n2)\n",
    "actual_dest_list = np.array(actual_dest_list)\n",
    "len(actual_dest_list)"
   ]
  },
  {
   "cell_type": "code",
   "execution_count": 1200,
   "metadata": {},
   "outputs": [
    {
     "data": {
      "text/plain": [
       "218.0"
      ]
     },
     "execution_count": 1200,
     "metadata": {},
     "output_type": "execute_result"
    }
   ],
   "source": [
    "np.count_nonzero(actual_dest_list == estimated_dest_list)/2"
   ]
  },
  {
   "cell_type": "code",
   "execution_count": 1184,
   "metadata": {},
   "outputs": [
    {
     "data": {
      "text/plain": [
       "0.725"
      ]
     },
     "execution_count": 1184,
     "metadata": {},
     "output_type": "execute_result"
    }
   ],
   "source": [
    "261/360\n",
    "#temp_input_new = np.concatenate((input_xy_temp[0:3], input_xy_temp[8:11], input_xy_temp[16:19], input_xy_temp[24:27]), axis=0)\n",
    "# temp_input_new"
   ]
  },
  {
   "cell_type": "code",
   "execution_count": 1201,
   "metadata": {},
   "outputs": [],
   "source": [
    "df_dest = pd.DataFrame(data=estimated_dest_list, index= unique_peds)\n",
    "df_dest = df_dest.rename(columns={0: \"dest_x\", 1: \"dest_y\"})"
   ]
  },
  {
   "cell_type": "code",
   "execution_count": 1202,
   "metadata": {},
   "outputs": [
    {
     "data": {
      "text/html": [
       "<div>\n",
       "<style scoped>\n",
       "    .dataframe tbody tr th:only-of-type {\n",
       "        vertical-align: middle;\n",
       "    }\n",
       "\n",
       "    .dataframe tbody tr th {\n",
       "        vertical-align: top;\n",
       "    }\n",
       "\n",
       "    .dataframe thead th {\n",
       "        text-align: right;\n",
       "    }\n",
       "</style>\n",
       "<table border=\"1\" class=\"dataframe\">\n",
       "  <thead>\n",
       "    <tr style=\"text-align: right;\">\n",
       "      <th></th>\n",
       "      <th>dest_x</th>\n",
       "      <th>dest_y</th>\n",
       "    </tr>\n",
       "  </thead>\n",
       "  <tbody>\n",
       "    <tr>\n",
       "      <th>1</th>\n",
       "      <td>-6.555308</td>\n",
       "      <td>11.867515</td>\n",
       "    </tr>\n",
       "    <tr>\n",
       "      <th>2</th>\n",
       "      <td>-2.000000</td>\n",
       "      <td>5.856603</td>\n",
       "    </tr>\n",
       "    <tr>\n",
       "      <th>3</th>\n",
       "      <td>-2.000000</td>\n",
       "      <td>5.856603</td>\n",
       "    </tr>\n",
       "    <tr>\n",
       "      <th>4</th>\n",
       "      <td>15.107170</td>\n",
       "      <td>5.565930</td>\n",
       "    </tr>\n",
       "    <tr>\n",
       "      <th>5</th>\n",
       "      <td>15.107170</td>\n",
       "      <td>5.565930</td>\n",
       "    </tr>\n",
       "    <tr>\n",
       "      <th>...</th>\n",
       "      <td>...</td>\n",
       "      <td>...</td>\n",
       "    </tr>\n",
       "    <tr>\n",
       "      <th>363</th>\n",
       "      <td>15.107170</td>\n",
       "      <td>5.565930</td>\n",
       "    </tr>\n",
       "    <tr>\n",
       "      <th>364</th>\n",
       "      <td>15.107170</td>\n",
       "      <td>5.565930</td>\n",
       "    </tr>\n",
       "    <tr>\n",
       "      <th>365</th>\n",
       "      <td>15.107170</td>\n",
       "      <td>5.565930</td>\n",
       "    </tr>\n",
       "    <tr>\n",
       "      <th>366</th>\n",
       "      <td>15.107170</td>\n",
       "      <td>5.565930</td>\n",
       "    </tr>\n",
       "    <tr>\n",
       "      <th>367</th>\n",
       "      <td>-2.000000</td>\n",
       "      <td>5.856603</td>\n",
       "    </tr>\n",
       "  </tbody>\n",
       "</table>\n",
       "<p>360 rows × 2 columns</p>\n",
       "</div>"
      ],
      "text/plain": [
       "        dest_x     dest_y\n",
       "1    -6.555308  11.867515\n",
       "2    -2.000000   5.856603\n",
       "3    -2.000000   5.856603\n",
       "4    15.107170   5.565930\n",
       "5    15.107170   5.565930\n",
       "..         ...        ...\n",
       "363  15.107170   5.565930\n",
       "364  15.107170   5.565930\n",
       "365  15.107170   5.565930\n",
       "366  15.107170   5.565930\n",
       "367  -2.000000   5.856603\n",
       "\n",
       "[360 rows x 2 columns]"
      ]
     },
     "execution_count": 1202,
     "metadata": {},
     "output_type": "execute_result"
    }
   ],
   "source": [
    "df_dest"
   ]
  },
  {
   "cell_type": "code",
   "execution_count": 1203,
   "metadata": {},
   "outputs": [],
   "source": [
    "df_dest.to_csv(\"eth_estimated_dests2.csv\", columns=[\"dest_x\", \"dest_y\"])"
   ]
  },
  {
   "cell_type": "code",
   "execution_count": 991,
   "metadata": {},
   "outputs": [
    {
     "name": "stdout",
     "output_type": "stream",
     "text": [
      "iteration  0 :  mode:  [0.26325605 0.25448879 0.25681285 0.22544232]\n",
      "iteration  1 :  mode:  [0.29132597 0.27777965 0.28453346 0.14636091]\n",
      "iteration  2 :  mode:  [0.31300279 0.29667154 0.31237211 0.07795356]\n",
      "iteration  3 :  mode:  [0.31973906 0.30394841 0.33222469 0.04408784]\n",
      "iteration  4 :  mode:  [0.32093808 0.30903245 0.34104995 0.02897952]\n",
      "iteration  5 :  mode:  [0.32061432 0.3117448  0.34621686 0.02142402]\n",
      "iteration  6 :  mode:  [0.31396709 0.32110509 0.34746396 0.01746386]\n",
      "iteration  7 :  mode:  [0.31007673 0.32576344 0.34876687 0.01539296]\n",
      "iteration  8 :  mode:  [0.30758827 0.32998763 0.34753048 0.01489362]\n",
      "iteration  9 :  mode:  [0.30473789 0.33167345 0.34849083 0.01509783]\n",
      "iteration  10 :  mode:  [0.29226526 0.33692043 0.35526973 0.01554458]\n",
      "iteration  11 :  mode:  [0.28137759 0.34137817 0.36051908 0.01672516]\n",
      "iteration  12 :  mode:  [0.2737847  0.34414088 0.36396005 0.01811438]\n",
      "iteration  13 :  mode:  [0.26705797 0.34507853 0.36861037 0.01925313]\n",
      "iteration  14 :  mode:  [0.26513378 0.3442889  0.36989831 0.02067901]\n",
      "iteration  15 :  mode:  [0.26664094 0.34222665 0.36918267 0.02194974]\n",
      "iteration  16 :  mode:  [0.26863321 0.33931006 0.36926626 0.02279047]\n",
      "iteration  17 :  mode:  [0.27487607 0.33449299 0.36689971 0.02373122]\n",
      "iteration  18 :  mode:  [0.28206689 0.32985192 0.36363665 0.02444454]\n",
      "iteration  19 :  mode:  [0.28984042 0.32445336 0.36089802 0.0248082 ]\n",
      "iteration  20 :  mode:  [0.30044058 0.31786248 0.3565146  0.02518233]\n",
      "iteration  21 :  mode:  [0.31136406 0.31192442 0.35124171 0.0254698 ]\n",
      "iteration  22 :  mode:  [0.32231766 0.30599917 0.34615938 0.02552378]\n",
      "iteration  23 :  mode:  [0.33325204 0.30009621 0.34119452 0.02545723]\n",
      "iteration  24 :  mode:  [0.34418437 0.29437151 0.33609472 0.0253494 ]\n",
      "iteration  25 :  mode:  [0.35560978 0.28837369 0.33094296 0.02507357]\n",
      "iteration  26 :  mode:  [0.36681617 0.28244696 0.32595834 0.02477853]\n",
      "iteration  27 :  mode:  [0.37807296 0.2765683  0.32089635 0.02446239]\n",
      "iteration  28 :  mode:  [0.38929785 0.27074218 0.31585894 0.02410104]\n",
      "iteration  29 :  mode:  [0.40033013 0.26496152 0.31089147 0.02381688]\n",
      "iteration  30 :  mode:  [0.41096531 0.25932522 0.30621645 0.02349301]\n",
      "iteration  31 :  mode:  [0.42076836 0.25420201 0.30200195 0.02302769]\n",
      "iteration  32 :  mode:  [0.43192529 0.2480634  0.29695479 0.02305652]\n"
     ]
    }
   ],
   "source": [
    "# put some initial input here. Like the trajectory of first one second\n",
    "for i in range(len(input_xy_temp)):\n",
    "    z = input_xy_temp[i]\n",
    "    my_filter.predict()\n",
    "    my_filter.update(z)\n",
    "    print(\"iteration \", i, \": \",  \"mode: \", my_filter.mu)"
   ]
  },
  {
   "cell_type": "code",
   "execution_count": 616,
   "metadata": {},
   "outputs": [
    {
     "data": {
      "text/plain": [
       "array([[ 1.        ,  0.        , -0.00256224, -0.07756785,  0.02234999],\n",
       "       [ 0.        ,  1.        , -0.05484047,  0.0036241 , -0.01203627],\n",
       "       [ 0.        ,  0.        ,  1.        ,  0.        ,  0.4       ],\n",
       "       [ 0.        ,  0.        ,  0.        ,  1.        ,  0.        ],\n",
       "       [ 0.        ,  0.        ,  0.        ,  0.        ,  1.        ]])"
      ]
     },
     "execution_count": 616,
     "metadata": {},
     "output_type": "execute_result"
    }
   ],
   "source": [
    "kf2.F"
   ]
  },
  {
   "cell_type": "code",
   "execution_count": 619,
   "metadata": {},
   "outputs": [
    {
     "data": {
      "text/plain": [
       "array([-0.84996266, -0.52684293])"
      ]
     },
     "execution_count": 619,
     "metadata": {},
     "output_type": "execute_result"
    }
   ],
   "source": [
    "temp_goal = (dest_list[1] - input_xy_temp[0])/np.linalg.norm((dest_list[1] - input_xy_temp[0]))\n",
    "temp_goal"
   ]
  },
  {
   "cell_type": "code",
   "execution_count": 620,
   "metadata": {},
   "outputs": [
    {
     "data": {
      "text/plain": [
       "array([ 0.99169066, -0.12864541])"
      ]
     },
     "execution_count": 620,
     "metadata": {},
     "output_type": "execute_result"
    }
   ],
   "source": [
    "(dest_list[3] - input_xy_temp[0])/np.linalg.norm((dest_list[3] - input_xy_temp[0]))"
   ]
  },
  {
   "cell_type": "code",
   "execution_count": 647,
   "metadata": {},
   "outputs": [
    {
     "name": "stdout",
     "output_type": "stream",
     "text": [
      "6.299083902844197\n",
      "4.031289776980518\n",
      "12.907428447280036\n",
      "18.6783758247935\n",
      "8.165754194504627\n"
     ]
    }
   ],
   "source": [
    "# 5 zones\n",
    "start = input_xy_temp[0]\n",
    "# zone1, zone2, zone3, zone4 = [-2, 5.8566027], [-6.5902743, 0.065724367], [-6.5553084, 1.1867515], [15.10717, 5.5659299]\n",
    "zone1, zone2, zone3, zone4, zone5 = dest_list[0], dest_list[1], dest_list[2], dest_list[3], dest_list[4]\n",
    "v, delta_t = 0.707, 0.4\n",
    "\n",
    "kf1 = KalmanFilter(dim_x=5, dim_z=2)\n",
    "kf2 = KalmanFilter(dim_x=5, dim_z=2)\n",
    "kf3 = KalmanFilter(dim_x=5, dim_z=2)\n",
    "kf4 = KalmanFilter(dim_x=5, dim_z=2)\n",
    "kf5 = KalmanFilter(dim_x=5, dim_z=2)\n",
    "\n",
    "directions1, directions2, directions3 = direction(start, zone1), direction(start, zone2), direction(start, zone3)\n",
    "directions4, directions5 = direction(start, zone4), direction(start, zone5)\n",
    "\n",
    "state_transition1 = state_transition_matrix(v, directions1, delta_t)\n",
    "state_transition2 = state_transition_matrix(v, directions2, delta_t)\n",
    "state_transition3 = state_transition_matrix(v, directions3, delta_t)\n",
    "state_transition4 = state_transition_matrix(v, directions4, delta_t)\n",
    "state_transition5 = state_transition_matrix(v, directions5, delta_t)\n",
    "\n",
    "kf1.F, kf2.F, kf3.F, kf4.F = state_transition1, state_transition2, state_transition3, state_transition4\n",
    "kf5.F = state_transition5\n",
    "\n",
    "# define initial state [x, y, yaw, velocity, yaw*dt]\n",
    "kf1.x = np.array([input_xy_temp[0, 0], input_xy_temp[0, 1], directions1, v, directions1*delta_t])\n",
    "kf2.x = np.array([input_xy_temp[0, 0], input_xy_temp[0, 1], directions2, v, directions2*delta_t])\n",
    "kf3.x = np.array([input_xy_temp[0, 0], input_xy_temp[0, 1], directions3, v, directions3*delta_t])\n",
    "kf4.x = np.array([input_xy_temp[0, 0], input_xy_temp[0, 1], directions4, v, directions4*delta_t])\n",
    "kf5.x = np.array([input_xy_temp[0, 0], input_xy_temp[0, 1], directions4, v, directions4*delta_t])\n",
    "\n",
    "sGPS, sCourse, sVelocity, sYaw = 0.5*8.8*delta_t**2, 0.1*delta_t, 8.8*delta_t, 1.0*delta_t\n",
    "temp_q = np.diag([sGPS**2, sGPS**2, sCourse**2, sVelocity**2, sYaw**2])\n",
    "# process noise\n",
    "kf1.Q, kf2.Q, kf3.Q, kf4.Q, kf5.Q = temp_q, temp_q, temp_q, temp_q, temp_q\n",
    "# measurement noise\n",
    "kf1.R, kf2.R, kf3.R, kf4.R = np.identity(2)*5, np.identity(2)*5, np.identity(2)*5, np.identity(2)*5\n",
    "kf5.R = np.identity(2)*5\n",
    "# Define the covariance matrix.\n",
    "# Here I take advantage of the fact that P already contains np.eye(dim_x), and just multiply by the uncertainty:\n",
    "kf1.P *= 10; kf2.P *= 10; kf3.P *= 10; kf4.P *= 10; kf5.P *= 10\n",
    "\n",
    "# define measurement function\n",
    "kf1.H = np.array([[1.0, 0.0, 0.0, 0.0, 0.0],\n",
    "                [0.0, 1.0, 0.0, 0.0, 0.0]])\n",
    "kf2.H = np.array([[1.0, 0.0, 0.0, 0.0, 0.0],\n",
    "                [0.0, 1.0, 0.0, 0.0, 0.0]])\n",
    "kf3.H = np.array([[1.0, 0.0, 0.0, 0.0, 0.0],\n",
    "                [0.0, 1.0, 0.0, 0.0, 0.0]])\n",
    "kf4.H = np.array([[1.0, 0.0, 0.0, 0.0, 0.0],\n",
    "                [0.0, 1.0, 0.0, 0.0, 0.0]])\n",
    "kf5.H = np.array([[1.0, 0.0, 0.0, 0.0, 0.0],\n",
    "                [0.0, 1.0, 0.0, 0.0, 0.0]])\n",
    "\n",
    "filters = [kf1, kf2, kf3, kf4, kf5]\n",
    "\n",
    "mu = [0.20, 0.20, 0.20, 0.20, 0.20] # each filter is equally likely at the start\n",
    "\n",
    "trans = np.array([[0.80, 0.05, 0.05, 0.05, 0.05], \n",
    "                  [0.05, 0.80, 0.05, 0.05, 0.05], \n",
    "                  [0.05, 0.05, 0.80, 0.05, 0.05],\n",
    "                  [0.05, 0.05, 0.05, 0.80, 0.05],\n",
    "                  [0.05, 0.05, 0.05, 0.05, 0.80]\n",
    "                 ]) \n",
    "# M[i,j] is the probability of switching from filter j to filter i.\n",
    "\n",
    "imm = IMMEstimator(filters, mu, trans)"
   ]
  },
  {
   "cell_type": "code",
   "execution_count": 648,
   "metadata": {},
   "outputs": [
    {
     "name": "stdout",
     "output_type": "stream",
     "text": [
      "iteration  0 :  mode:  [0.19575063 0.19157723 0.22517819 0.22571735 0.16177661]\n",
      "iteration  1 :  mode:  [0.16342576 0.16339877 0.26915046 0.3134176  0.09060741]\n",
      "iteration  2 :  mode:  [0.10746714 0.12932855 0.28470182 0.41246838 0.06603412]\n",
      "iteration  3 :  mode:  [0.07891549 0.09683694 0.27494744 0.48521155 0.06408857]\n",
      "iteration  4 :  mode:  [0.06376931 0.08549222 0.25090527 0.53065283 0.06918036]\n",
      "iteration  5 :  mode:  [0.05708883 0.07333543 0.23245207 0.56454478 0.07257888]\n",
      "iteration  6 :  mode:  [0.05205679 0.06981162 0.23448841 0.56166774 0.08197545]\n",
      "iteration  7 :  mode:  [0.05028004 0.06654713 0.24139337 0.5546683  0.08711116]\n",
      "iteration  8 :  mode:  [0.04986    0.0625244  0.25328326 0.5449624  0.08936994]\n",
      "iteration  9 :  mode:  [0.05043694 0.06059567 0.2610069  0.53857976 0.08938072]\n",
      "iteration  10 :  mode:  [0.05178939 0.0607443  0.26556948 0.53211118 0.08978565]\n",
      "iteration  11 :  mode:  [0.05331307 0.05812784 0.27134624 0.52850184 0.08871101]\n",
      "iteration  12 :  mode:  [0.0550145  0.05719973 0.27442967 0.52562492 0.08773117]\n",
      "iteration  13 :  mode:  [0.05561957 0.05537377 0.28244261 0.51923121 0.08733283]\n",
      "iteration  14 :  mode:  [0.05678784 0.05386438 0.28726236 0.5161135  0.08597193]\n",
      "iteration  15 :  mode:  [0.05822523 0.05195091 0.28873375 0.51682671 0.08426341]\n",
      "iteration  16 :  mode:  [0.0593936  0.05010855 0.28927908 0.51825517 0.0829636 ]\n",
      "iteration  17 :  mode:  [0.06015915 0.04865759 0.28975689 0.51973507 0.08169129]\n",
      "iteration  18 :  mode:  [0.06051228 0.04673809 0.29159159 0.52009037 0.08106767]\n",
      "iteration  19 :  mode:  [0.06044611 0.04562165 0.2932208  0.52069695 0.08001449]\n",
      "iteration  20 :  mode:  [0.0607632  0.0445182  0.29462004 0.52098141 0.07911715]\n",
      "iteration  21 :  mode:  [0.06110639 0.04377547 0.29489964 0.52220176 0.07801674]\n",
      "iteration  22 :  mode:  [0.06120882 0.04319043 0.29533914 0.522844   0.07741762]\n",
      "iteration  23 :  mode:  [0.06104639 0.04288653 0.29621356 0.52264383 0.07720969]\n",
      "iteration  24 :  mode:  [0.06107638 0.04284698 0.29591071 0.52351452 0.0766514 ]\n",
      "iteration  25 :  mode:  [0.06112626 0.04282467 0.29636492 0.52285959 0.07682456]\n",
      "iteration  26 :  mode:  [0.06119993 0.04316096 0.29618681 0.52256694 0.07688535]\n",
      "iteration  27 :  mode:  [0.06108771 0.04374915 0.29693586 0.52056764 0.07765964]\n",
      "iteration  28 :  mode:  [0.06135776 0.04422266 0.2991692  0.51630053 0.07894986]\n",
      "iteration  29 :  mode:  [0.06218505 0.04471473 0.30015417 0.51347135 0.07947469]\n",
      "iteration  30 :  mode:  [0.06266507 0.04554327 0.30115513 0.51026787 0.08036865]\n"
     ]
    }
   ],
   "source": [
    "# put some initial input here. Like the trajectory of first one second\n",
    "for i in range(len(input_xy_temp)):\n",
    "    # x = interpolated_z[i, 0]\n",
    "    # y = interpolated_z[i, 1]\n",
    "    # z = np.array([[x], [y]])\n",
    "    z = input_xy_temp[i]\n",
    "    # print(z)\n",
    "    # print(z.shape)\n",
    "    \n",
    "    imm.predict()\n",
    "    imm.update(z)\n",
    "    # print(imm.x.T)\n",
    "    print(\"iteration \", i, \": \",  \"mode: \", imm.mu)\n",
    "    # print()"
   ]
  },
  {
   "cell_type": "code",
   "execution_count": 727,
   "metadata": {},
   "outputs": [],
   "source": [
    "kf_test = kinematic_kf(dim=2, order=2, dt=0.4, order_by_dim=False)"
   ]
  },
  {
   "cell_type": "code",
   "execution_count": 728,
   "metadata": {},
   "outputs": [
    {
     "data": {
      "text/plain": [
       "array([[1.  , 0.  , 0.4 , 0.  , 0.08, 0.  ],\n",
       "       [0.  , 1.  , 0.  , 0.4 , 0.  , 0.08],\n",
       "       [0.  , 0.  , 1.  , 0.  , 0.4 , 0.  ],\n",
       "       [0.  , 0.  , 0.  , 1.  , 0.  , 0.4 ],\n",
       "       [0.  , 0.  , 0.  , 0.  , 1.  , 0.  ],\n",
       "       [0.  , 0.  , 0.  , 0.  , 0.  , 1.  ]])"
      ]
     },
     "execution_count": 728,
     "metadata": {},
     "output_type": "execute_result"
    }
   ],
   "source": [
    "kf_test.F"
   ]
  },
  {
   "cell_type": "code",
   "execution_count": 729,
   "metadata": {},
   "outputs": [
    {
     "data": {
      "text/plain": [
       "4.47213595499958"
      ]
     },
     "execution_count": 729,
     "metadata": {},
     "output_type": "execute_result"
    }
   ],
   "source": [
    "np.linalg.norm((np.array((12, 5)) - np.array((8, 3))))"
   ]
  },
  {
   "cell_type": "code",
   "execution_count": 748,
   "metadata": {},
   "outputs": [
    {
     "data": {
      "text/plain": [
       "0.017328475346254417"
      ]
     },
     "execution_count": 748,
     "metadata": {},
     "output_type": "execute_result"
    }
   ],
   "source": [
    "tt = (np.array((-1.5219591, 6.0516812)) - np.array((13, 5.8)))\n",
    "tt"
   ]
  },
  {
   "cell_type": "code",
   "execution_count": 744,
   "metadata": {},
   "outputs": [
    {
     "name": "stderr",
     "output_type": "stream",
     "text": [
      "c:\\users\\sakif\\appdata\\local\\programs\\python\\python37\\lib\\site-packages\\ipykernel_launcher.py:1: RuntimeWarning: invalid value encountered in arccos\n",
      "  \"\"\"Entry point for launching an IPython kernel.\n"
     ]
    },
    {
     "data": {
      "text/plain": [
       "array([       nan, 1.31637935])"
      ]
     },
     "execution_count": 744,
     "metadata": {},
     "output_type": "execute_result"
    }
   ],
   "source": [
    "np.arccos(tt)"
   ]
  },
  {
   "cell_type": "code",
   "execution_count": 745,
   "metadata": {},
   "outputs": [
    {
     "data": {
      "text/plain": [
       "14.524139889456665"
      ]
     },
     "execution_count": 745,
     "metadata": {},
     "output_type": "execute_result"
    }
   ],
   "source": [
    "np.linalg.norm(tt)"
   ]
  },
  {
   "cell_type": "code",
   "execution_count": 736,
   "metadata": {},
   "outputs": [
    {
     "data": {
      "text/plain": [
       "1.000000001118128"
      ]
     },
     "execution_count": 736,
     "metadata": {},
     "output_type": "execute_result"
    }
   ],
   "source": [
    "np.sqrt((0.89442719**2 + 0.4472136**2))"
   ]
  },
  {
   "cell_type": "code",
   "execution_count": null,
   "metadata": {},
   "outputs": [],
   "source": []
  }
 ],
 "metadata": {
  "kernelspec": {
   "display_name": "Python 3 (ipykernel)",
   "language": "python",
   "name": "python3"
  },
  "language_info": {
   "codemirror_mode": {
    "name": "ipython",
    "version": 3
   },
   "file_extension": ".py",
   "mimetype": "text/x-python",
   "name": "python",
   "nbconvert_exporter": "python",
   "pygments_lexer": "ipython3",
   "version": "3.7.1"
  }
 },
 "nbformat": 4,
 "nbformat_minor": 4
}
