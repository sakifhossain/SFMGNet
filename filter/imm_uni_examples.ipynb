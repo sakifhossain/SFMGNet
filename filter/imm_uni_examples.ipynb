{
 "cells": [
  {
   "cell_type": "code",
   "execution_count": 16,
   "id": "5998daee",
   "metadata": {},
   "outputs": [],
   "source": [
    "from filterpy.common import kinematic_kf\n",
    "import numpy as np\n",
    "from filterpy.kalman import IMMEstimator\n",
    "import math\n",
    "from filterpy.kalman import KalmanFilter\n",
    "import pandas as pd"
   ]
  },
  {
   "cell_type": "code",
   "execution_count": 17,
   "id": "30804824",
   "metadata": {},
   "outputs": [],
   "source": [
    "import ipynb.fs.full.filter_base as imm_filter"
   ]
  },
  {
   "cell_type": "code",
   "execution_count": 18,
   "id": "6ce9d115",
   "metadata": {},
   "outputs": [],
   "source": [
    "test_df_path = \"C:/Users/sakif/jupyter projects/thesis_test/modular test/Untitled Folder/uni_examples_data_prepared_normal3.csv\"\n",
    "# delta_t = 0.4"
   ]
  },
  {
   "cell_type": "code",
   "execution_count": 19,
   "id": "0e11423f",
   "metadata": {},
   "outputs": [],
   "source": [
    "test_df = pd.read_csv(test_df_path, index_col=None)"
   ]
  },
  {
   "cell_type": "code",
   "execution_count": 20,
   "id": "436294a9",
   "metadata": {},
   "outputs": [
    {
     "data": {
      "text/html": [
       "<div>\n",
       "<style scoped>\n",
       "    .dataframe tbody tr th:only-of-type {\n",
       "        vertical-align: middle;\n",
       "    }\n",
       "\n",
       "    .dataframe tbody tr th {\n",
       "        vertical-align: top;\n",
       "    }\n",
       "\n",
       "    .dataframe thead th {\n",
       "        text-align: right;\n",
       "    }\n",
       "</style>\n",
       "<table border=\"1\" class=\"dataframe\">\n",
       "  <thead>\n",
       "    <tr style=\"text-align: right;\">\n",
       "      <th></th>\n",
       "      <th>frame_id</th>\n",
       "      <th>ped_no</th>\n",
       "      <th>pos_x</th>\n",
       "      <th>pos_y</th>\n",
       "      <th>scene_id</th>\n",
       "      <th>vel_x</th>\n",
       "      <th>vel_y</th>\n",
       "      <th>rotation_angle</th>\n",
       "      <th>eta_group_x</th>\n",
       "      <th>eta_group_y</th>\n",
       "      <th>...</th>\n",
       "      <th>n_w_y2</th>\n",
       "      <th>n_w_y3</th>\n",
       "      <th>n_w_y4</th>\n",
       "      <th>n_w_y5</th>\n",
       "      <th>n_w_y6</th>\n",
       "      <th>n_w_y7</th>\n",
       "      <th>n_w_y8</th>\n",
       "      <th>d_w_bound</th>\n",
       "      <th>n_w_bound_x</th>\n",
       "      <th>n_w_bound_y</th>\n",
       "    </tr>\n",
       "  </thead>\n",
       "  <tbody>\n",
       "    <tr>\n",
       "      <th>0</th>\n",
       "      <td>10</td>\n",
       "      <td>0</td>\n",
       "      <td>-26.677220</td>\n",
       "      <td>-11.602686</td>\n",
       "      <td>0</td>\n",
       "      <td>7.458618</td>\n",
       "      <td>0.651785</td>\n",
       "      <td>0.0</td>\n",
       "      <td>0.0</td>\n",
       "      <td>0.0</td>\n",
       "      <td>...</td>\n",
       "      <td>0.0</td>\n",
       "      <td>0.0</td>\n",
       "      <td>0.0</td>\n",
       "      <td>0.0</td>\n",
       "      <td>0.0</td>\n",
       "      <td>0.0</td>\n",
       "      <td>0.0</td>\n",
       "      <td>29.091173</td>\n",
       "      <td>-0.917021</td>\n",
       "      <td>-0.398839</td>\n",
       "    </tr>\n",
       "    <tr>\n",
       "      <th>1</th>\n",
       "      <td>20</td>\n",
       "      <td>0</td>\n",
       "      <td>-23.693773</td>\n",
       "      <td>-11.341972</td>\n",
       "      <td>0</td>\n",
       "      <td>7.458618</td>\n",
       "      <td>0.651785</td>\n",
       "      <td>0.0</td>\n",
       "      <td>0.0</td>\n",
       "      <td>0.0</td>\n",
       "      <td>...</td>\n",
       "      <td>0.0</td>\n",
       "      <td>0.0</td>\n",
       "      <td>0.0</td>\n",
       "      <td>0.0</td>\n",
       "      <td>0.0</td>\n",
       "      <td>0.0</td>\n",
       "      <td>0.0</td>\n",
       "      <td>26.268522</td>\n",
       "      <td>-0.901984</td>\n",
       "      <td>-0.431770</td>\n",
       "    </tr>\n",
       "    <tr>\n",
       "      <th>2</th>\n",
       "      <td>20</td>\n",
       "      <td>1</td>\n",
       "      <td>-26.507906</td>\n",
       "      <td>-8.291869</td>\n",
       "      <td>0</td>\n",
       "      <td>7.947069</td>\n",
       "      <td>0.738351</td>\n",
       "      <td>0.0</td>\n",
       "      <td>0.0</td>\n",
       "      <td>0.0</td>\n",
       "      <td>...</td>\n",
       "      <td>0.0</td>\n",
       "      <td>0.0</td>\n",
       "      <td>0.0</td>\n",
       "      <td>0.0</td>\n",
       "      <td>0.0</td>\n",
       "      <td>0.0</td>\n",
       "      <td>0.0</td>\n",
       "      <td>23.716202</td>\n",
       "      <td>-0.883446</td>\n",
       "      <td>-0.468532</td>\n",
       "    </tr>\n",
       "    <tr>\n",
       "      <th>3</th>\n",
       "      <td>30</td>\n",
       "      <td>0</td>\n",
       "      <td>-20.951992</td>\n",
       "      <td>-11.111809</td>\n",
       "      <td>0</td>\n",
       "      <td>6.854453</td>\n",
       "      <td>0.575408</td>\n",
       "      <td>0.0</td>\n",
       "      <td>0.0</td>\n",
       "      <td>0.0</td>\n",
       "      <td>...</td>\n",
       "      <td>0.0</td>\n",
       "      <td>0.0</td>\n",
       "      <td>0.0</td>\n",
       "      <td>0.0</td>\n",
       "      <td>0.0</td>\n",
       "      <td>0.0</td>\n",
       "      <td>0.0</td>\n",
       "      <td>21.548903</td>\n",
       "      <td>-0.861887</td>\n",
       "      <td>-0.507101</td>\n",
       "    </tr>\n",
       "    <tr>\n",
       "      <th>4</th>\n",
       "      <td>30</td>\n",
       "      <td>1</td>\n",
       "      <td>-23.329078</td>\n",
       "      <td>-7.996528</td>\n",
       "      <td>0</td>\n",
       "      <td>7.947069</td>\n",
       "      <td>0.738351</td>\n",
       "      <td>0.0</td>\n",
       "      <td>0.0</td>\n",
       "      <td>0.0</td>\n",
       "      <td>...</td>\n",
       "      <td>0.0</td>\n",
       "      <td>0.0</td>\n",
       "      <td>0.0</td>\n",
       "      <td>0.0</td>\n",
       "      <td>0.0</td>\n",
       "      <td>0.0</td>\n",
       "      <td>0.0</td>\n",
       "      <td>19.433014</td>\n",
       "      <td>-0.833295</td>\n",
       "      <td>-0.552829</td>\n",
       "    </tr>\n",
       "  </tbody>\n",
       "</table>\n",
       "<p>5 rows × 55 columns</p>\n",
       "</div>"
      ],
      "text/plain": [
       "   frame_id  ped_no      pos_x      pos_y  scene_id     vel_x     vel_y  \\\n",
       "0        10       0 -26.677220 -11.602686         0  7.458618  0.651785   \n",
       "1        20       0 -23.693773 -11.341972         0  7.458618  0.651785   \n",
       "2        20       1 -26.507906  -8.291869         0  7.947069  0.738351   \n",
       "3        30       0 -20.951992 -11.111809         0  6.854453  0.575408   \n",
       "4        30       1 -23.329078  -7.996528         0  7.947069  0.738351   \n",
       "\n",
       "   rotation_angle  eta_group_x  eta_group_y  ...  n_w_y2  n_w_y3  n_w_y4  \\\n",
       "0             0.0          0.0          0.0  ...     0.0     0.0     0.0   \n",
       "1             0.0          0.0          0.0  ...     0.0     0.0     0.0   \n",
       "2             0.0          0.0          0.0  ...     0.0     0.0     0.0   \n",
       "3             0.0          0.0          0.0  ...     0.0     0.0     0.0   \n",
       "4             0.0          0.0          0.0  ...     0.0     0.0     0.0   \n",
       "\n",
       "   n_w_y5  n_w_y6  n_w_y7  n_w_y8  d_w_bound  n_w_bound_x  n_w_bound_y  \n",
       "0     0.0     0.0     0.0     0.0  29.091173    -0.917021    -0.398839  \n",
       "1     0.0     0.0     0.0     0.0  26.268522    -0.901984    -0.431770  \n",
       "2     0.0     0.0     0.0     0.0  23.716202    -0.883446    -0.468532  \n",
       "3     0.0     0.0     0.0     0.0  21.548903    -0.861887    -0.507101  \n",
       "4     0.0     0.0     0.0     0.0  19.433014    -0.833295    -0.552829  \n",
       "\n",
       "[5 rows x 55 columns]"
      ]
     },
     "execution_count": 20,
     "metadata": {},
     "output_type": "execute_result"
    }
   ],
   "source": [
    "test_df.head()"
   ]
  },
  {
   "cell_type": "code",
   "execution_count": 21,
   "id": "dd1868e0",
   "metadata": {},
   "outputs": [],
   "source": [
    "def state_transition_matrix(v, yaw, T):\n",
    "    term13 = (v/yaw) * (-math.cos(yaw) + math.cos(T * yaw + yaw))\n",
    "    term14 = (-math.sin(yaw) + math.sin(T * yaw + yaw))/yaw\n",
    "    term15 = T * v * math.cos(T * yaw + yaw)/ yaw - v * (-math.sin(yaw) + math.sin(T * yaw + yaw)) / yaw **2\n",
    "    term23 = (v/yaw) * (-math.sin(yaw) + math.sin(T * yaw + yaw))\n",
    "    term24 = (math.cos(yaw) - math.cos(T * yaw + yaw)) / yaw\n",
    "    term25 = T * v * math.sin(T * yaw + yaw)/ yaw - v * (math.cos(yaw) - math.cos(T * yaw + yaw)) / yaw **2\n",
    "    state_transition_matrix = np.array([[1, 0, term13, term14, term15],\n",
    "                                        [0, 1, term23, term24, term25],\n",
    "                                        [0, 0, 1, 0, T],\n",
    "                                        [0, 0, 0, 1, 0],\n",
    "                                        [0, 0, 0, 0, 1]])\n",
    "    return state_transition_matrix\n",
    "\n",
    "def direction(current_state, destination_state):\n",
    "    # atan2(b1−a1,b2−a2)\n",
    "    directions1 = np.linalg.norm((np.array(destination_state) - np.array(current_state)))\n",
    "    # dest_tempp = np.array(destination_state) - np.array(current_state)\n",
    "    # temp_d = math.atan2(dest_tempp[0], dest_tempp[1])\n",
    "    # directions1 = math.degrees(temp_d)\n",
    "    # print(directions1)\n",
    "    return directions1"
   ]
  },
  {
   "cell_type": "code",
   "execution_count": 22,
   "id": "1fa1ae6f",
   "metadata": {},
   "outputs": [],
   "source": [
    "def imm_dest_filter(input_xy_temp, dest_list):\n",
    "    start = input_xy_temp[0]\n",
    "    # zone1, zone2, zone3, zone4 = [-2, 5.8566027], [-6.5902743, 0.065724367], [-6.5553084, 1.1867515], [15.10717, 5.5659299]\n",
    "    zone1, zone2, zone3, zone4 = dest_list[0], dest_list[1], dest_list[2], dest_list[3]\n",
    "    v, delta_t = 0.707, 0.4\n",
    "\n",
    "    kf1 = KalmanFilter(dim_x=5, dim_z=2)\n",
    "    kf2 = KalmanFilter(dim_x=5, dim_z=2)\n",
    "    kf3 = KalmanFilter(dim_x=5, dim_z=2)\n",
    "    kf4 = KalmanFilter(dim_x=5, dim_z=2)\n",
    "\n",
    "    directions1, directions2, directions3 = direction(start, zone1), direction(start, zone2), direction(start, zone3)\n",
    "    directions4 = direction(start, zone4)\n",
    "\n",
    "    state_transition1 = state_transition_matrix(v, directions1, delta_t)\n",
    "    state_transition2 = state_transition_matrix(v, directions2, delta_t)\n",
    "    state_transition3 = state_transition_matrix(v, directions3, delta_t)\n",
    "    state_transition4 = state_transition_matrix(v, directions4, delta_t)\n",
    "\n",
    "    kf1.F, kf2.F, kf3.F, kf4.F = state_transition1, state_transition2, state_transition3, state_transition4\n",
    "\n",
    "    # define initial state [x, y, yaw, velocity, yaw*dt]\n",
    "    kf1.x = np.array([input_xy_temp[0, 0], input_xy_temp[0, 1], directions1, v, directions1*delta_t])\n",
    "    kf2.x = np.array([input_xy_temp[0, 0], input_xy_temp[0, 1], directions2, v, directions2*delta_t])\n",
    "    kf3.x = np.array([input_xy_temp[0, 0], input_xy_temp[0, 1], directions3, v, directions3*delta_t])\n",
    "    kf4.x = np.array([input_xy_temp[0, 0], input_xy_temp[0, 1], directions4, v, directions4*delta_t])\n",
    "\n",
    "    sGPS, sCourse, sVelocity, sYaw = 0.5*8.8*delta_t**2, 0.1*delta_t, 8.8*delta_t, 1.0*delta_t\n",
    "    temp_q = np.diag([sGPS**2, sGPS**2, sCourse**2, sVelocity**2, sYaw**2])\n",
    "    # process noise\n",
    "    kf1.Q, kf2.Q, kf3.Q, kf4.Q = temp_q, temp_q, temp_q, temp_q\n",
    "    # measurement noise\n",
    "    kf1.R, kf2.R, kf3.R, kf4.R = np.identity(2)*5, np.identity(2)*5, np.identity(2)*5, np.identity(2)*5\n",
    "    # Define the covariance matrix.\n",
    "    # Here I take advantage of the fact that P already contains np.eye(dim_x), and just multiply by the uncertainty:\n",
    "    kf1.P *= 10; kf2.P *= 10; kf3.P *= 10; kf4.P *= 10\n",
    "\n",
    "    # define measurement function\n",
    "    kf1.H = np.array([[1.0, 0.0, 0.0, 0.0, 0.0],\n",
    "                    [0.0, 1.0, 0.0, 0.0, 0.0]])\n",
    "    kf2.H = np.array([[1.0, 0.0, 0.0, 0.0, 0.0],\n",
    "                    [0.0, 1.0, 0.0, 0.0, 0.0]])\n",
    "    kf3.H = np.array([[1.0, 0.0, 0.0, 0.0, 0.0],\n",
    "                    [0.0, 1.0, 0.0, 0.0, 0.0]])\n",
    "    kf4.H = np.array([[1.0, 0.0, 0.0, 0.0, 0.0],\n",
    "                    [0.0, 1.0, 0.0, 0.0, 0.0]])\n",
    "\n",
    "    filters = [kf1, kf2, kf3, kf4]\n",
    "\n",
    "    mu = [0.25, 0.25, 0.25, 0.25] # each filter is equally likely at the start\n",
    "\n",
    "    trans = np.array([[0.90, 0.033, 0.033, 0.033], \n",
    "                      [0.033, 0.90, 0.033, 0.033], \n",
    "                      [0.033, 0.033, 0.90, 0.033],\n",
    "                      [0.033, 0.033, 0.033, 0.90]\n",
    "                     ]) \n",
    "    # M[i,j] is the probability of switching from filter j to filter i.\n",
    "\n",
    "    imm = IMMEstimator(filters, mu, trans)\n",
    "    for i in range(len(input_xy_temp)):\n",
    "        z = input_xy_temp[i]\n",
    "        imm.predict()\n",
    "        imm.update(z)\n",
    "    chosen_filter = np.argmax(imm.mu)\n",
    "    estimated_destination = dest_list[chosen_filter]\n",
    "    # print(\"Highest probability: \", np.max(imm.mu))\n",
    "    return estimated_destination"
   ]
  },
  {
   "cell_type": "code",
   "execution_count": 23,
   "id": "93143f9b",
   "metadata": {},
   "outputs": [
    {
     "data": {
      "text/plain": [
       "[[1.2432461, -8.480006],\n",
       " [-28.782612, -21.490444],\n",
       " [-23.901209, -3.881793],\n",
       " [-8.944366, -4.999816]]"
      ]
     },
     "execution_count": 23,
     "metadata": {},
     "output_type": "execute_result"
    }
   ],
   "source": [
    "[[  1.2432461,  -8.480006 ],\n",
    "       [-28.782612 , -21.490444 ],\n",
    "       [-23.901209 ,  -3.881793 ],\n",
    "       [ -8.944366 ,  -4.999816 ]]"
   ]
  },
  {
   "cell_type": "code",
   "execution_count": 24,
   "id": "a7f924e2",
   "metadata": {},
   "outputs": [
    {
     "data": {
      "text/plain": [
       "118"
      ]
     },
     "execution_count": 24,
     "metadata": {},
     "output_type": "execute_result"
    }
   ],
   "source": [
    "unique_peds = np.unique(test_df['ped_no'])\n",
    "dest_list = np.array(((-27.075804, -13.135107), (1.1882029, -5.680166), (-9.848106, -7.7488523), (-29.269709, -6.0478654)))\n",
    "estimated_dest_list = []\n",
    "for n in range(len(unique_peds)):\n",
    "    test_df_indiv3 = test_df.loc[test_df['ped_no'] == unique_peds[n]]\n",
    "    input_xy_temp3 = np.array(test_df_indiv3[['pos_x', 'pos_y']])\n",
    "    estimated_dest_temp = imm_dest_filter(input_xy_temp3, dest_list)\n",
    "    estimated_dest_list.append(estimated_dest_temp)\n",
    "    # dest_temp = input_xy_temp2[-1]\n",
    "    # dest_all.append(dest_temp)\n",
    "#dest_all = np.array(dest_all)\n",
    "estimated_dest_list = np.array(estimated_dest_list)\n",
    "len(estimated_dest_list)\n",
    "# estimated_dest_list"
   ]
  },
  {
   "cell_type": "code",
   "execution_count": 25,
   "id": "3ed2b45c",
   "metadata": {},
   "outputs": [
    {
     "data": {
      "text/plain": [
       "118"
      ]
     },
     "execution_count": 25,
     "metadata": {},
     "output_type": "execute_result"
    }
   ],
   "source": [
    "actual_dest_list = []\n",
    "for n in range(len(unique_peds)):\n",
    "    test_df_indiv3 = test_df.loc[test_df['ped_no'] == unique_peds[n]]\n",
    "    input_xy_temp3 = np.array(test_df_indiv3[['pos_x', 'pos_y']])\n",
    "    temp_n = np.argmin(np.linalg.norm((dest_list - input_xy_temp3[-1]), axis=1))\n",
    "    temp_n2 = dest_list[temp_n]\n",
    "    actual_dest_list.append(temp_n2)\n",
    "actual_dest_list = np.array(actual_dest_list)\n",
    "len(actual_dest_list)\n",
    "# actual_dest_list"
   ]
  },
  {
   "cell_type": "code",
   "execution_count": 26,
   "id": "6521a84e",
   "metadata": {},
   "outputs": [
    {
     "data": {
      "text/plain": [
       "28"
      ]
     },
     "execution_count": 26,
     "metadata": {},
     "output_type": "execute_result"
    }
   ],
   "source": [
    "np.count_nonzero(actual_dest_list[:, 1] == estimated_dest_list[:, 1])"
   ]
  },
  {
   "cell_type": "code",
   "execution_count": 27,
   "id": "f078ddb9",
   "metadata": {},
   "outputs": [
    {
     "data": {
      "text/plain": [
       "56"
      ]
     },
     "execution_count": 27,
     "metadata": {},
     "output_type": "execute_result"
    }
   ],
   "source": [
    "np.count_nonzero(actual_dest_list == estimated_dest_list)"
   ]
  },
  {
   "cell_type": "code",
   "execution_count": 28,
   "id": "b1de40ec",
   "metadata": {},
   "outputs": [],
   "source": [
    "df_dest = pd.DataFrame(data=estimated_dest_list, index= unique_peds)\n",
    "df_dest = df_dest.rename(columns={0: \"dest_x\", 1: \"dest_y\"})"
   ]
  },
  {
   "cell_type": "code",
   "execution_count": 29,
   "id": "6f77f90d",
   "metadata": {},
   "outputs": [
    {
     "data": {
      "text/html": [
       "<div>\n",
       "<style scoped>\n",
       "    .dataframe tbody tr th:only-of-type {\n",
       "        vertical-align: middle;\n",
       "    }\n",
       "\n",
       "    .dataframe tbody tr th {\n",
       "        vertical-align: top;\n",
       "    }\n",
       "\n",
       "    .dataframe thead th {\n",
       "        text-align: right;\n",
       "    }\n",
       "</style>\n",
       "<table border=\"1\" class=\"dataframe\">\n",
       "  <thead>\n",
       "    <tr style=\"text-align: right;\">\n",
       "      <th></th>\n",
       "      <th>dest_x</th>\n",
       "      <th>dest_y</th>\n",
       "    </tr>\n",
       "  </thead>\n",
       "  <tbody>\n",
       "    <tr>\n",
       "      <th>0</th>\n",
       "      <td>-9.848106</td>\n",
       "      <td>-7.748852</td>\n",
       "    </tr>\n",
       "    <tr>\n",
       "      <th>1</th>\n",
       "      <td>-9.848106</td>\n",
       "      <td>-7.748852</td>\n",
       "    </tr>\n",
       "    <tr>\n",
       "      <th>2</th>\n",
       "      <td>-9.848106</td>\n",
       "      <td>-7.748852</td>\n",
       "    </tr>\n",
       "    <tr>\n",
       "      <th>3</th>\n",
       "      <td>-27.075804</td>\n",
       "      <td>-13.135107</td>\n",
       "    </tr>\n",
       "    <tr>\n",
       "      <th>4</th>\n",
       "      <td>-9.848106</td>\n",
       "      <td>-7.748852</td>\n",
       "    </tr>\n",
       "    <tr>\n",
       "      <th>...</th>\n",
       "      <td>...</td>\n",
       "      <td>...</td>\n",
       "    </tr>\n",
       "    <tr>\n",
       "      <th>113</th>\n",
       "      <td>-29.269709</td>\n",
       "      <td>-6.047865</td>\n",
       "    </tr>\n",
       "    <tr>\n",
       "      <th>114</th>\n",
       "      <td>-9.848106</td>\n",
       "      <td>-7.748852</td>\n",
       "    </tr>\n",
       "    <tr>\n",
       "      <th>115</th>\n",
       "      <td>1.188203</td>\n",
       "      <td>-5.680166</td>\n",
       "    </tr>\n",
       "    <tr>\n",
       "      <th>116</th>\n",
       "      <td>-9.848106</td>\n",
       "      <td>-7.748852</td>\n",
       "    </tr>\n",
       "    <tr>\n",
       "      <th>117</th>\n",
       "      <td>-27.075804</td>\n",
       "      <td>-13.135107</td>\n",
       "    </tr>\n",
       "  </tbody>\n",
       "</table>\n",
       "<p>118 rows × 2 columns</p>\n",
       "</div>"
      ],
      "text/plain": [
       "        dest_x     dest_y\n",
       "0    -9.848106  -7.748852\n",
       "1    -9.848106  -7.748852\n",
       "2    -9.848106  -7.748852\n",
       "3   -27.075804 -13.135107\n",
       "4    -9.848106  -7.748852\n",
       "..         ...        ...\n",
       "113 -29.269709  -6.047865\n",
       "114  -9.848106  -7.748852\n",
       "115   1.188203  -5.680166\n",
       "116  -9.848106  -7.748852\n",
       "117 -27.075804 -13.135107\n",
       "\n",
       "[118 rows x 2 columns]"
      ]
     },
     "execution_count": 29,
     "metadata": {},
     "output_type": "execute_result"
    }
   ],
   "source": [
    "df_dest"
   ]
  },
  {
   "cell_type": "code",
   "execution_count": 30,
   "id": "30088919",
   "metadata": {},
   "outputs": [],
   "source": [
    "df_dest.to_csv(\"uni_examples_estimated_dests1.csv\", columns=[\"dest_x\", \"dest_y\"])"
   ]
  },
  {
   "cell_type": "code",
   "execution_count": null,
   "id": "e682f5e7",
   "metadata": {},
   "outputs": [],
   "source": []
  }
 ],
 "metadata": {
  "kernelspec": {
   "display_name": "Python 3 (ipykernel)",
   "language": "python",
   "name": "python3"
  },
  "language_info": {
   "codemirror_mode": {
    "name": "ipython",
    "version": 3
   },
   "file_extension": ".py",
   "mimetype": "text/x-python",
   "name": "python",
   "nbconvert_exporter": "python",
   "pygments_lexer": "ipython3",
   "version": "3.7.1"
  }
 },
 "nbformat": 4,
 "nbformat_minor": 5
}
