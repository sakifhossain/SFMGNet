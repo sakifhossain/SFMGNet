{
 "cells": [
  {
   "cell_type": "code",
   "execution_count": 1,
   "metadata": {},
   "outputs": [],
   "source": [
    "from filterpy.common import kinematic_kf\n",
    "import numpy as np\n",
    "from filterpy.kalman import IMMEstimator\n",
    "import math\n",
    "from filterpy.kalman import KalmanFilter\n",
    "import pandas as pd"
   ]
  },
  {
   "cell_type": "code",
   "execution_count": 118,
   "metadata": {},
   "outputs": [],
   "source": [
    "def state_transition_matrix(v, yaw, T):\n",
    "    term13 = (v/yaw) * (-math.cos(yaw) + math.cos(T * yaw + yaw))\n",
    "    term14 = (-math.sin(yaw) + math.sin(T * yaw + yaw))/yaw\n",
    "    term15 = T * v * math.cos(T * yaw + yaw)/ yaw - v * (-math.sin(yaw) + math.sin(T * yaw + yaw)) / yaw **2\n",
    "    term23 = (v/yaw) * (-math.sin(yaw) + math.sin(T * yaw + yaw))\n",
    "    term24 = (math.cos(yaw) - math.cos(T * yaw + yaw)) / yaw\n",
    "    term25 = T * v * math.sin(T * yaw + yaw)/ yaw - v * (math.cos(yaw) - math.cos(T * yaw + yaw)) / yaw **2\n",
    "    state_transition_matrix = np.array([[1, 0, term13, term14, term15],\n",
    "                                        [0, 1, term23, term24, term25],\n",
    "                                        [0, 0, 1, 0, T],\n",
    "                                        [0, 0, 0, 1, 0],\n",
    "                                        [0, 0, 0, 0, 1]])\n",
    "    return state_transition_matrix\n",
    "\n",
    "def direction(current_state, destination_state):\n",
    "    directions1 = np.linalg.norm((np.array(destination_state) - np.array(current_state)))\n",
    "    print(directions1)\n",
    "    return directions1"
   ]
  },
  {
   "cell_type": "code",
   "execution_count": 440,
   "metadata": {},
   "outputs": [],
   "source": [
    "test_df_path = \"C:/Users/sakif/jupyter projects/thesis_test/modular test/Untitled Folder/eth_data_prepared_normal3.csv\"\n",
    "# delta_t = 0.4"
   ]
  },
  {
   "cell_type": "code",
   "execution_count": 441,
   "metadata": {},
   "outputs": [],
   "source": [
    "test_df = pd.read_csv(test_df_path, index_col=None)"
   ]
  },
  {
   "cell_type": "code",
   "execution_count": 455,
   "metadata": {},
   "outputs": [],
   "source": [
    "unique_peds = np.unique(test_df['ped_no'])\n",
    "dest_all = []\n",
    "for n in range(len(unique_peds)):\n",
    "    test_df_indiv2 = test_df.loc[test_df['ped_no'] == unique_peds[n]]\n",
    "    input_xy_temp2 = np.array(test_df_indiv2[['pos_x', 'pos_y']])\n",
    "    dest_temp = input_xy_temp2[-1]\n",
    "    dest_all.append(dest_temp)\n",
    "dest_all = np.array(dest_all)\n",
    "# dest_all"
   ]
  },
  {
   "cell_type": "code",
   "execution_count": 456,
   "metadata": {},
   "outputs": [],
   "source": [
    "import matplotlib.pyplot as plt"
   ]
  },
  {
   "cell_type": "code",
   "execution_count": 464,
   "metadata": {},
   "outputs": [
    {
     "data": {
      "text/plain": [
       "354.0"
      ]
     },
     "execution_count": 464,
     "metadata": {},
     "output_type": "execute_result"
    }
   ],
   "source": [
    "len(np.unique(dest_all))/2"
   ]
  },
  {
   "cell_type": "code",
   "execution_count": 466,
   "metadata": {},
   "outputs": [],
   "source": [
    "from sklearn.cluster import KMeans"
   ]
  },
  {
   "cell_type": "code",
   "execution_count": 564,
   "metadata": {},
   "outputs": [
    {
     "data": {
      "text/plain": [
       "array([[12.65814642,  5.53807136],\n",
       "       [-2.42247966,  1.8782528 ],\n",
       "       [ 3.16009339,  5.38515784],\n",
       "       [-1.67269075,  7.75310654]])"
      ]
     },
     "execution_count": 564,
     "metadata": {},
     "output_type": "execute_result"
    }
   ],
   "source": [
    "kmeans = KMeans(n_clusters=4, random_state=0).fit(dest_all)\n",
    "center_points = kmeans.cluster_centers_\n",
    "center_points"
   ]
  },
  {
   "cell_type": "code",
   "execution_count": 565,
   "metadata": {},
   "outputs": [
    {
     "data": {
      "text/plain": [
       "<matplotlib.collections.PathCollection at 0x1e5c4b50cf8>"
      ]
     },
     "execution_count": 565,
     "metadata": {},
     "output_type": "execute_result"
    },
    {
     "data": {
      "image/png": "[encoded data removed]",
      "text/plain": [
       "<Figure size 432x288 with 1 Axes>"
      ]
     },
     "metadata": {
      "needs_background": "light"
     },
     "output_type": "display_data"
    }
   ],
   "source": [
    "plt.scatter(dest_all[:, 0], dest_all[:, 1])\n",
    "plt.xlim(-10, 17)\n",
    "plt.ylim(-10, 17)\n",
    "plt.scatter(center_points[:, 0], center_points[:, 1], c=[\"red\", \"black\", \"yellow\", \"magenta\"], marker=\"X\", s=100)"
   ]
  },
  {
   "cell_type": "code",
   "execution_count": 737,
   "metadata": {},
   "outputs": [],
   "source": [
    "# dataframe for individual pedestrian \n",
    "test_df_indiv = test_df.loc[test_df['ped_no'] == 2]\n",
    "# test_df_indiv = test_df_indiv.loc[test_df_indiv['frame_id'] >= 846]"
   ]
  },
  {
   "cell_type": "code",
   "execution_count": 738,
   "metadata": {},
   "outputs": [],
   "source": [
    "input_xy_temp = np.array(test_df_indiv[[\"pos_x\", \"pos_y\"]])"
   ]
  },
  {
   "cell_type": "code",
   "execution_count": 739,
   "metadata": {},
   "outputs": [
    {
     "data": {
      "text/plain": [
       "37"
      ]
     },
     "execution_count": 739,
     "metadata": {},
     "output_type": "execute_result"
    }
   ],
   "source": [
    "len(input_xy_temp)\n",
    "# len(input_xy_temp[10:])"
   ]
  },
  {
   "cell_type": "code",
   "execution_count": 740,
   "metadata": {},
   "outputs": [
    {
     "data": {
      "text/plain": [
       "array([[13.017548  ,  5.7825914 ],\n",
       "       [12.08777   ,  5.751949  ],\n",
       "       [11.746306  ,  5.7298146 ],\n",
       "       [11.175158  ,  5.8362471 ],\n",
       "       [10.43429   ,  5.8732028 ],\n",
       "       [10.050254  ,  6.1714868 ],\n",
       "       [ 9.5712958 ,  6.2373547 ],\n",
       "       [ 9.0840742 ,  6.2638361 ],\n",
       "       [ 8.5527509 ,  6.3740273 ],\n",
       "       [ 8.0978874 ,  6.4810373 ],\n",
       "       [ 7.6353672 ,  6.5483408 ],\n",
       "       [ 7.1670909 ,  6.616482  ],\n",
       "       [ 6.7341728 ,  6.6414608 ],\n",
       "       [ 6.3426199 ,  6.7058853 ],\n",
       "       [ 5.9914678 ,  6.7683596 ],\n",
       "       [ 5.5973695 ,  6.9181861 ],\n",
       "       [ 5.2394674 ,  6.9822277 ],\n",
       "       [ 5.0151027 ,  7.0384316 ],\n",
       "       [ 4.7975924 ,  7.2222416 ],\n",
       "       [ 4.5440437 ,  7.5798647 ],\n",
       "       [ 4.4518792 ,  7.5861562 ],\n",
       "       [ 4.2007556 ,  7.3032409 ],\n",
       "       [ 4.028679  ,  7.5291772 ],\n",
       "       [ 3.9057366 ,  7.7953196 ],\n",
       "       [ 3.5769474 ,  7.8184934 ],\n",
       "       [ 3.251375  ,  7.9280421 ],\n",
       "       [ 2.8241379 ,  8.0021495 ],\n",
       "       [ 2.3404976 ,  8.0370413 ],\n",
       "       [ 1.8442766 ,  7.9847018 ],\n",
       "       [ 1.4378777 ,  7.8806043 ],\n",
       "       [ 0.96966081,  7.6899556 ],\n",
       "       [ 0.53920574,  7.4040991 ],\n",
       "       [ 0.10702721,  7.1597281 ],\n",
       "       [-0.32291725,  7.003088  ],\n",
       "       [-0.67941405,  6.5193733 ],\n",
       "       [-1.1268673 ,  6.2651511 ],\n",
       "       [-1.5219591 ,  6.0516812 ]])"
      ]
     },
     "execution_count": 740,
     "metadata": {},
     "output_type": "execute_result"
    }
   ],
   "source": [
    "input_xy_temp"
   ]
  },
  {
   "cell_type": "code",
   "execution_count": 686,
   "metadata": {},
   "outputs": [
    {
     "data": {
      "text/plain": [
       "(-10.0, 17.0)"
      ]
     },
     "execution_count": 686,
     "metadata": {},
     "output_type": "execute_result"
    },
    {
     "data": {
      "image/png": "[encoded data removed]",
      "text/plain": [
       "<Figure size 432x288 with 1 Axes>"
      ]
     },
     "metadata": {
      "needs_background": "light"
     },
     "output_type": "display_data"
    }
   ],
   "source": [
    "plt.scatter(input_xy_temp[:, 0], input_xy_temp[:, 1])\n",
    "plt.xlim(-10, 17)\n",
    "plt.ylim(-10, 17)"
   ]
  },
  {
   "cell_type": "code",
   "execution_count": 687,
   "metadata": {},
   "outputs": [
    {
     "data": {
      "text/plain": [
       "'\\nstart = [2, 10.3]\\nend_straight = [3, 0.8]\\nend_left = [-2.8, 5.5]\\nend_right = [8.3, 5.5]\\nv = 0.707\\ndelta_t = 0.1\\n'"
      ]
     },
     "execution_count": 687,
     "metadata": {},
     "output_type": "execute_result"
    }
   ],
   "source": [
    "\"\"\"\n",
    "start = [2, 10.3]\n",
    "end_straight = [3, 0.8]\n",
    "end_left = [-2.8, 5.5]\n",
    "end_right = [8.3, 5.5]\n",
    "v = 0.707\n",
    "delta_t = 0.1\n",
    "\"\"\"\n",
    " # sGPS: assume 8.8m/s2 as maximum acceleration, forcing the vehicle\n",
    "#sCOURSE: assume 0.1rad/s as maximum turn rate for the vehicle\n",
    "# sVelocity: assume 8.8m/s2 as maximum acceleration, forcing the vehicle\n",
    "# sYaw: assume 1.0rad/s2 as the maximum turn rate acceleration for the vehicle"
   ]
  },
  {
   "cell_type": "code",
   "execution_count": 688,
   "metadata": {},
   "outputs": [
    {
     "data": {
      "text/plain": [
       "array([[-2.        ,  5.8566027 ],\n",
       "       [-6.5902743 ,  0.06572437],\n",
       "       [-6.5553084 , 11.867515  ],\n",
       "       [15.10717   ,  5.5659299 ],\n",
       "       [ 3.16009339,  5.38515784]])"
      ]
     },
     "execution_count": 688,
     "metadata": {},
     "output_type": "execute_result"
    }
   ],
   "source": [
    "dest_list = np.array(((-2, 5.8566027), (-6.5902743, 0.065724367), (-6.5553084, 11.867515), (15.10717, 5.5659299), \n",
    "                      (3.16009339,  5.38515784)))\n",
    "# dest_list = center_points\n",
    "dest_list"
   ]
  },
  {
   "cell_type": "code",
   "execution_count": 689,
   "metadata": {},
   "outputs": [
    {
     "name": "stdout",
     "output_type": "stream",
     "text": [
      "10.700086432307929\n",
      "15.453888557897153\n",
      "17.14392014120922\n",
      "6.938211292596437\n"
     ]
    }
   ],
   "source": [
    "start = input_xy_temp[0]\n",
    "# zone1, zone2, zone3, zone4 = [-2, 5.8566027], [-6.5902743, 0.065724367], [-6.5553084, 1.1867515], [15.10717, 5.5659299]\n",
    "zone1, zone2, zone3, zone4 = dest_list[0], dest_list[1], dest_list[2], dest_list[3]\n",
    "v, delta_t = 0.707, 0.4\n",
    "\n",
    "kf1 = KalmanFilter(dim_x=5, dim_z=2)\n",
    "kf2 = KalmanFilter(dim_x=5, dim_z=2)\n",
    "kf3 = KalmanFilter(dim_x=5, dim_z=2)\n",
    "kf4 = KalmanFilter(dim_x=5, dim_z=2)\n",
    "\n",
    "directions1, directions2, directions3 = direction(start, zone1), direction(start, zone2), direction(start, zone3)\n",
    "directions4 = direction(start, zone4)\n",
    "\n",
    "state_transition1 = state_transition_matrix(v, directions1, delta_t)\n",
    "state_transition2 = state_transition_matrix(v, directions2, delta_t)\n",
    "state_transition3 = state_transition_matrix(v, directions3, delta_t)\n",
    "state_transition4 = state_transition_matrix(v, directions4, delta_t)\n",
    "\n",
    "kf1.F, kf2.F, kf3.F, kf4.F = state_transition1, state_transition2, state_transition3, state_transition4\n",
    "\n",
    "# define initial state [x, y, yaw, velocity, yaw*dt]\n",
    "kf1.x = np.array([input_xy_temp[0, 0], input_xy_temp[0, 1], directions1, v, directions1*delta_t])\n",
    "kf2.x = np.array([input_xy_temp[0, 0], input_xy_temp[0, 1], directions2, v, directions2*delta_t])\n",
    "kf3.x = np.array([input_xy_temp[0, 0], input_xy_temp[0, 1], directions3, v, directions3*delta_t])\n",
    "kf4.x = np.array([input_xy_temp[0, 0], input_xy_temp[0, 1], directions4, v, directions4*delta_t])\n",
    "\n",
    "sGPS, sCourse, sVelocity, sYaw = 0.5*8.8*delta_t**2, 0.1*delta_t, 8.8*delta_t, 1.0*delta_t\n",
    "temp_q = np.diag([sGPS**2, sGPS**2, sCourse**2, sVelocity**2, sYaw**2])\n",
    "# process noise\n",
    "kf1.Q, kf2.Q, kf3.Q, kf4.Q = temp_q, temp_q, temp_q, temp_q\n",
    "# measurement noise\n",
    "kf1.R, kf2.R, kf3.R, kf4.R = np.identity(2)*5, np.identity(2)*5, np.identity(2)*5, np.identity(2)*5\n",
    "# Define the covariance matrix.\n",
    "# Here I take advantage of the fact that P already contains np.eye(dim_x), and just multiply by the uncertainty:\n",
    "kf1.P *= 10; kf2.P *= 10; kf3.P *= 10; kf4.P *= 10\n",
    "\n",
    "# define measurement function\n",
    "kf1.H = np.array([[1.0, 0.0, 0.0, 0.0, 0.0],\n",
    "                [0.0, 1.0, 0.0, 0.0, 0.0]])\n",
    "kf2.H = np.array([[1.0, 0.0, 0.0, 0.0, 0.0],\n",
    "                [0.0, 1.0, 0.0, 0.0, 0.0]])\n",
    "kf3.H = np.array([[1.0, 0.0, 0.0, 0.0, 0.0],\n",
    "                [0.0, 1.0, 0.0, 0.0, 0.0]])\n",
    "kf4.H = np.array([[1.0, 0.0, 0.0, 0.0, 0.0],\n",
    "                [0.0, 1.0, 0.0, 0.0, 0.0]])\n",
    "\n",
    "filters = [kf1, kf2, kf3, kf4]\n",
    "\n",
    "mu = [0.25, 0.25, 0.25, 0.25] # each filter is equally likely at the start\n",
    "\n",
    "trans = np.array([[0.90, 0.033, 0.033, 0.033], \n",
    "                  [0.033, 0.90, 0.033, 0.033], \n",
    "                  [0.033, 0.033, 0.90, 0.033],\n",
    "                  [0.033, 0.033, 0.033, 0.90]\n",
    "                 ]) \n",
    "# M[i,j] is the probability of switching from filter j to filter i.\n",
    "\n",
    "imm = IMMEstimator(filters, mu, trans)"
   ]
  },
  {
   "cell_type": "code",
   "execution_count": 690,
   "metadata": {},
   "outputs": [
    {
     "data": {
      "text/plain": [
       "7"
      ]
     },
     "execution_count": 690,
     "metadata": {},
     "output_type": "execute_result"
    }
   ],
   "source": [
    "len(input_xy_temp)"
   ]
  },
  {
   "cell_type": "code",
   "execution_count": 691,
   "metadata": {},
   "outputs": [],
   "source": [
    "#temp_input_new = np.concatenate((input_xy_temp[0:3], input_xy_temp[8:11], input_xy_temp[16:19], input_xy_temp[24:27]), axis=0)\n",
    "# temp_input_new"
   ]
  },
  {
   "cell_type": "code",
   "execution_count": 692,
   "metadata": {},
   "outputs": [
    {
     "name": "stdout",
     "output_type": "stream",
     "text": [
      "iteration  0 :  mode:  [0.24558039 0.26286765 0.26127537 0.23027659]\n",
      "iteration  1 :  mode:  [0.22385583 0.3102856  0.31793415 0.14792442]\n",
      "iteration  2 :  mode:  [0.16358517 0.36805034 0.40388531 0.06447918]\n",
      "iteration  3 :  mode:  [0.09339618 0.39350088 0.48466388 0.02843905]\n",
      "iteration  4 :  mode:  [0.05384461 0.38557931 0.54464459 0.01593149]\n",
      "iteration  5 :  mode:  [0.03823886 0.35903854 0.5926882  0.0100344 ]\n",
      "iteration  6 :  mode:  [0.03040515 0.32784203 0.63518787 0.00656495]\n"
     ]
    }
   ],
   "source": [
    "# put some initial input here. Like the trajectory of first one second\n",
    "for i in range(len(input_xy_temp)):\n",
    "    # x = interpolated_z[i, 0]\n",
    "    # y = interpolated_z[i, 1]\n",
    "    # z = np.array([[x], [y]])\n",
    "    z = input_xy_temp[i]\n",
    "    # print(z)\n",
    "    # print(z.shape)\n",
    "    \n",
    "    imm.predict()\n",
    "    imm.update(z)\n",
    "    # print(imm.x.T)\n",
    "    print(\"iteration \", i, \": \",  \"mode: \", imm.mu)\n",
    "    # print()"
   ]
  },
  {
   "cell_type": "code",
   "execution_count": 616,
   "metadata": {},
   "outputs": [
    {
     "data": {
      "text/plain": [
       "array([[ 1.        ,  0.        , -0.00256224, -0.07756785,  0.02234999],\n",
       "       [ 0.        ,  1.        , -0.05484047,  0.0036241 , -0.01203627],\n",
       "       [ 0.        ,  0.        ,  1.        ,  0.        ,  0.4       ],\n",
       "       [ 0.        ,  0.        ,  0.        ,  1.        ,  0.        ],\n",
       "       [ 0.        ,  0.        ,  0.        ,  0.        ,  1.        ]])"
      ]
     },
     "execution_count": 616,
     "metadata": {},
     "output_type": "execute_result"
    }
   ],
   "source": [
    "kf2.F"
   ]
  },
  {
   "cell_type": "code",
   "execution_count": 619,
   "metadata": {},
   "outputs": [
    {
     "data": {
      "text/plain": [
       "array([-0.84996266, -0.52684293])"
      ]
     },
     "execution_count": 619,
     "metadata": {},
     "output_type": "execute_result"
    }
   ],
   "source": [
    "temp_goal = (dest_list[1] - input_xy_temp[0])/np.linalg.norm((dest_list[1] - input_xy_temp[0]))\n",
    "temp_goal"
   ]
  },
  {
   "cell_type": "code",
   "execution_count": 620,
   "metadata": {},
   "outputs": [
    {
     "data": {
      "text/plain": [
       "array([ 0.99169066, -0.12864541])"
      ]
     },
     "execution_count": 620,
     "metadata": {},
     "output_type": "execute_result"
    }
   ],
   "source": [
    "(dest_list[3] - input_xy_temp[0])/np.linalg.norm((dest_list[3] - input_xy_temp[0]))"
   ]
  },
  {
   "cell_type": "code",
   "execution_count": 647,
   "metadata": {},
   "outputs": [
    {
     "name": "stdout",
     "output_type": "stream",
     "text": [
      "6.299083902844197\n",
      "4.031289776980518\n",
      "12.907428447280036\n",
      "18.6783758247935\n",
      "8.165754194504627\n"
     ]
    }
   ],
   "source": [
    "# 5 zones\n",
    "start = input_xy_temp[0]\n",
    "# zone1, zone2, zone3, zone4 = [-2, 5.8566027], [-6.5902743, 0.065724367], [-6.5553084, 1.1867515], [15.10717, 5.5659299]\n",
    "zone1, zone2, zone3, zone4, zone5 = dest_list[0], dest_list[1], dest_list[2], dest_list[3], dest_list[4]\n",
    "v, delta_t = 0.707, 0.4\n",
    "\n",
    "kf1 = KalmanFilter(dim_x=5, dim_z=2)\n",
    "kf2 = KalmanFilter(dim_x=5, dim_z=2)\n",
    "kf3 = KalmanFilter(dim_x=5, dim_z=2)\n",
    "kf4 = KalmanFilter(dim_x=5, dim_z=2)\n",
    "kf5 = KalmanFilter(dim_x=5, dim_z=2)\n",
    "\n",
    "directions1, directions2, directions3 = direction(start, zone1), direction(start, zone2), direction(start, zone3)\n",
    "directions4, directions5 = direction(start, zone4), direction(start, zone5)\n",
    "\n",
    "state_transition1 = state_transition_matrix(v, directions1, delta_t)\n",
    "state_transition2 = state_transition_matrix(v, directions2, delta_t)\n",
    "state_transition3 = state_transition_matrix(v, directions3, delta_t)\n",
    "state_transition4 = state_transition_matrix(v, directions4, delta_t)\n",
    "state_transition5 = state_transition_matrix(v, directions5, delta_t)\n",
    "\n",
    "kf1.F, kf2.F, kf3.F, kf4.F = state_transition1, state_transition2, state_transition3, state_transition4\n",
    "kf5.F = state_transition5\n",
    "\n",
    "# define initial state [x, y, yaw, velocity, yaw*dt]\n",
    "kf1.x = np.array([input_xy_temp[0, 0], input_xy_temp[0, 1], directions1, v, directions1*delta_t])\n",
    "kf2.x = np.array([input_xy_temp[0, 0], input_xy_temp[0, 1], directions2, v, directions2*delta_t])\n",
    "kf3.x = np.array([input_xy_temp[0, 0], input_xy_temp[0, 1], directions3, v, directions3*delta_t])\n",
    "kf4.x = np.array([input_xy_temp[0, 0], input_xy_temp[0, 1], directions4, v, directions4*delta_t])\n",
    "kf5.x = np.array([input_xy_temp[0, 0], input_xy_temp[0, 1], directions4, v, directions4*delta_t])\n",
    "\n",
    "sGPS, sCourse, sVelocity, sYaw = 0.5*8.8*delta_t**2, 0.1*delta_t, 8.8*delta_t, 1.0*delta_t\n",
    "temp_q = np.diag([sGPS**2, sGPS**2, sCourse**2, sVelocity**2, sYaw**2])\n",
    "# process noise\n",
    "kf1.Q, kf2.Q, kf3.Q, kf4.Q, kf5.Q = temp_q, temp_q, temp_q, temp_q, temp_q\n",
    "# measurement noise\n",
    "kf1.R, kf2.R, kf3.R, kf4.R = np.identity(2)*5, np.identity(2)*5, np.identity(2)*5, np.identity(2)*5\n",
    "kf5.R = np.identity(2)*5\n",
    "# Define the covariance matrix.\n",
    "# Here I take advantage of the fact that P already contains np.eye(dim_x), and just multiply by the uncertainty:\n",
    "kf1.P *= 10; kf2.P *= 10; kf3.P *= 10; kf4.P *= 10; kf5.P *= 10\n",
    "\n",
    "# define measurement function\n",
    "kf1.H = np.array([[1.0, 0.0, 0.0, 0.0, 0.0],\n",
    "                [0.0, 1.0, 0.0, 0.0, 0.0]])\n",
    "kf2.H = np.array([[1.0, 0.0, 0.0, 0.0, 0.0],\n",
    "                [0.0, 1.0, 0.0, 0.0, 0.0]])\n",
    "kf3.H = np.array([[1.0, 0.0, 0.0, 0.0, 0.0],\n",
    "                [0.0, 1.0, 0.0, 0.0, 0.0]])\n",
    "kf4.H = np.array([[1.0, 0.0, 0.0, 0.0, 0.0],\n",
    "                [0.0, 1.0, 0.0, 0.0, 0.0]])\n",
    "kf5.H = np.array([[1.0, 0.0, 0.0, 0.0, 0.0],\n",
    "                [0.0, 1.0, 0.0, 0.0, 0.0]])\n",
    "\n",
    "filters = [kf1, kf2, kf3, kf4, kf5]\n",
    "\n",
    "mu = [0.20, 0.20, 0.20, 0.20, 0.20] # each filter is equally likely at the start\n",
    "\n",
    "trans = np.array([[0.80, 0.05, 0.05, 0.05, 0.05], \n",
    "                  [0.05, 0.80, 0.05, 0.05, 0.05], \n",
    "                  [0.05, 0.05, 0.80, 0.05, 0.05],\n",
    "                  [0.05, 0.05, 0.05, 0.80, 0.05],\n",
    "                  [0.05, 0.05, 0.05, 0.05, 0.80]\n",
    "                 ]) \n",
    "# M[i,j] is the probability of switching from filter j to filter i.\n",
    "\n",
    "imm = IMMEstimator(filters, mu, trans)"
   ]
  },
  {
   "cell_type": "code",
   "execution_count": 648,
   "metadata": {},
   "outputs": [
    {
     "name": "stdout",
     "output_type": "stream",
     "text": [
      "iteration  0 :  mode:  [0.19575063 0.19157723 0.22517819 0.22571735 0.16177661]\n",
      "iteration  1 :  mode:  [0.16342576 0.16339877 0.26915046 0.3134176  0.09060741]\n",
      "iteration  2 :  mode:  [0.10746714 0.12932855 0.28470182 0.41246838 0.06603412]\n",
      "iteration  3 :  mode:  [0.07891549 0.09683694 0.27494744 0.48521155 0.06408857]\n",
      "iteration  4 :  mode:  [0.06376931 0.08549222 0.25090527 0.53065283 0.06918036]\n",
      "iteration  5 :  mode:  [0.05708883 0.07333543 0.23245207 0.56454478 0.07257888]\n",
      "iteration  6 :  mode:  [0.05205679 0.06981162 0.23448841 0.56166774 0.08197545]\n",
      "iteration  7 :  mode:  [0.05028004 0.06654713 0.24139337 0.5546683  0.08711116]\n",
      "iteration  8 :  mode:  [0.04986    0.0625244  0.25328326 0.5449624  0.08936994]\n",
      "iteration  9 :  mode:  [0.05043694 0.06059567 0.2610069  0.53857976 0.08938072]\n",
      "iteration  10 :  mode:  [0.05178939 0.0607443  0.26556948 0.53211118 0.08978565]\n",
      "iteration  11 :  mode:  [0.05331307 0.05812784 0.27134624 0.52850184 0.08871101]\n",
      "iteration  12 :  mode:  [0.0550145  0.05719973 0.27442967 0.52562492 0.08773117]\n",
      "iteration  13 :  mode:  [0.05561957 0.05537377 0.28244261 0.51923121 0.08733283]\n",
      "iteration  14 :  mode:  [0.05678784 0.05386438 0.28726236 0.5161135  0.08597193]\n",
      "iteration  15 :  mode:  [0.05822523 0.05195091 0.28873375 0.51682671 0.08426341]\n",
      "iteration  16 :  mode:  [0.0593936  0.05010855 0.28927908 0.51825517 0.0829636 ]\n",
      "iteration  17 :  mode:  [0.06015915 0.04865759 0.28975689 0.51973507 0.08169129]\n",
      "iteration  18 :  mode:  [0.06051228 0.04673809 0.29159159 0.52009037 0.08106767]\n",
      "iteration  19 :  mode:  [0.06044611 0.04562165 0.2932208  0.52069695 0.08001449]\n",
      "iteration  20 :  mode:  [0.0607632  0.0445182  0.29462004 0.52098141 0.07911715]\n",
      "iteration  21 :  mode:  [0.06110639 0.04377547 0.29489964 0.52220176 0.07801674]\n",
      "iteration  22 :  mode:  [0.06120882 0.04319043 0.29533914 0.522844   0.07741762]\n",
      "iteration  23 :  mode:  [0.06104639 0.04288653 0.29621356 0.52264383 0.07720969]\n",
      "iteration  24 :  mode:  [0.06107638 0.04284698 0.29591071 0.52351452 0.0766514 ]\n",
      "iteration  25 :  mode:  [0.06112626 0.04282467 0.29636492 0.52285959 0.07682456]\n",
      "iteration  26 :  mode:  [0.06119993 0.04316096 0.29618681 0.52256694 0.07688535]\n",
      "iteration  27 :  mode:  [0.06108771 0.04374915 0.29693586 0.52056764 0.07765964]\n",
      "iteration  28 :  mode:  [0.06135776 0.04422266 0.2991692  0.51630053 0.07894986]\n",
      "iteration  29 :  mode:  [0.06218505 0.04471473 0.30015417 0.51347135 0.07947469]\n",
      "iteration  30 :  mode:  [0.06266507 0.04554327 0.30115513 0.51026787 0.08036865]\n"
     ]
    }
   ],
   "source": [
    "# put some initial input here. Like the trajectory of first one second\n",
    "for i in range(len(input_xy_temp)):\n",
    "    # x = interpolated_z[i, 0]\n",
    "    # y = interpolated_z[i, 1]\n",
    "    # z = np.array([[x], [y]])\n",
    "    z = input_xy_temp[i]\n",
    "    # print(z)\n",
    "    # print(z.shape)\n",
    "    \n",
    "    imm.predict()\n",
    "    imm.update(z)\n",
    "    # print(imm.x.T)\n",
    "    print(\"iteration \", i, \": \",  \"mode: \", imm.mu)\n",
    "    # print()"
   ]
  },
  {
   "cell_type": "code",
   "execution_count": 727,
   "metadata": {},
   "outputs": [],
   "source": [
    "kf_test = kinematic_kf(dim=2, order=2, dt=0.4, order_by_dim=False)"
   ]
  },
  {
   "cell_type": "code",
   "execution_count": 728,
   "metadata": {},
   "outputs": [
    {
     "data": {
      "text/plain": [
       "array([[1.  , 0.  , 0.4 , 0.  , 0.08, 0.  ],\n",
       "       [0.  , 1.  , 0.  , 0.4 , 0.  , 0.08],\n",
       "       [0.  , 0.  , 1.  , 0.  , 0.4 , 0.  ],\n",
       "       [0.  , 0.  , 0.  , 1.  , 0.  , 0.4 ],\n",
       "       [0.  , 0.  , 0.  , 0.  , 1.  , 0.  ],\n",
       "       [0.  , 0.  , 0.  , 0.  , 0.  , 1.  ]])"
      ]
     },
     "execution_count": 728,
     "metadata": {},
     "output_type": "execute_result"
    }
   ],
   "source": [
    "kf_test.F"
   ]
  },
  {
   "cell_type": "code",
   "execution_count": 729,
   "metadata": {},
   "outputs": [
    {
     "data": {
      "text/plain": [
       "4.47213595499958"
      ]
     },
     "execution_count": 729,
     "metadata": {},
     "output_type": "execute_result"
    }
   ],
   "source": [
    "np.linalg.norm((np.array((12, 5)) - np.array((8, 3))))"
   ]
  },
  {
   "cell_type": "code",
   "execution_count": 743,
   "metadata": {},
   "outputs": [
    {
     "data": {
      "text/plain": [
       "array([-14.5219591,   0.2516812])"
      ]
     },
     "execution_count": 743,
     "metadata": {},
     "output_type": "execute_result"
    }
   ],
   "source": [
    "tt = (np.array((-1.5219591, 6.0516812)) - np.array((13, 5.8)))\n",
    "tt"
   ]
  },
  {
   "cell_type": "code",
   "execution_count": 744,
   "metadata": {},
   "outputs": [
    {
     "name": "stderr",
     "output_type": "stream",
     "text": [
      "c:\\users\\sakif\\appdata\\local\\programs\\python\\python37\\lib\\site-packages\\ipykernel_launcher.py:1: RuntimeWarning: invalid value encountered in arccos\n",
      "  \"\"\"Entry point for launching an IPython kernel.\n"
     ]
    },
    {
     "data": {
      "text/plain": [
       "array([       nan, 1.31637935])"
      ]
     },
     "execution_count": 744,
     "metadata": {},
     "output_type": "execute_result"
    }
   ],
   "source": [
    "np.arccos(tt)"
   ]
  },
  {
   "cell_type": "code",
   "execution_count": 745,
   "metadata": {},
   "outputs": [
    {
     "data": {
      "text/plain": [
       "14.524139889456665"
      ]
     },
     "execution_count": 745,
     "metadata": {},
     "output_type": "execute_result"
    }
   ],
   "source": [
    "np.linalg.norm(tt)"
   ]
  },
  {
   "cell_type": "code",
   "execution_count": 736,
   "metadata": {},
   "outputs": [
    {
     "data": {
      "text/plain": [
       "1.000000001118128"
      ]
     },
     "execution_count": 736,
     "metadata": {},
     "output_type": "execute_result"
    }
   ],
   "source": [
    "np.sqrt((0.89442719**2 + 0.4472136**2))"
   ]
  },
  {
   "cell_type": "code",
   "execution_count": null,
   "metadata": {},
   "outputs": [],
   "source": []
  }
 ],
 "metadata": {
  "kernelspec": {
   "display_name": "Python 3 (ipykernel)",
   "language": "python",
   "name": "python3"
  },
  "language_info": {
   "codemirror_mode": {
    "name": "ipython",
    "version": 3
   },
   "file_extension": ".py",
   "mimetype": "text/x-python",
   "name": "python",
   "nbconvert_exporter": "python",
   "pygments_lexer": "ipython3",
   "version": "3.7.1"
  }
 },
 "nbformat": 4,
 "nbformat_minor": 4
}
