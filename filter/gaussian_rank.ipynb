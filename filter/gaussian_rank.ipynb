{
 "cells": [
  {
   "cell_type": "code",
   "execution_count": 1,
   "id": "90570334",
   "metadata": {},
   "outputs": [],
   "source": [
    "import numpy as np\n",
    "from scipy.stats import multivariate_normal"
   ]
  },
  {
   "cell_type": "code",
   "execution_count": 40,
   "id": "9e08e4a0",
   "metadata": {},
   "outputs": [],
   "source": [
    "def gauss_rank(pred_trajs, addnoise=False):\n",
    "    '''\n",
    "    pred_trajs: numberofpredictions*length*[x, y]\n",
    "    '''\n",
    "    # Swap time axis to the first\n",
    "    pred_trajs_t = np.swapaxes(pred_trajs, 1, 0)\n",
    "    rank = np.zeros((0, pred_trajs.shape[0]))\n",
    "    for pred_poss in pred_trajs_t:\n",
    " \n",
    "        # pred_poss is the sampled positions at each time step\n",
    "        # pred_poss will be used to fit a bivariable gaussian distribution \n",
    "        if addnoise == True:\n",
    "            pred_poss = pred_poss + np.random.normal(0, 1, pred_poss.shape)\n",
    "        mu = np.mean(pred_poss, axis=0)\n",
    "        # print(\"mu: \", mu)\n",
    "        # print(\"pred_poss: \", pred_poss)\n",
    "        covariance = np.cov(pred_poss.T)\n",
    "        # print(\"covariance: \", covariance)\n",
    "        pos_pdf = multivariate_normal.pdf(pred_poss, mean=mu, cov=covariance)\n",
    "        # print(\"pos_pdf: \", pos_pdf)\n",
    "        rank = np.vstack((rank, pos_pdf))\n",
    "        # print(\"rank:\", rank)\n",
    "    rank = np.mean(np.log(rank), axis=0)\n",
    "    return rank"
   ]
  },
  {
   "cell_type": "code",
   "execution_count": null,
   "id": "5f70e6c4",
   "metadata": {},
   "outputs": [],
   "source": [
    "array([[13.017548  ,  5.7825914 ],\n",
    "       [12.08777   ,  5.751949  ],\n",
    "       [11.746306  ,  5.7298146 ],\n",
    "       [11.175158  ,  5.8362471 ],\n",
    "       [10.43429   ,  5.8732028 ],\n",
    "       [10.050254  ,  6.1714868 ],\n",
    "       [ 9.5712958 ,  6.2373547 ],\n",
    "       [ 9.0840742 ,  6.2638361 ],\n",
    "       [ 8.5527509 ,  6.3740273 ],\n",
    "       [ 8.0978874 ,  6.4810373 ],\n",
    "       [ 7.6353672 ,  6.5483408 ],\n",
    "       [ 7.1670909 ,  6.616482  ],\n",
    "       [ 6.7341728 ,  6.6414608 ],\n",
    "       [ 6.3426199 ,  6.7058853 ],\n",
    "       [ 5.9914678 ,  6.7683596 ],\n",
    "       [ 5.5973695 ,  6.9181861 ],\n",
    "       [ 5.2394674 ,  6.9822277 ],\n",
    "       [ 5.0151027 ,  7.0384316 ],\n",
    "       [ 4.7975924 ,  7.2222416 ],\n",
    "       [ 4.5440437 ,  7.5798647 ],\n",
    "       [ 4.4518792 ,  7.5861562 ],"
   ]
  },
  {
   "cell_type": "code",
   "execution_count": 28,
   "id": "3bbb5d7b",
   "metadata": {},
   "outputs": [
    {
     "data": {
      "text/plain": [
       "[[[13.1, 5.8], [12.1, 5.75], [11.7, 5.72]],\n",
       " [[5, 7], [5, 0], [6, 9]],\n",
       " [[5, 1], [3, 4], [10, 6]]]"
      ]
     },
     "execution_count": 28,
     "metadata": {},
     "output_type": "execute_result"
    }
   ],
   "source": [
    "temp_array = [[[13.1, 5.8], [12.1, 5.75], [11.7, 5.72]], \n",
    "              [[5, 7], [5, 0], [6, 9]], \n",
    "              [[5, 1], [3, 4], [10, 6]]]\n",
    "temp_array"
   ]
  },
  {
   "cell_type": "code",
   "execution_count": 38,
   "id": "a6c67f98",
   "metadata": {},
   "outputs": [
    {
     "data": {
      "text/plain": [
       "[[3, 1, 4, 1, 5, 1], [5, 2, 5, 2, 6, 2], [5, 3, 3, 3, 10, 3]]"
      ]
     },
     "execution_count": 38,
     "metadata": {},
     "output_type": "execute_result"
    }
   ],
   "source": [
    "temp_array = [[3, 1, 4, 1, 5, 1], \n",
    "              [5, 2, 5, 2, 6, 2], \n",
    "              [5, 3, 3, 3, 10, 3]]\n",
    "temp_array"
   ]
  },
  {
   "cell_type": "code",
   "execution_count": 41,
   "id": "1360075c",
   "metadata": {},
   "outputs": [
    {
     "name": "stdout",
     "output_type": "stream",
     "text": [
      "[-1.51380138 -1.22808709 -1.57332519]\n",
      "1\n"
     ]
    }
   ],
   "source": [
    "ranks = gauss_rank(np.array(temp_array))\n",
    "print(ranks)\n",
    "print(np.argmax(ranks))"
   ]
  },
  {
   "cell_type": "code",
   "execution_count": null,
   "id": "15419ec3",
   "metadata": {},
   "outputs": [],
   "source": []
  }
 ],
 "metadata": {
  "kernelspec": {
   "display_name": "Python 3 (ipykernel)",
   "language": "python",
   "name": "python3"
  },
  "language_info": {
   "codemirror_mode": {
    "name": "ipython",
    "version": 3
   },
   "file_extension": ".py",
   "mimetype": "text/x-python",
   "name": "python",
   "nbconvert_exporter": "python",
   "pygments_lexer": "ipython3",
   "version": "3.7.1"
  }
 },
 "nbformat": 4,
 "nbformat_minor": 5
}
