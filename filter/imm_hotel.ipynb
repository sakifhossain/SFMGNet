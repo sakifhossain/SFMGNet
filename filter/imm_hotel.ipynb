{
 "cells": [
  {
   "cell_type": "code",
   "execution_count": 1,
   "id": "5998daee",
   "metadata": {},
   "outputs": [],
   "source": [
    "from filterpy.common import kinematic_kf\n",
    "import numpy as np\n",
    "from filterpy.kalman import IMMEstimator\n",
    "import math\n",
    "from filterpy.kalman import KalmanFilter\n",
    "import pandas as pd"
   ]
  },
  {
   "cell_type": "code",
   "execution_count": 2,
   "id": "30804824",
   "metadata": {},
   "outputs": [],
   "source": [
    "# import ipynb.fs.full.filter_base as imm_filter"
   ]
  },
  {
   "cell_type": "code",
   "execution_count": 3,
   "id": "6ce9d115",
   "metadata": {},
   "outputs": [],
   "source": [
    "test_df_path = \"C:/Users/sakif/jupyter projects/thesis_test/modular test/Untitled Folder/HOTEL_data_prepared_normal3.csv\"\n",
    "# delta_t = 0.4"
   ]
  },
  {
   "cell_type": "code",
   "execution_count": 4,
   "id": "0e11423f",
   "metadata": {},
   "outputs": [],
   "source": [
    "test_df = pd.read_csv(test_df_path, index_col=None)"
   ]
  },
  {
   "cell_type": "code",
   "execution_count": 5,
   "id": "436294a9",
   "metadata": {},
   "outputs": [
    {
     "data": {
      "text/html": [
       "<div>\n",
       "<style scoped>\n",
       "    .dataframe tbody tr th:only-of-type {\n",
       "        vertical-align: middle;\n",
       "    }\n",
       "\n",
       "    .dataframe tbody tr th {\n",
       "        vertical-align: top;\n",
       "    }\n",
       "\n",
       "    .dataframe thead th {\n",
       "        text-align: right;\n",
       "    }\n",
       "</style>\n",
       "<table border=\"1\" class=\"dataframe\">\n",
       "  <thead>\n",
       "    <tr style=\"text-align: right;\">\n",
       "      <th></th>\n",
       "      <th>frame_id</th>\n",
       "      <th>ped_no</th>\n",
       "      <th>pos_x</th>\n",
       "      <th>pos_y</th>\n",
       "      <th>vel_x</th>\n",
       "      <th>vel_y</th>\n",
       "      <th>rotation_angle</th>\n",
       "      <th>eta_group_x</th>\n",
       "      <th>eta_group_y</th>\n",
       "      <th>bound_x</th>\n",
       "      <th>...</th>\n",
       "      <th>n_w_y21</th>\n",
       "      <th>n_w_y22</th>\n",
       "      <th>n_w_y23</th>\n",
       "      <th>n_w_y24</th>\n",
       "      <th>n_w_y25</th>\n",
       "      <th>n_w_y26</th>\n",
       "      <th>n26_y</th>\n",
       "      <th>d_w_bound</th>\n",
       "      <th>n_w_bound_x</th>\n",
       "      <th>n_w_bound_y</th>\n",
       "    </tr>\n",
       "  </thead>\n",
       "  <tbody>\n",
       "    <tr>\n",
       "      <th>0</th>\n",
       "      <td>1</td>\n",
       "      <td>1</td>\n",
       "      <td>1.398378</td>\n",
       "      <td>-5.743303</td>\n",
       "      <td>-0.327083</td>\n",
       "      <td>-1.680286</td>\n",
       "      <td>0.0</td>\n",
       "      <td>0.0</td>\n",
       "      <td>0.0</td>\n",
       "      <td>-0.957</td>\n",
       "      <td>...</td>\n",
       "      <td>0.0</td>\n",
       "      <td>0.0</td>\n",
       "      <td>0.0</td>\n",
       "      <td>0.0</td>\n",
       "      <td>0.0</td>\n",
       "      <td>0.0</td>\n",
       "      <td>0.0</td>\n",
       "      <td>4.986398</td>\n",
       "      <td>0.280439</td>\n",
       "      <td>-0.959872</td>\n",
       "    </tr>\n",
       "    <tr>\n",
       "      <th>1</th>\n",
       "      <td>1</td>\n",
       "      <td>2</td>\n",
       "      <td>0.517796</td>\n",
       "      <td>-7.003832</td>\n",
       "      <td>0.097997</td>\n",
       "      <td>-1.629874</td>\n",
       "      <td>0.0</td>\n",
       "      <td>0.0</td>\n",
       "      <td>0.0</td>\n",
       "      <td>-0.719</td>\n",
       "      <td>...</td>\n",
       "      <td>0.0</td>\n",
       "      <td>0.0</td>\n",
       "      <td>0.0</td>\n",
       "      <td>0.0</td>\n",
       "      <td>0.0</td>\n",
       "      <td>0.0</td>\n",
       "      <td>0.0</td>\n",
       "      <td>6.306127</td>\n",
       "      <td>0.082110</td>\n",
       "      <td>-0.996623</td>\n",
       "    </tr>\n",
       "    <tr>\n",
       "      <th>2</th>\n",
       "      <td>1</td>\n",
       "      <td>3</td>\n",
       "      <td>2.259814</td>\n",
       "      <td>-4.546597</td>\n",
       "      <td>-0.901111</td>\n",
       "      <td>1.187025</td>\n",
       "      <td>0.0</td>\n",
       "      <td>0.0</td>\n",
       "      <td>0.0</td>\n",
       "      <td>-0.957</td>\n",
       "      <td>...</td>\n",
       "      <td>0.0</td>\n",
       "      <td>0.0</td>\n",
       "      <td>0.0</td>\n",
       "      <td>0.0</td>\n",
       "      <td>0.0</td>\n",
       "      <td>0.0</td>\n",
       "      <td>0.0</td>\n",
       "      <td>4.241694</td>\n",
       "      <td>0.532762</td>\n",
       "      <td>-0.846265</td>\n",
       "    </tr>\n",
       "    <tr>\n",
       "      <th>3</th>\n",
       "      <td>1</td>\n",
       "      <td>4</td>\n",
       "      <td>2.740179</td>\n",
       "      <td>-2.423851</td>\n",
       "      <td>0.053061</td>\n",
       "      <td>1.815625</td>\n",
       "      <td>0.0</td>\n",
       "      <td>0.0</td>\n",
       "      <td>0.0</td>\n",
       "      <td>-0.819</td>\n",
       "      <td>...</td>\n",
       "      <td>0.0</td>\n",
       "      <td>0.0</td>\n",
       "      <td>0.0</td>\n",
       "      <td>0.0</td>\n",
       "      <td>0.0</td>\n",
       "      <td>0.0</td>\n",
       "      <td>0.0</td>\n",
       "      <td>3.175551</td>\n",
       "      <td>0.862899</td>\n",
       "      <td>-0.505377</td>\n",
       "    </tr>\n",
       "    <tr>\n",
       "      <th>4</th>\n",
       "      <td>1</td>\n",
       "      <td>5</td>\n",
       "      <td>-1.585502</td>\n",
       "      <td>0.927584</td>\n",
       "      <td>0.000000</td>\n",
       "      <td>0.000000</td>\n",
       "      <td>0.0</td>\n",
       "      <td>0.0</td>\n",
       "      <td>0.0</td>\n",
       "      <td>-0.857</td>\n",
       "      <td>...</td>\n",
       "      <td>0.0</td>\n",
       "      <td>0.0</td>\n",
       "      <td>0.0</td>\n",
       "      <td>0.0</td>\n",
       "      <td>0.0</td>\n",
       "      <td>0.0</td>\n",
       "      <td>0.0</td>\n",
       "      <td>2.387165</td>\n",
       "      <td>-0.664178</td>\n",
       "      <td>0.747575</td>\n",
       "    </tr>\n",
       "  </tbody>\n",
       "</table>\n",
       "<p>5 rows × 144 columns</p>\n",
       "</div>"
      ],
      "text/plain": [
       "   frame_id  ped_no     pos_x     pos_y     vel_x     vel_y  rotation_angle  \\\n",
       "0         1       1  1.398378 -5.743303 -0.327083 -1.680286             0.0   \n",
       "1         1       2  0.517796 -7.003832  0.097997 -1.629874             0.0   \n",
       "2         1       3  2.259814 -4.546597 -0.901111  1.187025             0.0   \n",
       "3         1       4  2.740179 -2.423851  0.053061  1.815625             0.0   \n",
       "4         1       5 -1.585502  0.927584  0.000000  0.000000             0.0   \n",
       "\n",
       "   eta_group_x  eta_group_y  bound_x  ...  n_w_y21  n_w_y22  n_w_y23  n_w_y24  \\\n",
       "0          0.0          0.0   -0.957  ...      0.0      0.0      0.0      0.0   \n",
       "1          0.0          0.0   -0.719  ...      0.0      0.0      0.0      0.0   \n",
       "2          0.0          0.0   -0.957  ...      0.0      0.0      0.0      0.0   \n",
       "3          0.0          0.0   -0.819  ...      0.0      0.0      0.0      0.0   \n",
       "4          0.0          0.0   -0.857  ...      0.0      0.0      0.0      0.0   \n",
       "\n",
       "   n_w_y25  n_w_y26  n26_y  d_w_bound  n_w_bound_x  n_w_bound_y  \n",
       "0      0.0      0.0    0.0   4.986398     0.280439    -0.959872  \n",
       "1      0.0      0.0    0.0   6.306127     0.082110    -0.996623  \n",
       "2      0.0      0.0    0.0   4.241694     0.532762    -0.846265  \n",
       "3      0.0      0.0    0.0   3.175551     0.862899    -0.505377  \n",
       "4      0.0      0.0    0.0   2.387165    -0.664178     0.747575  \n",
       "\n",
       "[5 rows x 144 columns]"
      ]
     },
     "execution_count": 5,
     "metadata": {},
     "output_type": "execute_result"
    }
   ],
   "source": [
    "test_df.head()"
   ]
  },
  {
   "cell_type": "code",
   "execution_count": 6,
   "id": "dd1868e0",
   "metadata": {},
   "outputs": [],
   "source": [
    "def state_transition_matrix(v, yaw, T):\n",
    "    term13 = (v/yaw) * (-math.cos(yaw) + math.cos(T * yaw + yaw))\n",
    "    term14 = (-math.sin(yaw) + math.sin(T * yaw + yaw))/yaw\n",
    "    term15 = T * v * math.cos(T * yaw + yaw)/ yaw - v * (-math.sin(yaw) + math.sin(T * yaw + yaw)) / yaw **2\n",
    "    term23 = (v/yaw) * (-math.sin(yaw) + math.sin(T * yaw + yaw))\n",
    "    term24 = (math.cos(yaw) - math.cos(T * yaw + yaw)) / yaw\n",
    "    term25 = T * v * math.sin(T * yaw + yaw)/ yaw - v * (math.cos(yaw) - math.cos(T * yaw + yaw)) / yaw **2\n",
    "    state_transition_matrix = np.array([[1, 0, term13, term14, term15],\n",
    "                                        [0, 1, term23, term24, term25],\n",
    "                                        [0, 0, 1, 0, T],\n",
    "                                        [0, 0, 0, 1, 0],\n",
    "                                        [0, 0, 0, 0, 1]])\n",
    "    return state_transition_matrix\n",
    "\n",
    "def direction(current_state, destination_state):\n",
    "    # atan2(b1−a1,b2−a2)\n",
    "    directions1 = np.linalg.norm((np.array(destination_state) - np.array(current_state)))\n",
    "    # dest_tempp = np.array(destination_state) - np.array(current_state)\n",
    "    # temp_d = math.atan2(dest_tempp[0], dest_tempp[1])\n",
    "    # directions1 = math.degrees(temp_d)\n",
    "    # print(directions1)\n",
    "    return directions1"
   ]
  },
  {
   "cell_type": "code",
   "execution_count": 27,
   "id": "e4110a33",
   "metadata": {},
   "outputs": [],
   "source": [
    "dest_list = np.array(((0, -2.7109002e+05), (0, 1.5239712e+05), (5.7970002, -2.7628508), (-8.4644202, -3.2331944e+01),\n",
    "                      (-8.315, -3.0036907e+01), (-8.16678, -2.7753721e+01), (-8.0191203e+00, -2.5482296e+01), \n",
    "                      (-7.8722121e+00, -2.3222540e+01), (-7.7260567e+00, -2.0974363e+01), (-7.5806484e+00, -1.8737678e+01),\n",
    "                      (-7.4359814e+00, -1.6512396e+01), (-7.2920500e+00, -1.4298429e+01), (-7.1488487e+00, -1.2095693e+01), \n",
    "                      (-7.0063720e+00, -9.9041015), (-7.0063720, -9.9041015), (-6.8646142e+00, -7.7235703e+00), \n",
    "                      (-6.7235701e+00, -5.5540161e+00), (-6.5832343e+00, -3.3953560e+00), (-6.4436013e+00, -1.2475083e+00),\n",
    "                      (-6.3046660e+00, 8.8960816e-01), (-6.1664232e+00, 3.0160735e+00), (-6.1664232e+00, 3.0160735e+00), \n",
    "                      (-6.0288676e+00, 5.1319672e+00), (-5.8919942e+00, 7.2373678e+00), (-5.7557978e+00, 9.3323533e+00), \n",
    "                      (-5.6202736e+00, 1.1417001e+01)))"
   ]
  },
  {
   "cell_type": "code",
   "execution_count": 28,
   "id": "ee870af4",
   "metadata": {},
   "outputs": [
    {
     "data": {
      "text/plain": [
       "(26, 2)"
      ]
     },
     "execution_count": 28,
     "metadata": {},
     "output_type": "execute_result"
    }
   ],
   "source": [
    "dest_list.shape"
   ]
  },
  {
   "cell_type": "code",
   "execution_count": 29,
   "id": "1fa1ae6f",
   "metadata": {},
   "outputs": [],
   "source": [
    "def imm_dest_filter2(input_xy_temp, dest_list):\n",
    "    start = input_xy_temp[0]\n",
    "    # zone1, zone2, zone3, zone4 = [-2, 5.8566027], [-6.5902743, 0.065724367], [-6.5553084, 1.1867515], [15.10717, 5.5659299]\n",
    "    zone1, zone2, zone3, zone4, zone5 = dest_list[0], dest_list[1], dest_list[2], dest_list[3], dest_list[4]\n",
    "    zone6, zone7, zone8, zone9, zone10 = dest_list[5], dest_list[6], dest_list[7], dest_list[8], dest_list[9]\n",
    "    zone11, zone12, zone13, zone14, zone15 = dest_list[10], dest_list[11], dest_list[12], dest_list[13], dest_list[14]\n",
    "    zone16, zone17, zone18, zone19, zone20 = dest_list[15], dest_list[16], dest_list[17], dest_list[18], dest_list[19]\n",
    "    zone21, zone22, zone23, zone24, zone25 = dest_list[20], dest_list[21], dest_list[22], dest_list[23], dest_list[24]\n",
    "    zone26 = dest_list[25]\n",
    "    v, delta_t = 0.707, 0.4\n",
    "\n",
    "    kf1 = KalmanFilter(dim_x=5, dim_z=2)\n",
    "    kf2 = KalmanFilter(dim_x=5, dim_z=2)\n",
    "    kf3 = KalmanFilter(dim_x=5, dim_z=2)\n",
    "    kf4 = KalmanFilter(dim_x=5, dim_z=2)\n",
    "    kf5 = KalmanFilter(dim_x=5, dim_z=2)\n",
    "    kf6 = KalmanFilter(dim_x=5, dim_z=2)\n",
    "    kf7 = KalmanFilter(dim_x=5, dim_z=2)\n",
    "    kf8 = KalmanFilter(dim_x=5, dim_z=2)\n",
    "    kf9 = KalmanFilter(dim_x=5, dim_z=2)\n",
    "    kf10 = KalmanFilter(dim_x=5, dim_z=2)\n",
    "    kf11 = KalmanFilter(dim_x=5, dim_z=2)\n",
    "    kf12 = KalmanFilter(dim_x=5, dim_z=2)\n",
    "    kf13 = KalmanFilter(dim_x=5, dim_z=2)\n",
    "    kf14 = KalmanFilter(dim_x=5, dim_z=2)\n",
    "    kf15 = KalmanFilter(dim_x=5, dim_z=2)\n",
    "    kf16 = KalmanFilter(dim_x=5, dim_z=2)\n",
    "    kf17 = KalmanFilter(dim_x=5, dim_z=2)\n",
    "    kf18 = KalmanFilter(dim_x=5, dim_z=2)\n",
    "    kf19 = KalmanFilter(dim_x=5, dim_z=2)\n",
    "    kf20 = KalmanFilter(dim_x=5, dim_z=2)\n",
    "    kf21 = KalmanFilter(dim_x=5, dim_z=2)\n",
    "    kf22 = KalmanFilter(dim_x=5, dim_z=2)\n",
    "    kf23 = KalmanFilter(dim_x=5, dim_z=2)\n",
    "    kf24 = KalmanFilter(dim_x=5, dim_z=2)\n",
    "    kf25 = KalmanFilter(dim_x=5, dim_z=2)\n",
    "    kf26 = KalmanFilter(dim_x=5, dim_z=2)\n",
    "\n",
    "    directions1, directions2, directions3 = direction(start, zone1), direction(start, zone2), direction(start, zone3)\n",
    "    directions4, directions5, directions6 = direction(start, zone4), direction(start, zone5), direction(start, zone6)\n",
    "    directions7, directions8, directions9 = direction(start, zone7), direction(start, zone8), direction(start, zone9)\n",
    "    directions10, directions11, directions12 = direction(start, zone10), direction(start, zone11), direction(start, zone12)\n",
    "    directions13, directions14, directions15 = direction(start, zone13), direction(start, zone14), direction(start, zone15)\n",
    "    directions16, directions17, directions18 = direction(start, zone16), direction(start, zone17), direction(start, zone18)\n",
    "    directions19, directions20, directions21 = direction(start, zone19), direction(start, zone20), direction(start, zone21)\n",
    "    directions22, directions23, directions24 = direction(start, zone22), direction(start, zone23), direction(start, zone24)\n",
    "    directions25, directions26 = direction(start, zone25), direction(start, zone26)\n",
    "\n",
    "    state_transition1 = state_transition_matrix(v, directions1, delta_t)\n",
    "    state_transition2 = state_transition_matrix(v, directions2, delta_t)\n",
    "    state_transition3 = state_transition_matrix(v, directions3, delta_t)\n",
    "    state_transition4 = state_transition_matrix(v, directions4, delta_t)\n",
    "    state_transition5 = state_transition_matrix(v, directions5, delta_t)\n",
    "    state_transition6 = state_transition_matrix(v, directions6, delta_t)\n",
    "    state_transition7 = state_transition_matrix(v, directions7, delta_t)\n",
    "    state_transition8 = state_transition_matrix(v, directions8, delta_t)\n",
    "    state_transition9 = state_transition_matrix(v, directions9, delta_t)\n",
    "    state_transition10 = state_transition_matrix(v, directions10, delta_t)\n",
    "    state_transition11 = state_transition_matrix(v, directions11, delta_t)\n",
    "    state_transition12 = state_transition_matrix(v, directions12, delta_t)\n",
    "    state_transition13 = state_transition_matrix(v, directions13, delta_t)\n",
    "    state_transition14 = state_transition_matrix(v, directions14, delta_t)\n",
    "    state_transition15 = state_transition_matrix(v, directions15, delta_t)\n",
    "    state_transition16 = state_transition_matrix(v, directions16, delta_t)\n",
    "    state_transition17 = state_transition_matrix(v, directions17, delta_t)\n",
    "    state_transition18 = state_transition_matrix(v, directions18, delta_t)\n",
    "    state_transition19 = state_transition_matrix(v, directions19, delta_t)\n",
    "    state_transition20 = state_transition_matrix(v, directions20, delta_t)\n",
    "    state_transition21 = state_transition_matrix(v, directions21, delta_t)\n",
    "    state_transition22 = state_transition_matrix(v, directions22, delta_t)\n",
    "    state_transition23 = state_transition_matrix(v, directions23, delta_t)\n",
    "    state_transition24 = state_transition_matrix(v, directions24, delta_t)\n",
    "    state_transition25 = state_transition_matrix(v, directions25, delta_t)\n",
    "    state_transition26 = state_transition_matrix(v, directions26, delta_t)\n",
    "\n",
    "    kf1.F, kf2.F, kf3.F, kf4.F = state_transition1, state_transition2, state_transition3, state_transition4\n",
    "    kf5.F = state_transition5\n",
    "    kf6.F = state_transition6\n",
    "    kf7.F = state_transition7\n",
    "    kf8.F = state_transition8\n",
    "    kf9.F = state_transition9\n",
    "    kf10.F = state_transition10\n",
    "    kf11.F = state_transition11\n",
    "    kf12.F = state_transition12\n",
    "    kf13.F = state_transition13\n",
    "    kf14.F = state_transition14\n",
    "    kf15.F = state_transition15\n",
    "    kf16.F = state_transition16\n",
    "    kf17.F = state_transition17\n",
    "    kf18.F = state_transition18\n",
    "    kf19.F = state_transition19\n",
    "    kf20.F = state_transition20\n",
    "    kf21.F = state_transition21\n",
    "    kf22.F = state_transition22\n",
    "    kf23.F = state_transition23\n",
    "    kf24.F = state_transition24\n",
    "    kf25.F = state_transition25\n",
    "    kf26.F = state_transition26\n",
    "\n",
    "    # define initial state [x, y, yaw, velocity, yaw*dt]\n",
    "    kf1.x = np.array([input_xy_temp[0, 0], input_xy_temp[0, 1], directions1, v, directions1*delta_t])\n",
    "    kf2.x = np.array([input_xy_temp[0, 0], input_xy_temp[0, 1], directions2, v, directions2*delta_t])\n",
    "    kf3.x = np.array([input_xy_temp[0, 0], input_xy_temp[0, 1], directions3, v, directions3*delta_t])\n",
    "    kf4.x = np.array([input_xy_temp[0, 0], input_xy_temp[0, 1], directions4, v, directions4*delta_t])\n",
    "    kf5.x = np.array([input_xy_temp[0, 0], input_xy_temp[0, 1], directions5, v, directions5*delta_t])\n",
    "    kf6.x = np.array([input_xy_temp[0, 0], input_xy_temp[0, 1], directions6, v, directions6*delta_t])\n",
    "    kf7.x = np.array([input_xy_temp[0, 0], input_xy_temp[0, 1], directions7, v, directions7*delta_t])\n",
    "    kf8.x = np.array([input_xy_temp[0, 0], input_xy_temp[0, 1], directions8, v, directions8*delta_t])\n",
    "    kf9.x = np.array([input_xy_temp[0, 0], input_xy_temp[0, 1], directions9, v, directions9*delta_t])\n",
    "    kf10.x = np.array([input_xy_temp[0, 0], input_xy_temp[0, 1], directions10, v, directions10*delta_t])\n",
    "    kf11.x = np.array([input_xy_temp[0, 0], input_xy_temp[0, 1], directions11, v, directions11*delta_t])\n",
    "    kf12.x = np.array([input_xy_temp[0, 0], input_xy_temp[0, 1], directions12, v, directions12*delta_t])\n",
    "    kf13.x = np.array([input_xy_temp[0, 0], input_xy_temp[0, 1], directions13, v, directions13*delta_t])\n",
    "    kf14.x = np.array([input_xy_temp[0, 0], input_xy_temp[0, 1], directions14, v, directions14*delta_t])\n",
    "    kf15.x = np.array([input_xy_temp[0, 0], input_xy_temp[0, 1], directions15, v, directions15*delta_t])\n",
    "    kf16.x = np.array([input_xy_temp[0, 0], input_xy_temp[0, 1], directions16, v, directions16*delta_t])\n",
    "    kf17.x = np.array([input_xy_temp[0, 0], input_xy_temp[0, 1], directions17, v, directions17*delta_t])\n",
    "    kf18.x = np.array([input_xy_temp[0, 0], input_xy_temp[0, 1], directions18, v, directions18*delta_t])\n",
    "    kf19.x = np.array([input_xy_temp[0, 0], input_xy_temp[0, 1], directions19, v, directions19*delta_t])\n",
    "    kf20.x = np.array([input_xy_temp[0, 0], input_xy_temp[0, 1], directions20, v, directions20*delta_t])\n",
    "    kf21.x = np.array([input_xy_temp[0, 0], input_xy_temp[0, 1], directions21, v, directions21*delta_t])\n",
    "    kf22.x = np.array([input_xy_temp[0, 0], input_xy_temp[0, 1], directions22, v, directions22*delta_t])\n",
    "    kf23.x = np.array([input_xy_temp[0, 0], input_xy_temp[0, 1], directions23, v, directions23*delta_t])\n",
    "    kf24.x = np.array([input_xy_temp[0, 0], input_xy_temp[0, 1], directions24, v, directions24*delta_t])\n",
    "    kf25.x = np.array([input_xy_temp[0, 0], input_xy_temp[0, 1], directions25, v, directions25*delta_t])\n",
    "    kf26.x = np.array([input_xy_temp[0, 0], input_xy_temp[0, 1], directions26, v, directions26*delta_t])\n",
    "\n",
    "    sGPS, sCourse, sVelocity, sYaw = 0.5*8.8*delta_t**2, 0.1*delta_t, 8.8*delta_t, 1.0*delta_t\n",
    "    temp_q = np.diag([sGPS**2, sGPS**2, sCourse**2, sVelocity**2, sYaw**2])\n",
    "    # process noise\n",
    "    kf1.Q, kf2.Q, kf3.Q, kf4.Q = temp_q, temp_q, temp_q, temp_q\n",
    "    kf5.Q, kf6.Q, kf7.Q, kf8.Q = temp_q, temp_q, temp_q, temp_q\n",
    "    kf9.Q, kf10.Q, kf11.Q, kf12.Q = temp_q, temp_q, temp_q, temp_q\n",
    "    kf13.Q, kf14.Q, kf15.Q, kf16.Q = temp_q, temp_q, temp_q, temp_q\n",
    "    kf17.Q, kf18.Q, kf19.Q, kf20.Q = temp_q, temp_q, temp_q, temp_q\n",
    "    kf21.Q, kf22.Q, kf23.Q, kf24.Q = temp_q, temp_q, temp_q, temp_q\n",
    "    kf25.Q, kf26.Q = temp_q, temp_q\n",
    "    \n",
    "    # measurement noise\n",
    "    kf1.R, kf2.R, kf3.R, kf4.R = np.identity(2)*5, np.identity(2)*5, np.identity(2)*5, np.identity(2)*5\n",
    "    kf5.R, kf6.R, kf7.R, kf8.R = np.identity(2)*5, np.identity(2)*5, np.identity(2)*5, np.identity(2)*5\n",
    "    kf9.R, kf10.R, kf11.R, kf12.R = np.identity(2)*5, np.identity(2)*5, np.identity(2)*5, np.identity(2)*5\n",
    "    kf13.R, kf14.R, kf15.R, kf16.R = np.identity(2)*5, np.identity(2)*5, np.identity(2)*5, np.identity(2)*5\n",
    "    kf17.R, kf18.R, kf19.R, kf20.R = np.identity(2)*5, np.identity(2)*5, np.identity(2)*5, np.identity(2)*5\n",
    "    kf21.R, kf22.R, kf23.R, kf24.R = np.identity(2)*5, np.identity(2)*5, np.identity(2)*5, np.identity(2)*5\n",
    "    kf25.R, kf26.R = np.identity(2)*5, np.identity(2)*5\n",
    "    # Define the covariance matrix.\n",
    "    # Here I take advantage of the fact that P already contains np.eye(dim_x), and just multiply by the uncertainty:\n",
    "    kf1.P *= 10; kf2.P *= 10; kf3.P *= 10; kf4.P *= 10\n",
    "    kf5.P *= 10; kf6.P *= 10; kf7.P *= 10; kf8.P *= 10\n",
    "    kf9.P *= 10; kf10.P *= 10; kf11.P *= 10; kf12.P *= 10\n",
    "    kf13.P *= 10; kf14.P *= 10; kf15.P *= 10; kf16.P *= 10\n",
    "    kf17.P *= 10; kf18.P *= 10; kf19.P *= 10; kf20.P *= 10\n",
    "    kf21.P *= 10; kf22.P *= 10; kf23.P *= 10; kf24.P *= 10\n",
    "    kf25.P *= 10; kf26.P *= 10\n",
    "        \n",
    "\n",
    "    # define measurement function\n",
    "    kf1.H = np.array([[1.0, 0.0, 0.0, 0.0, 0.0],\n",
    "                    [0.0, 1.0, 0.0, 0.0, 0.0]])\n",
    "    kf2.H = np.array([[1.0, 0.0, 0.0, 0.0, 0.0],\n",
    "                    [0.0, 1.0, 0.0, 0.0, 0.0]])\n",
    "    kf3.H = np.array([[1.0, 0.0, 0.0, 0.0, 0.0],\n",
    "                    [0.0, 1.0, 0.0, 0.0, 0.0]])\n",
    "    kf4.H = np.array([[1.0, 0.0, 0.0, 0.0, 0.0],\n",
    "                    [0.0, 1.0, 0.0, 0.0, 0.0]])\n",
    "    kf5.H = np.array([[1.0, 0.0, 0.0, 0.0, 0.0],\n",
    "                    [0.0, 1.0, 0.0, 0.0, 0.0]])\n",
    "    kf6.H = np.array([[1.0, 0.0, 0.0, 0.0, 0.0],\n",
    "                    [0.0, 1.0, 0.0, 0.0, 0.0]])\n",
    "    kf7.H = np.array([[1.0, 0.0, 0.0, 0.0, 0.0],\n",
    "                    [0.0, 1.0, 0.0, 0.0, 0.0]])\n",
    "    kf8.H = np.array([[1.0, 0.0, 0.0, 0.0, 0.0],\n",
    "                    [0.0, 1.0, 0.0, 0.0, 0.0]])\n",
    "    kf9.H = np.array([[1.0, 0.0, 0.0, 0.0, 0.0],\n",
    "                    [0.0, 1.0, 0.0, 0.0, 0.0]])\n",
    "    kf10.H = np.array([[1.0, 0.0, 0.0, 0.0, 0.0],\n",
    "                    [0.0, 1.0, 0.0, 0.0, 0.0]])\n",
    "    kf11.H = np.array([[1.0, 0.0, 0.0, 0.0, 0.0],\n",
    "                    [0.0, 1.0, 0.0, 0.0, 0.0]])\n",
    "    kf12.H = np.array([[1.0, 0.0, 0.0, 0.0, 0.0],\n",
    "                    [0.0, 1.0, 0.0, 0.0, 0.0]])\n",
    "    kf13.H = np.array([[1.0, 0.0, 0.0, 0.0, 0.0],\n",
    "                    [0.0, 1.0, 0.0, 0.0, 0.0]])\n",
    "    kf14.H = np.array([[1.0, 0.0, 0.0, 0.0, 0.0],\n",
    "                    [0.0, 1.0, 0.0, 0.0, 0.0]])\n",
    "    kf15.H = np.array([[1.0, 0.0, 0.0, 0.0, 0.0],\n",
    "                    [0.0, 1.0, 0.0, 0.0, 0.0]])\n",
    "    kf16.H = np.array([[1.0, 0.0, 0.0, 0.0, 0.0],\n",
    "                    [0.0, 1.0, 0.0, 0.0, 0.0]])\n",
    "    kf17.H = np.array([[1.0, 0.0, 0.0, 0.0, 0.0],\n",
    "                    [0.0, 1.0, 0.0, 0.0, 0.0]])\n",
    "    kf18.H = np.array([[1.0, 0.0, 0.0, 0.0, 0.0],\n",
    "                    [0.0, 1.0, 0.0, 0.0, 0.0]])\n",
    "    kf19.H = np.array([[1.0, 0.0, 0.0, 0.0, 0.0],\n",
    "                    [0.0, 1.0, 0.0, 0.0, 0.0]])\n",
    "    kf20.H = np.array([[1.0, 0.0, 0.0, 0.0, 0.0],\n",
    "                    [0.0, 1.0, 0.0, 0.0, 0.0]])\n",
    "    kf21.H = np.array([[1.0, 0.0, 0.0, 0.0, 0.0],\n",
    "                    [0.0, 1.0, 0.0, 0.0, 0.0]])\n",
    "    kf22.H = np.array([[1.0, 0.0, 0.0, 0.0, 0.0],\n",
    "                    [0.0, 1.0, 0.0, 0.0, 0.0]])\n",
    "    kf23.H = np.array([[1.0, 0.0, 0.0, 0.0, 0.0],\n",
    "                    [0.0, 1.0, 0.0, 0.0, 0.0]])\n",
    "    kf24.H = np.array([[1.0, 0.0, 0.0, 0.0, 0.0],\n",
    "                    [0.0, 1.0, 0.0, 0.0, 0.0]])\n",
    "    kf25.H = np.array([[1.0, 0.0, 0.0, 0.0, 0.0],\n",
    "                    [0.0, 1.0, 0.0, 0.0, 0.0]])\n",
    "    kf26.H = np.array([[1.0, 0.0, 0.0, 0.0, 0.0],\n",
    "                    [0.0, 1.0, 0.0, 0.0, 0.0]])\n",
    "\n",
    "    filters = [kf1, kf2, kf3, kf4, kf5, kf6, kf7, kf8, kf9, kf10, kf11, kf12, kf13, kf14, kf15, kf16, kf17, \n",
    "               kf18, kf19, kf20, kf21, kf22, kf23, kf24, kf25, kf26]\n",
    "\n",
    "    mu = [0.03846, 0.03846, 0.03846, 0.03846, 0.03846, 0.03846, 0.03846, 0.03846, 0.03846, 0.03846, 0.03846, 0.03846,\n",
    "          0.03846, 0.03846, 0.03846, 0.03846, 0.03846, 0.03846, 0.03846, 0.03846, 0.03846, 0.03846, 0.03846, 0.03846,\n",
    "          0.03846, 0.03846] # each filter is equally likely at the start\n",
    "    \n",
    "    temp_arrr = np.full((26, 26), 0.01)\n",
    "    np.fill_diagonal(temp_arrr, 0.75)\n",
    "\n",
    "    trans = temp_arrr\n",
    "    # M[i,j] is the probability of switching from filter j to filter i.\n",
    "\n",
    "    imm = IMMEstimator(filters, mu, trans)\n",
    "    for i in range(len(input_xy_temp)):\n",
    "        z = input_xy_temp[i]\n",
    "        imm.predict()\n",
    "        imm.update(z)\n",
    "    chosen_filter = np.argmax(imm.mu)\n",
    "    estimated_destination = dest_list[chosen_filter]\n",
    "    # print(\"Highest probability: \", np.max(imm.mu))\n",
    "    return estimated_destination"
   ]
  },
  {
   "cell_type": "code",
   "execution_count": 46,
   "id": "681b48b6",
   "metadata": {},
   "outputs": [],
   "source": [
    "def imm_dest_filter(input_xy_temp, dest_list):\n",
    "    start = input_xy_temp[0]\n",
    "    # zone1, zone2, zone3, zone4 = [-2, 5.8566027], [-6.5902743, 0.065724367], [-6.5553084, 1.1867515], [15.10717, 5.5659299]\n",
    "    zone1, zone2, zone3, zone4 = dest_list[0], dest_list[1], dest_list[2], dest_list[3]\n",
    "    v, delta_t = 0.707, 0.4\n",
    "\n",
    "    kf1 = KalmanFilter(dim_x=5, dim_z=2)\n",
    "    kf2 = KalmanFilter(dim_x=5, dim_z=2)\n",
    "    kf3 = KalmanFilter(dim_x=5, dim_z=2)\n",
    "    kf4 = KalmanFilter(dim_x=5, dim_z=2)\n",
    "\n",
    "    directions1, directions2, directions3 = direction(start, zone1), direction(start, zone2), direction(start, zone3)\n",
    "    directions4 = direction(start, zone4)\n",
    "\n",
    "    state_transition1 = state_transition_matrix(v, directions1, delta_t)\n",
    "    state_transition2 = state_transition_matrix(v, directions2, delta_t)\n",
    "    state_transition3 = state_transition_matrix(v, directions3, delta_t)\n",
    "    state_transition4 = state_transition_matrix(v, directions4, delta_t)\n",
    "\n",
    "    kf1.F, kf2.F, kf3.F, kf4.F = state_transition1, state_transition2, state_transition3, state_transition4\n",
    "\n",
    "    # define initial state [x, y, yaw, velocity, yaw*dt]\n",
    "    kf1.x = np.array([input_xy_temp[0, 0], input_xy_temp[0, 1], directions1, v, directions1*delta_t])\n",
    "    kf2.x = np.array([input_xy_temp[0, 0], input_xy_temp[0, 1], directions2, v, directions2*delta_t])\n",
    "    kf3.x = np.array([input_xy_temp[0, 0], input_xy_temp[0, 1], directions3, v, directions3*delta_t])\n",
    "    kf4.x = np.array([input_xy_temp[0, 0], input_xy_temp[0, 1], directions4, v, directions4*delta_t])\n",
    "\n",
    "    sGPS, sCourse, sVelocity, sYaw = 0.5*8.8*delta_t**2, 0.1*delta_t, 8.8*delta_t, 1.0*delta_t\n",
    "    temp_q = np.diag([sGPS**2, sGPS**2, sCourse**2, sVelocity**2, sYaw**2])\n",
    "    # process noise\n",
    "    kf1.Q, kf2.Q, kf3.Q, kf4.Q = temp_q, temp_q, temp_q, temp_q\n",
    "    # measurement noise\n",
    "    kf1.R, kf2.R, kf3.R, kf4.R = np.identity(2)*5, np.identity(2)*5, np.identity(2)*5, np.identity(2)*5\n",
    "    # Define the covariance matrix.\n",
    "    # Here I take advantage of the fact that P already contains np.eye(dim_x), and just multiply by the uncertainty:\n",
    "    kf1.P *= 10; kf2.P *= 10; kf3.P *= 10; kf4.P *= 10\n",
    "\n",
    "    # define measurement function\n",
    "    kf1.H = np.array([[1.0, 0.0, 0.0, 0.0, 0.0],\n",
    "                    [0.0, 1.0, 0.0, 0.0, 0.0]])\n",
    "    kf2.H = np.array([[1.0, 0.0, 0.0, 0.0, 0.0],\n",
    "                    [0.0, 1.0, 0.0, 0.0, 0.0]])\n",
    "    kf3.H = np.array([[1.0, 0.0, 0.0, 0.0, 0.0],\n",
    "                    [0.0, 1.0, 0.0, 0.0, 0.0]])\n",
    "    kf4.H = np.array([[1.0, 0.0, 0.0, 0.0, 0.0],\n",
    "                    [0.0, 1.0, 0.0, 0.0, 0.0]])\n",
    "\n",
    "    filters = [kf1, kf2, kf3, kf4]\n",
    "\n",
    "    mu = [0.25, 0.25, 0.25, 0.25] # each filter is equally likely at the start\n",
    "\n",
    "    trans = np.array([[0.90, 0.033, 0.033, 0.033], \n",
    "                      [0.033, 0.90, 0.033, 0.033], \n",
    "                      [0.033, 0.033, 0.90, 0.033],\n",
    "                      [0.033, 0.033, 0.033, 0.90]\n",
    "                     ]) \n",
    "    # M[i,j] is the probability of switching from filter j to filter i.\n",
    "\n",
    "    imm = IMMEstimator(filters, mu, trans)\n",
    "    for i in range(len(input_xy_temp)):\n",
    "        z = input_xy_temp[i]\n",
    "        imm.predict()\n",
    "        imm.update(z)\n",
    "    chosen_filter = np.argmax(imm.mu)\n",
    "    estimated_destination = dest_list[chosen_filter]\n",
    "    # print(\"Highest probability: \", np.max(imm.mu))\n",
    "    return estimated_destination"
   ]
  },
  {
   "cell_type": "code",
   "execution_count": 30,
   "id": "e8cb6e27",
   "metadata": {},
   "outputs": [],
   "source": [
    "temp_arrr = np.full((26, 26), 0.01)\n",
    "np.fill_diagonal(temp_arrr, 0.75)\n",
    "# temp_arrr"
   ]
  },
  {
   "cell_type": "code",
   "execution_count": 63,
   "id": "4476e167",
   "metadata": {},
   "outputs": [],
   "source": [
    "center_points = np.array([[ 1.32669557, -8.29820966], [ 2.1508649 ,  2.71662071], [ 3.14254298, -2.47933621], \n",
    "                          [-1.05808014, -1.08395512]])"
   ]
  },
  {
   "cell_type": "code",
   "execution_count": 64,
   "id": "a7f924e2",
   "metadata": {},
   "outputs": [
    {
     "data": {
      "text/plain": [
       "389"
      ]
     },
     "execution_count": 64,
     "metadata": {},
     "output_type": "execute_result"
    }
   ],
   "source": [
    "unique_peds = np.unique(test_df['ped_no'])\n",
    "dest_list = center_points\n",
    "estimated_dest_list = []\n",
    "for n in range(len(unique_peds)):\n",
    "    test_df_indiv3 = test_df.loc[test_df['ped_no'] == unique_peds[n]]\n",
    "    input_xy_temp3 = np.array(test_df_indiv3[['pos_x', 'pos_y']])\n",
    "    estimated_dest_temp = imm_dest_filter(input_xy_temp3, dest_list)\n",
    "    estimated_dest_list.append(estimated_dest_temp)\n",
    "    # dest_temp = input_xy_temp2[-1]\n",
    "    # dest_all.append(dest_temp)\n",
    "#dest_all = np.array(dest_all)\n",
    "estimated_dest_list = np.array(estimated_dest_list)\n",
    "len(estimated_dest_list)\n",
    "# estimated_dest_list"
   ]
  },
  {
   "cell_type": "code",
   "execution_count": 65,
   "id": "3ed2b45c",
   "metadata": {},
   "outputs": [
    {
     "data": {
      "text/plain": [
       "389"
      ]
     },
     "execution_count": 65,
     "metadata": {},
     "output_type": "execute_result"
    }
   ],
   "source": [
    "actual_dest_list = []\n",
    "for n in range(len(unique_peds)):\n",
    "    test_df_indiv3 = test_df.loc[test_df['ped_no'] == unique_peds[n]]\n",
    "    input_xy_temp3 = np.array(test_df_indiv3[['pos_x', 'pos_y']])\n",
    "    temp_n = np.argmin(np.linalg.norm((dest_list - input_xy_temp3[-1]), axis=1))\n",
    "    temp_n2 = dest_list[temp_n]\n",
    "    actual_dest_list.append(temp_n2)\n",
    "actual_dest_list = np.array(actual_dest_list)\n",
    "len(actual_dest_list)\n",
    "# actual_dest_list"
   ]
  },
  {
   "cell_type": "code",
   "execution_count": 67,
   "id": "f078ddb9",
   "metadata": {},
   "outputs": [
    {
     "data": {
      "text/plain": [
       "378"
      ]
     },
     "execution_count": 67,
     "metadata": {},
     "output_type": "execute_result"
    }
   ],
   "source": [
    "np.count_nonzero(actual_dest_list == estimated_dest_list)"
   ]
  },
  {
   "cell_type": "code",
   "execution_count": 35,
   "id": "4cfe0e5f",
   "metadata": {},
   "outputs": [],
   "source": [
    "from matplotlib import pyplot as plt"
   ]
  },
  {
   "cell_type": "code",
   "execution_count": 41,
   "id": "7312c0ad",
   "metadata": {},
   "outputs": [],
   "source": [
    "dest_list = np.array(((0, -2.7109002), (0, 1.5239712), (5.7970002, -2.7628508), (-8.4644202, -3.2331944),\n",
    "                      (-8.315, -3.0036907), (-8.16678, -2.7753721e+01), (-8.0191203e+00, -2.5482296e+01), \n",
    "                      (-7.8722121e+00, -2.3222540e+01), (-7.7260567e+00, -2.0974363), (-7.5806484e+00, -1.8737678e+01),\n",
    "                      (-7.4359814e+00, -1.6512396e+01), (-7.2920500e+00, -1.4298429), (-7.1488487e+00, -1.2095693e+01), \n",
    "                      (-7.0063720e+00, -9.9041015), (-7.0063720, -9.9041015), (-6.8646142e+00, -7.7235703e+00), \n",
    "                      (-6.7235701e+00, -5.5540161e+00), (-6.5832343e+00, -3.3953560e+00), (-6.4436013e+00, -1.2475083e+00),\n",
    "                      (-6.3046660e+00, 8.8960816e-01), (-6.1664232e+00, 3.0160735e+00), (-6.1664232e+00, 3.0160735e+00), \n",
    "                      (-6.0288676e+00, 5.1319672e+00), (-5.8919942e+00, 7.2373678e+00), (-5.7557978e+00, 9.3323533e+00), \n",
    "                      (-5.6202736e+00, 1.1417001e+01)))"
   ]
  },
  {
   "cell_type": "code",
   "execution_count": 42,
   "id": "98a3de5c",
   "metadata": {},
   "outputs": [
    {
     "data": {
      "text/plain": [
       "<matplotlib.collections.PathCollection at 0x18e2c4b2160>"
      ]
     },
     "execution_count": 42,
     "metadata": {},
     "output_type": "execute_result"
    },
    {
     "data": {
      "image/png": "[encoded data removed]",
      "text/plain": [
       "<Figure size 432x288 with 1 Axes>"
      ]
     },
     "metadata": {
      "needs_background": "light"
     },
     "output_type": "display_data"
    }
   ],
   "source": [
    "plt.scatter(dest_list[:, 0], dest_list[:, 1])"
   ]
  },
  {
   "cell_type": "code",
   "execution_count": 53,
   "id": "f8c3138c",
   "metadata": {},
   "outputs": [],
   "source": [
    "unique_peds = np.unique(test_df['ped_no'])\n",
    "dest_all = []\n",
    "for n in range(len(unique_peds)):\n",
    "    test_df_indiv2 = test_df.loc[test_df['ped_no'] == unique_peds[n]]\n",
    "    input_xy_temp2 = np.array(test_df_indiv2[['pos_x', 'pos_y']])\n",
    "    dest_temp = input_xy_temp2[-1]\n",
    "    dest_all.append(dest_temp)\n",
    "dest_all = np.array(dest_all)\n",
    "# dest_all"
   ]
  },
  {
   "cell_type": "code",
   "execution_count": 60,
   "id": "4788eb8e",
   "metadata": {},
   "outputs": [],
   "source": [
    "# actual_dest_list"
   ]
  },
  {
   "cell_type": "code",
   "execution_count": 43,
   "id": "aea7407c",
   "metadata": {},
   "outputs": [],
   "source": [
    "from sklearn.cluster import KMeans"
   ]
  },
  {
   "cell_type": "code",
   "execution_count": 56,
   "id": "f3b54c1b",
   "metadata": {},
   "outputs": [
    {
     "data": {
      "text/plain": [
       "array([[ 1.32669557, -8.29820966],\n",
       "       [ 2.1508649 ,  2.71662071],\n",
       "       [ 3.14254298, -2.47933621],\n",
       "       [-1.05808014, -1.08395512]])"
      ]
     },
     "execution_count": 56,
     "metadata": {},
     "output_type": "execute_result"
    }
   ],
   "source": [
    "kmeans = KMeans(n_clusters=4, random_state=0).fit(dest_all)\n",
    "center_points = kmeans.cluster_centers_\n",
    "center_points"
   ]
  },
  {
   "cell_type": "code",
   "execution_count": 57,
   "id": "4f9235ae",
   "metadata": {},
   "outputs": [
    {
     "data": {
      "text/plain": [
       "<matplotlib.collections.PathCollection at 0x18e2ffe3da0>"
      ]
     },
     "execution_count": 57,
     "metadata": {},
     "output_type": "execute_result"
    },
    {
     "data": {
      "image/png": "[encoded data removed]",
      "text/plain": [
       "<Figure size 432x288 with 1 Axes>"
      ]
     },
     "metadata": {
      "needs_background": "light"
     },
     "output_type": "display_data"
    }
   ],
   "source": [
    "plt.scatter(dest_all[:, 0], dest_all[:, 1])\n",
    "# plt.xlim(-10, 17)\n",
    "# plt.ylim(-10, 17)\n",
    "plt.scatter(center_points[:, 0], center_points[:, 1], c=[\"red\", \"black\", \"yellow\", \"magenta\"], marker=\"X\", s=100)"
   ]
  },
  {
   "cell_type": "code",
   "execution_count": 34,
   "id": "6521a84e",
   "metadata": {},
   "outputs": [
    {
     "data": {
      "text/plain": [
       "0"
      ]
     },
     "execution_count": 34,
     "metadata": {},
     "output_type": "execute_result"
    }
   ],
   "source": [
    "np.count_nonzero(actual_dest_list[:, 1] == estimated_dest_list[:, 1])"
   ]
  },
  {
   "cell_type": "code",
   "execution_count": 68,
   "id": "b1de40ec",
   "metadata": {},
   "outputs": [],
   "source": [
    "df_dest = pd.DataFrame(data=estimated_dest_list, index= unique_peds)\n",
    "df_dest = df_dest.rename(columns={0: \"dest_x\", 1: \"dest_y\"})"
   ]
  },
  {
   "cell_type": "code",
   "execution_count": 69,
   "id": "6f77f90d",
   "metadata": {},
   "outputs": [
    {
     "data": {
      "text/html": [
       "<div>\n",
       "<style scoped>\n",
       "    .dataframe tbody tr th:only-of-type {\n",
       "        vertical-align: middle;\n",
       "    }\n",
       "\n",
       "    .dataframe tbody tr th {\n",
       "        vertical-align: top;\n",
       "    }\n",
       "\n",
       "    .dataframe thead th {\n",
       "        text-align: right;\n",
       "    }\n",
       "</style>\n",
       "<table border=\"1\" class=\"dataframe\">\n",
       "  <thead>\n",
       "    <tr style=\"text-align: right;\">\n",
       "      <th></th>\n",
       "      <th>dest_x</th>\n",
       "      <th>dest_y</th>\n",
       "    </tr>\n",
       "  </thead>\n",
       "  <tbody>\n",
       "    <tr>\n",
       "      <th>1</th>\n",
       "      <td>2.150865</td>\n",
       "      <td>2.716621</td>\n",
       "    </tr>\n",
       "    <tr>\n",
       "      <th>2</th>\n",
       "      <td>2.150865</td>\n",
       "      <td>2.716621</td>\n",
       "    </tr>\n",
       "    <tr>\n",
       "      <th>3</th>\n",
       "      <td>2.150865</td>\n",
       "      <td>2.716621</td>\n",
       "    </tr>\n",
       "    <tr>\n",
       "      <th>4</th>\n",
       "      <td>1.326696</td>\n",
       "      <td>-8.298210</td>\n",
       "    </tr>\n",
       "    <tr>\n",
       "      <th>5</th>\n",
       "      <td>1.326696</td>\n",
       "      <td>-8.298210</td>\n",
       "    </tr>\n",
       "    <tr>\n",
       "      <th>...</th>\n",
       "      <td>...</td>\n",
       "      <td>...</td>\n",
       "    </tr>\n",
       "    <tr>\n",
       "      <th>416</th>\n",
       "      <td>1.326696</td>\n",
       "      <td>-8.298210</td>\n",
       "    </tr>\n",
       "    <tr>\n",
       "      <th>417</th>\n",
       "      <td>1.326696</td>\n",
       "      <td>-8.298210</td>\n",
       "    </tr>\n",
       "    <tr>\n",
       "      <th>418</th>\n",
       "      <td>-1.058080</td>\n",
       "      <td>-1.083955</td>\n",
       "    </tr>\n",
       "    <tr>\n",
       "      <th>419</th>\n",
       "      <td>2.150865</td>\n",
       "      <td>2.716621</td>\n",
       "    </tr>\n",
       "    <tr>\n",
       "      <th>420</th>\n",
       "      <td>2.150865</td>\n",
       "      <td>2.716621</td>\n",
       "    </tr>\n",
       "  </tbody>\n",
       "</table>\n",
       "<p>389 rows × 2 columns</p>\n",
       "</div>"
      ],
      "text/plain": [
       "       dest_x    dest_y\n",
       "1    2.150865  2.716621\n",
       "2    2.150865  2.716621\n",
       "3    2.150865  2.716621\n",
       "4    1.326696 -8.298210\n",
       "5    1.326696 -8.298210\n",
       "..        ...       ...\n",
       "416  1.326696 -8.298210\n",
       "417  1.326696 -8.298210\n",
       "418 -1.058080 -1.083955\n",
       "419  2.150865  2.716621\n",
       "420  2.150865  2.716621\n",
       "\n",
       "[389 rows x 2 columns]"
      ]
     },
     "execution_count": 69,
     "metadata": {},
     "output_type": "execute_result"
    }
   ],
   "source": [
    "df_dest"
   ]
  },
  {
   "cell_type": "code",
   "execution_count": 70,
   "id": "30088919",
   "metadata": {},
   "outputs": [],
   "source": [
    "df_dest.to_csv(\"hotel_estimated_dests1.csv\", columns=[\"dest_x\", \"dest_y\"])"
   ]
  },
  {
   "cell_type": "code",
   "execution_count": null,
   "id": "e682f5e7",
   "metadata": {},
   "outputs": [],
   "source": []
  }
 ],
 "metadata": {
  "kernelspec": {
   "display_name": "Python 3 (ipykernel)",
   "language": "python",
   "name": "python3"
  },
  "language_info": {
   "codemirror_mode": {
    "name": "ipython",
    "version": 3
   },
   "file_extension": ".py",
   "mimetype": "text/x-python",
   "name": "python",
   "nbconvert_exporter": "python",
   "pygments_lexer": "ipython3",
   "version": "3.7.1"
  }
 },
 "nbformat": 4,
 "nbformat_minor": 5
}
