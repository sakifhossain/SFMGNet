{
 "cells": [
  {
   "cell_type": "code",
   "execution_count": 2,
   "metadata": {},
   "outputs": [],
   "source": [
    "from filterpy.common import kinematic_kf\n",
    "import numpy as np\n",
    "from filterpy.kalman import IMMEstimator\n",
    "import math\n",
    "from filterpy.kalman import KalmanFilter"
   ]
  },
  {
   "cell_type": "code",
   "execution_count": 3,
   "metadata": {},
   "outputs": [],
   "source": [
    "def state_transition_matrix(v, yaw, T):\n",
    "    term13 = (v/yaw) * (-math.cos(yaw) + math.cos(T * yaw + yaw))\n",
    "    term14 = (-math.sin(yaw) + math.sin(T * yaw + yaw))/yaw\n",
    "    term15 = T * v * math.cos(T * yaw + yaw)/ yaw - v * (-math.sin(yaw) + math.sin(T * yaw + yaw)) / yaw **2\n",
    "    term23 = (v/yaw) * (-math.sin(yaw) + math.sin(T * yaw + yaw))\n",
    "    term24 = (math.cos(yaw) - math.cos(T * yaw + yaw)) / yaw\n",
    "    term25 = T * v * math.sin(T * yaw + yaw)/ yaw - v * (math.cos(yaw) - math.cos(T * yaw + yaw)) / yaw **2\n",
    "    state_transition_matrix = np.array([[1, 0, term13, term14, term15],\n",
    "                                        [0, 1, term23, term24, term25],\n",
    "                                        [0, 0, 1, 0, T],\n",
    "                                        [0, 0, 0, 1, 0],\n",
    "                                        [0, 0, 0, 0, 1]])\n",
    "    return state_transition_matrix"
   ]
  },
  {
   "cell_type": "code",
   "execution_count": 4,
   "metadata": {},
   "outputs": [],
   "source": [
    "def direction(current_state, destination_state):\n",
    "    directions1 = np.linalg.norm((np.array(destination_state) - np.array(current_state)))\n",
    "    print(directions1)\n",
    "    return directions1"
   ]
  },
  {
   "cell_type": "code",
   "execution_count": 5,
   "metadata": {},
   "outputs": [],
   "source": [
    "kf1 = KalmanFilter(dim_x=5, dim_z=2)\n",
    "kf2 = KalmanFilter(dim_x=5, dim_z=2)\n",
    "kf3 = KalmanFilter(dim_x=5, dim_z=2)\n",
    "# do some settings of x, R, P etc. here, I'll just use the defaults"
   ]
  },
  {
   "cell_type": "code",
   "execution_count": 6,
   "metadata": {},
   "outputs": [
    {
     "data": {
      "text/plain": [
       "(5, 1)"
      ]
     },
     "execution_count": 6,
     "metadata": {},
     "output_type": "execute_result"
    }
   ],
   "source": [
    "kf1.x.shape"
   ]
  },
  {
   "cell_type": "code",
   "execution_count": 7,
   "metadata": {},
   "outputs": [],
   "source": [
    "start = [2, 10.3]\n",
    "end_straight = [3, 0.8]\n",
    "end_left = [-2.8, 5.5]\n",
    "end_right = [8.3, 5.5]\n",
    "v = 0.707\n",
    "delta_t = 0.1"
   ]
  },
  {
   "cell_type": "code",
   "execution_count": 8,
   "metadata": {},
   "outputs": [
    {
     "name": "stdout",
     "output_type": "stream",
     "text": [
      "9.5524865872714\n",
      "6.788225099390857\n",
      "7.920227269466452\n"
     ]
    }
   ],
   "source": [
    "directions1 = direction(start, end_straight)\n",
    "directions2 = direction(start, end_left)\n",
    "directions3 = direction(start, end_right)"
   ]
  },
  {
   "cell_type": "code",
   "execution_count": 9,
   "metadata": {},
   "outputs": [],
   "source": [
    "state_transition1 = state_transition_matrix(v, directions1, delta_t)\n",
    "state_transition2 = state_transition_matrix(v, directions2, delta_t)\n",
    "state_transition3 = state_transition_matrix(v, directions3, delta_t)"
   ]
  },
  {
   "cell_type": "code",
   "execution_count": 47,
   "metadata": {},
   "outputs": [],
   "source": [
    "kf1.F = state_transition1\n",
    "kf2.F = state_transition2\n",
    "kf3.F = state_transition3"
   ]
  },
  {
   "cell_type": "code",
   "execution_count": 48,
   "metadata": {},
   "outputs": [],
   "source": [
    "# define initial state [x, y, yaw, velocity, yaw*dt]\n",
    "kf1.x = np.array([2.0, 10.3, directions1, v, directions1*delta_t])\n",
    "kf2.x = np.array([2.0, 10.3, directions2, v, directions2*delta_t])\n",
    "kf3.x = np.array([2.0, 10.3, directions3, v, directions3*delta_t])"
   ]
  },
  {
   "cell_type": "code",
   "execution_count": 63,
   "metadata": {},
   "outputs": [],
   "source": [
    "sGPS = 0.5*8.8*delta_t**2  # assume 8.8m/s2 as maximum acceleration, forcing the vehicle\n",
    "sCourse = 0.1*delta_t # assume 0.1rad/s as maximum turn rate for the vehicle\n",
    "sVelocity = 8.8*delta_t # assume 8.8m/s2 as maximum acceleration, forcing the vehicle\n",
    "sYaw = 1.0*delta_t # assume 1.0rad/s2 as the maximum turn rate acceleration for the vehicle\n",
    "temp_q = np.diag([sGPS**2, sGPS**2, sCourse**2, sVelocity**2, sYaw**2])"
   ]
  },
  {
   "cell_type": "code",
   "execution_count": 64,
   "metadata": {},
   "outputs": [
    {
     "data": {
      "text/plain": [
       "(5, 5)"
      ]
     },
     "execution_count": 64,
     "metadata": {},
     "output_type": "execute_result"
    }
   ],
   "source": [
    "temp_q.shape"
   ]
  },
  {
   "cell_type": "code",
   "execution_count": 65,
   "metadata": {},
   "outputs": [],
   "source": [
    "# process noise\n",
    "# from filterpy.common import Q_discrete_white_noise\n",
    "kf1.Q = temp_q\n",
    "kf2.Q = temp_q\n",
    "kf3.Q = temp_q"
   ]
  },
  {
   "cell_type": "code",
   "execution_count": 66,
   "metadata": {},
   "outputs": [],
   "source": [
    "# no prediction error in second filter\n",
    "# kf3.Q *= 0"
   ]
  },
  {
   "cell_type": "code",
   "execution_count": 67,
   "metadata": {},
   "outputs": [],
   "source": [
    "# measurement noise\n",
    "kf1.R = np.identity(2)*5\n",
    "kf2.R = np.identity(2)*5\n",
    "kf3.R = np.identity(2)*5"
   ]
  },
  {
   "cell_type": "code",
   "execution_count": 68,
   "metadata": {},
   "outputs": [],
   "source": [
    "# Define the covariance matrix.\n",
    "# Here I take advantage of the fact that P already contains np.eye(dim_x), and just multiply by the uncertainty:\n",
    "kf1.P *= 10\n",
    "kf2.P *= 10\n",
    "kf3.P *= 10"
   ]
  },
  {
   "cell_type": "code",
   "execution_count": 69,
   "metadata": {},
   "outputs": [
    {
     "data": {
      "text/plain": [
       "(5, 5)"
      ]
     },
     "execution_count": 69,
     "metadata": {},
     "output_type": "execute_result"
    }
   ],
   "source": [
    "kf1.Q.shape"
   ]
  },
  {
   "cell_type": "code",
   "execution_count": 77,
   "metadata": {},
   "outputs": [],
   "source": [
    "# define measurement function\n",
    "kf1.H = np.array([[1.0, 0.0, 0.0, 0.0, 0.0],\n",
    "                [0.0, 1.0, 0.0, 0.0, 0.0]])\n",
    "kf2.H = np.array([[1.0, 0.0, 0.0, 0.0, 0.0],\n",
    "                [0.0, 1.0, 0.0, 0.0, 0.0]])\n",
    "kf3.H = np.array([[1.0, 0.0, 0.0, 0.0, 0.0],\n",
    "                [0.0, 1.0, 0.0, 0.0, 0.0]])"
   ]
  },
  {
   "cell_type": "code",
   "execution_count": 23,
   "metadata": {},
   "outputs": [
    {
     "name": "stdout",
     "output_type": "stream",
     "text": [
      "(15, 1)\n"
     ]
    }
   ],
   "source": [
    "print(kf1.x.shape)"
   ]
  },
  {
   "cell_type": "code",
   "execution_count": 71,
   "metadata": {},
   "outputs": [],
   "source": [
    "filters = [kf1, kf2, kf3]"
   ]
  },
  {
   "cell_type": "code",
   "execution_count": 72,
   "metadata": {},
   "outputs": [],
   "source": [
    "mu = [0.333, 0.333, 0.333] # each filter is equally likely at the start"
   ]
  },
  {
   "cell_type": "code",
   "execution_count": 73,
   "metadata": {},
   "outputs": [],
   "source": [
    "trans = np.array([[0.90, 0.05, 0.05], \n",
    "                  [0.05, 0.90, 0.05], \n",
    "                  [0.05, 0.05, 0.90]\n",
    "                 ]) \n",
    "# M[i,j] is the probability of switching from filter j to filter i."
   ]
  },
  {
   "cell_type": "code",
   "execution_count": 74,
   "metadata": {},
   "outputs": [],
   "source": [
    "imm = IMMEstimator(filters, mu, trans)"
   ]
  },
  {
   "cell_type": "code",
   "execution_count": 79,
   "metadata": {},
   "outputs": [
    {
     "name": "stdout",
     "output_type": "stream",
     "text": [
      "mode:  [9.98509524e-01 1.48379055e-03 6.68512367e-06]\n",
      "mode:  [9.99996699e-01 6.91879279e-07 2.60884107e-06]\n",
      "mode:  [9.81347702e-01 6.70355087e-04 1.79819430e-02]\n",
      "mode:  [0.83570731 0.15171435 0.01257834]\n",
      "mode:  [0.34175365 0.59661396 0.06163239]\n",
      "mode:  [0.00950781 0.35687058 0.63362161]\n",
      "mode:  [0.00162298 0.99074354 0.00763348]\n",
      "mode:  [0.00183455 0.99329906 0.00486639]\n",
      "mode:  [0.32970007 0.66351512 0.00678481]\n",
      "mode:  [0.90892945 0.08117051 0.00990004]\n",
      "mode:  [0.02619248 0.87528896 0.09851856]\n",
      "mode:  [0.07810061 0.80522274 0.11667665]\n",
      "mode:  [0.00772718 0.95322733 0.03904548]\n",
      "mode:  [0.76867259 0.20452479 0.02680262]\n",
      "mode:  [0.03076932 0.85394446 0.11528622]\n",
      "mode:  [0.03291773 0.8911522  0.07593008]\n",
      "mode:  [0.17889713 0.71216997 0.1089329 ]\n",
      "mode:  [0.46787864 0.46852035 0.06360101]\n",
      "mode:  [0.96706137 0.01072244 0.02221619]\n",
      "mode:  [0.03705453 0.8508869  0.11205858]\n"
     ]
    }
   ],
   "source": [
    "# put some initial input here. Like the trajectory of first one second\n",
    "for i in range(20):\n",
    "    x = i + np.random.randn()*np.sqrt(kf1.R[0, 0])\n",
    "    y = i + np.random.randn()*np.sqrt(kf1.R[1, 1])\n",
    "    z = np.array([[x], [y]])\n",
    "    # print(z.shape)\n",
    "    \n",
    "    imm.predict()\n",
    "    imm.update(z)\n",
    "    # print(imm.x.T)\n",
    "    print(\"mode: \", imm.mu)"
   ]
  },
  {
   "cell_type": "code",
   "execution_count": 51,
   "metadata": {},
   "outputs": [
    {
     "data": {
      "text/plain": [
       "array([[1. , 1. , 0.5, 0. , 0. , 0. ],\n",
       "       [0. , 1. , 1. , 0. , 0. , 0. ],\n",
       "       [0. , 0. , 1. , 0. , 0. , 0. ],\n",
       "       [0. , 0. , 0. , 1. , 1. , 0.5],\n",
       "       [0. , 0. , 0. , 0. , 1. , 1. ],\n",
       "       [0. , 0. , 0. , 0. , 0. , 1. ]])"
      ]
     },
     "execution_count": 51,
     "metadata": {},
     "output_type": "execute_result"
    }
   ],
   "source": [
    "kf2.F"
   ]
  },
  {
   "cell_type": "code",
   "execution_count": 52,
   "metadata": {},
   "outputs": [
    {
     "data": {
      "text/plain": [
       "array([[1. , 1. , 0.5, 0. , 0. , 0. ],\n",
       "       [0. , 1. , 1. , 0. , 0. , 0. ],\n",
       "       [0. , 0. , 1. , 0. , 0. , 0. ],\n",
       "       [0. , 0. , 0. , 1. , 1. , 0.5],\n",
       "       [0. , 0. , 0. , 0. , 1. , 1. ],\n",
       "       [0. , 0. , 0. , 0. , 0. , 1. ]])"
      ]
     },
     "execution_count": 52,
     "metadata": {},
     "output_type": "execute_result"
    }
   ],
   "source": [
    "kf1.F"
   ]
  },
  {
   "cell_type": "code",
   "execution_count": null,
   "metadata": {},
   "outputs": [],
   "source": []
  }
 ],
 "metadata": {
  "kernelspec": {
   "display_name": "Python 3 (ipykernel)",
   "language": "python",
   "name": "python3"
  },
  "language_info": {
   "codemirror_mode": {
    "name": "ipython",
    "version": 3
   },
   "file_extension": ".py",
   "mimetype": "text/x-python",
   "name": "python",
   "nbconvert_exporter": "python",
   "pygments_lexer": "ipython3",
   "version": "3.7.1"
  }
 },
 "nbformat": 4,
 "nbformat_minor": 4
}
