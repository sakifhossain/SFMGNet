{
 "cells": [
  {
   "cell_type": "code",
   "execution_count": 3,
   "metadata": {},
   "outputs": [],
   "source": [
    "from filterpy.common import kinematic_kf\n",
    "import numpy as np\n",
    "from filterpy.kalman import IMMEstimator\n",
    "import math\n",
    "from filterpy.kalman import KalmanFilter\n",
    "import pandas as pd"
   ]
  },
  {
   "cell_type": "code",
   "execution_count": 144,
   "metadata": {},
   "outputs": [],
   "source": [
    "def state_transition_matrix(v, yaw, T):\n",
    "    # T = sampling rate, dt\n",
    "    # yaw = Y Heading = Y component of goal directed unit vector?\n",
    "    term13 = (-T) * v * math.sin(yaw)\n",
    "    term14 = T * math.cos(yaw)\n",
    "    term23 = T * v * math.cos(yaw)\n",
    "    term24 = T * math.sin(yaw)\n",
    "    \n",
    "    state_transition_matrix = np.array([[1, 0, term13, term14],\n",
    "                                        [0, 1, term23, term24],\n",
    "                                        [0, 0, 1, 0],\n",
    "                                        [0, 0, 0, 1]])\n",
    "    return state_transition_matrix\n",
    "\n",
    "def direction(current_state, destination_state):\n",
    "    # math.atan2(targetY-gunY, targetX-gunX)\n",
    "    # current_state, destination_state = np.array(current_state), np.array(destination_state)\n",
    "    directions1 = np.linalg.norm((np.array(destination_state) - np.array(current_state)))\n",
    "    # directions2 = (np.array(destination_state) - np.array(current_state))/directions1\n",
    "    # directions1 = math.atan2( (destination_state[1] - current_state[1]), (destination_state[0] - current_state[0]))\n",
    "    # print(directions2[1])\n",
    "    # directions1 = math.degrees(directions1)\n",
    "    print(directions1)\n",
    "    return directions1"
   ]
  },
  {
   "cell_type": "code",
   "execution_count": 145,
   "metadata": {},
   "outputs": [],
   "source": [
    "test_df_path = \"C:/Users/sakif/jupyter projects/thesis_test/modular test/Untitled Folder/eth_data_prepared_normal3.csv\"\n",
    "# delta_t = 0.4"
   ]
  },
  {
   "cell_type": "code",
   "execution_count": 146,
   "metadata": {},
   "outputs": [],
   "source": [
    "test_df = pd.read_csv(test_df_path, index_col=None)"
   ]
  },
  {
   "cell_type": "code",
   "execution_count": 7,
   "metadata": {},
   "outputs": [],
   "source": [
    "unique_peds = np.unique(test_df['ped_no'])\n",
    "dest_all = []\n",
    "for n in range(len(unique_peds)):\n",
    "    test_df_indiv2 = test_df.loc[test_df['ped_no'] == unique_peds[n]]\n",
    "    input_xy_temp2 = np.array(test_df_indiv2[['pos_x', 'pos_y']])\n",
    "    dest_temp = input_xy_temp2[-1]\n",
    "    dest_all.append(dest_temp)\n",
    "dest_all = np.array(dest_all)\n",
    "# dest_all"
   ]
  },
  {
   "cell_type": "code",
   "execution_count": 8,
   "metadata": {},
   "outputs": [],
   "source": [
    "import matplotlib.pyplot as plt"
   ]
  },
  {
   "cell_type": "code",
   "execution_count": 9,
   "metadata": {},
   "outputs": [
    {
     "data": {
      "text/plain": [
       "354.0"
      ]
     },
     "execution_count": 9,
     "metadata": {},
     "output_type": "execute_result"
    }
   ],
   "source": [
    "len(np.unique(dest_all))/2"
   ]
  },
  {
   "cell_type": "code",
   "execution_count": 10,
   "metadata": {},
   "outputs": [],
   "source": [
    "from sklearn.cluster import KMeans"
   ]
  },
  {
   "cell_type": "code",
   "execution_count": 564,
   "metadata": {},
   "outputs": [
    {
     "data": {
      "text/plain": [
       "array([[12.65814642,  5.53807136],\n",
       "       [-2.42247966,  1.8782528 ],\n",
       "       [ 3.16009339,  5.38515784],\n",
       "       [-1.67269075,  7.75310654]])"
      ]
     },
     "execution_count": 564,
     "metadata": {},
     "output_type": "execute_result"
    }
   ],
   "source": [
    "kmeans = KMeans(n_clusters=4, random_state=0).fit(dest_all)\n",
    "center_points = kmeans.cluster_centers_\n",
    "center_points"
   ]
  },
  {
   "cell_type": "code",
   "execution_count": 565,
   "metadata": {},
   "outputs": [
    {
     "data": {
      "text/plain": [
       "<matplotlib.collections.PathCollection at 0x1e5c4b50cf8>"
      ]
     },
     "execution_count": 565,
     "metadata": {},
     "output_type": "execute_result"
    },
    {
     "data": {
      "image/png": "[encoded data removed]",
      "text/plain": [
       "<Figure size 432x288 with 1 Axes>"
      ]
     },
     "metadata": {
      "needs_background": "light"
     },
     "output_type": "display_data"
    }
   ],
   "source": [
    "plt.scatter(dest_all[:, 0], dest_all[:, 1])\n",
    "plt.xlim(-10, 17)\n",
    "plt.ylim(-10, 17)\n",
    "plt.scatter(center_points[:, 0], center_points[:, 1], c=[\"red\", \"black\", \"yellow\", \"magenta\"], marker=\"X\", s=100)"
   ]
  },
  {
   "cell_type": "code",
   "execution_count": 167,
   "metadata": {},
   "outputs": [],
   "source": [
    "# dataframe for individual pedestrian \n",
    "test_df_indiv = test_df.loc[test_df['ped_no'] == 3]\n",
    "# test_df_indiv = test_df_indiv.loc[test_df_indiv['frame_id'] >= 846]"
   ]
  },
  {
   "cell_type": "code",
   "execution_count": 168,
   "metadata": {},
   "outputs": [],
   "source": [
    "input_xy_temp = np.array(test_df_indiv[[\"pos_x\", \"pos_y\"]])"
   ]
  },
  {
   "cell_type": "code",
   "execution_count": 169,
   "metadata": {},
   "outputs": [
    {
     "data": {
      "text/plain": [
       "32"
      ]
     },
     "execution_count": 169,
     "metadata": {},
     "output_type": "execute_result"
    }
   ],
   "source": [
    "len(input_xy_temp)\n",
    "# len(input_xy_temp[10:])"
   ]
  },
  {
   "cell_type": "code",
   "execution_count": 170,
   "metadata": {},
   "outputs": [
    {
     "data": {
      "text/plain": [
       "array([[12.270674  ,  6.6684218 ],\n",
       "       [11.936317  ,  6.7666356 ],\n",
       "       [11.448074  ,  6.9144075 ],\n",
       "       [10.825832  ,  6.798273  ],\n",
       "       [10.394153  ,  6.786098  ],\n",
       "       [ 9.8409209 ,  6.8605842 ],\n",
       "       [ 9.3564735 ,  6.8511706 ],\n",
       "       [ 8.9453791 ,  6.7963376 ],\n",
       "       [ 8.4108856 ,  6.8698696 ],\n",
       "       [ 7.9486303 ,  6.8577346 ],\n",
       "       [ 7.435487  ,  6.8070093 ],\n",
       "       [ 6.9627463 ,  6.8356025 ],\n",
       "       [ 6.5785424 ,  6.9837562 ],\n",
       "       [ 6.1391536 ,  7.0110658 ],\n",
       "       [ 5.741793  ,  7.0778462 ],\n",
       "       [ 5.385417  ,  7.1424653 ],\n",
       "       [ 5.0606082 ,  7.0356285 ],\n",
       "       [ 4.8728741 ,  6.9620065 ],\n",
       "       [ 4.6003525 ,  7.0212397 ],\n",
       "       [ 4.4592268 ,  6.9870255 ],\n",
       "       [ 4.1372352 ,  7.0495087 ],\n",
       "       [ 3.7568731 ,  6.9862765 ],\n",
       "       [ 3.4230498 ,  6.9628546 ],\n",
       "       [ 3.0801567 ,  6.8522932 ],\n",
       "       [ 2.804071  ,  7.0433753 ],\n",
       "       [ 2.2372009 ,  7.2976183 ],\n",
       "       [ 1.7814508 ,  7.1489883 ],\n",
       "       [ 1.3199598 ,  6.9984861 ],\n",
       "       [ 0.85964785,  6.9355146 ],\n",
       "       [ 0.24331514,  6.9254785 ],\n",
       "       [-0.28205243,  6.8640773 ],\n",
       "       [-0.72056898,  6.6591565 ]])"
      ]
     },
     "execution_count": 170,
     "metadata": {},
     "output_type": "execute_result"
    }
   ],
   "source": [
    "input_xy_temp"
   ]
  },
  {
   "cell_type": "code",
   "execution_count": 157,
   "metadata": {},
   "outputs": [
    {
     "data": {
      "text/plain": [
       "(-10.0, 17.0)"
      ]
     },
     "execution_count": 157,
     "metadata": {},
     "output_type": "execute_result"
    },
    {
     "data": {
      "image/png": "[encoded data removed]",
      "text/plain": [
       "<Figure size 432x288 with 1 Axes>"
      ]
     },
     "metadata": {
      "needs_background": "light"
     },
     "output_type": "display_data"
    }
   ],
   "source": [
    "plt.scatter(input_xy_temp[:, 0], input_xy_temp[:, 1])\n",
    "plt.xlim(-10, 17)\n",
    "plt.ylim(-10, 17)"
   ]
  },
  {
   "cell_type": "code",
   "execution_count": 158,
   "metadata": {},
   "outputs": [
    {
     "data": {
      "text/plain": [
       "'\\nstart = [2, 10.3]\\nend_straight = [3, 0.8]\\nend_left = [-2.8, 5.5]\\nend_right = [8.3, 5.5]\\nv = 0.707\\ndelta_t = 0.1\\n'"
      ]
     },
     "execution_count": 158,
     "metadata": {},
     "output_type": "execute_result"
    }
   ],
   "source": [
    "\"\"\"\n",
    "start = [2, 10.3]\n",
    "end_straight = [3, 0.8]\n",
    "end_left = [-2.8, 5.5]\n",
    "end_right = [8.3, 5.5]\n",
    "v = 0.707\n",
    "delta_t = 0.1\n",
    "\"\"\"\n",
    " # sGPS: assume 8.8m/s2 as maximum acceleration, forcing the vehicle\n",
    "#sCOURSE: assume 0.1rad/s as maximum turn rate for the vehicle\n",
    "# sVelocity: assume 8.8m/s2 as maximum acceleration, forcing the vehicle\n",
    "# sYaw: assume 1.0rad/s2 as the maximum turn rate acceleration for the vehicle"
   ]
  },
  {
   "cell_type": "code",
   "execution_count": 171,
   "metadata": {},
   "outputs": [
    {
     "data": {
      "text/plain": [
       "array([[-2.        ,  5.8566027 ],\n",
       "       [-6.5902743 ,  0.06572437],\n",
       "       [-6.5553084 , 11.867515  ],\n",
       "       [15.10717   ,  5.5659299 ],\n",
       "       [ 3.16009339,  5.38515784]])"
      ]
     },
     "execution_count": 171,
     "metadata": {},
     "output_type": "execute_result"
    }
   ],
   "source": [
    "dest_list = np.array(((-2, 5.8566027), (-6.5902743, 0.065724367), (-6.5553084, 11.867515), (15.10717, 5.5659299), \n",
    "                      (3.16009339,  5.38515784)))\n",
    "# dest_list = center_points\n",
    "dest_list"
   ]
  },
  {
   "cell_type": "code",
   "execution_count": 172,
   "metadata": {},
   "outputs": [
    {
     "name": "stdout",
     "output_type": "stream",
     "text": [
      "14.293746418115887\n",
      "19.983267604849257\n",
      "19.5306984879547\n",
      "3.0432216395756666\n"
     ]
    }
   ],
   "source": [
    "start = input_xy_temp[0]\n",
    "# zone1, zone2, zone3, zone4 = [-2, 5.8566027], [-6.5902743, 0.065724367], [-6.5553084, 1.1867515], [15.10717, 5.5659299]\n",
    "zone1, zone2, zone3, zone4 = dest_list[0], dest_list[1], dest_list[2], dest_list[3]\n",
    "v, delta_t = 0.707, 0.4\n",
    "\n",
    "kf1 = KalmanFilter(dim_x=4, dim_z=2)\n",
    "kf2 = KalmanFilter(dim_x=4, dim_z=2)\n",
    "kf3 = KalmanFilter(dim_x=4, dim_z=2)\n",
    "kf4 = KalmanFilter(dim_x=4, dim_z=2)\n",
    "\n",
    "directions1, directions2, directions3 = direction(start, zone1), direction(start, zone2), direction(start, zone3)\n",
    "directions4 = direction(start, zone4)\n",
    "\n",
    "state_transition1 = state_transition_matrix(v, directions1, delta_t)\n",
    "state_transition2 = state_transition_matrix(v, directions2, delta_t)\n",
    "state_transition3 = state_transition_matrix(v, directions3, delta_t)\n",
    "state_transition4 = state_transition_matrix(v, directions4, delta_t)\n",
    "\n",
    "kf1.F, kf2.F, kf3.F, kf4.F = state_transition1, state_transition2, state_transition3, state_transition4\n",
    "\n",
    "# define initial state [x, y, yaw, velocity, yaw*dt]\n",
    "kf1.x = np.array([input_xy_temp[0, 0], input_xy_temp[0, 1], directions1, v])\n",
    "kf2.x = np.array([input_xy_temp[0, 0], input_xy_temp[0, 1], directions2, v])\n",
    "kf3.x = np.array([input_xy_temp[0, 0], input_xy_temp[0, 1], directions3, v])\n",
    "kf4.x = np.array([input_xy_temp[0, 0], input_xy_temp[0, 1], directions4, v])\n",
    "\n",
    "sGPS, sCourse, sVelocity = 0.5*8.8*delta_t**2, 2.0 * delta_t, 35.0 * delta_t\n",
    "temp_q = np.diag([sGPS**2, sGPS**2, sCourse**2, sVelocity**2])\n",
    "# process noise\n",
    "kf1.Q, kf2.Q, kf3.Q, kf4.Q = temp_q, temp_q, temp_q, temp_q\n",
    "# measurement noise\n",
    "kf1.R, kf2.R, kf3.R, kf4.R = np.identity(2)*36, np.identity(2)*36, np.identity(2)*36, np.identity(2)*36\n",
    "# Define the covariance matrix.\n",
    "# Here I take advantage of the fact that P already contains np.eye(dim_x), and just multiply by the uncertainty:\n",
    "kf1.P *= 10; kf2.P *= 10; kf3.P *= 10; kf4.P *= 10\n",
    "\n",
    "# define measurement function\n",
    "kf1.H = np.array([[1.0, 0.0, 0.0, 0.0], [0.0, 1.0, 0.0, 0.0]])\n",
    "kf2.H = np.array([[1.0, 0.0, 0.0, 0.0], [0.0, 1.0, 0.0, 0.0]])\n",
    "kf3.H = np.array([[1.0, 0.0, 0.0, 0.0], [0.0, 1.0, 0.0, 0.0]])\n",
    "kf4.H = np.array([[1.0, 0.0, 0.0, 0.0], [0.0, 1.0, 0.0, 0.0]])\n",
    "\n",
    "filters = [kf1, kf2, kf3, kf4]\n",
    "\n",
    "mu = [0.25, 0.25, 0.25, 0.25] # each filter is equally likely at the start\n",
    "\n",
    "trans = np.array([[0.85, 0.05, 0.05, 0.05], \n",
    "                  [0.05, 0.85, 0.05, 0.05], \n",
    "                  [0.05, 0.05, 0.85, 0.05],\n",
    "                  [0.05, 0.05, 0.05, 0.85]\n",
    "                 ]) \n",
    "# M[i,j] is the probability of switching from filter j to filter i.\n",
    "\n",
    "imm = IMMEstimator(filters, mu, trans)"
   ]
  },
  {
   "cell_type": "code",
   "execution_count": 173,
   "metadata": {},
   "outputs": [
    {
     "data": {
      "text/plain": [
       "32"
      ]
     },
     "execution_count": 173,
     "metadata": {},
     "output_type": "execute_result"
    }
   ],
   "source": [
    "len(input_xy_temp)"
   ]
  },
  {
   "cell_type": "code",
   "execution_count": 174,
   "metadata": {},
   "outputs": [],
   "source": [
    "#temp_input_new = np.concatenate((input_xy_temp[0:3], input_xy_temp[8:11], input_xy_temp[16:19], input_xy_temp[24:27]), axis=0)\n",
    "# temp_input_new"
   ]
  },
  {
   "cell_type": "code",
   "execution_count": 175,
   "metadata": {},
   "outputs": [
    {
     "name": "stdout",
     "output_type": "stream",
     "text": [
      "iteration  0 :  mode:  [0.25568894 0.22513745 0.22772568 0.29144793]\n",
      "iteration  1 :  mode:  [0.25117764 0.18104247 0.18642691 0.38135298]\n",
      "iteration  2 :  mode:  [0.2284525  0.15920921 0.16667929 0.44565899]\n",
      "iteration  3 :  mode:  [0.21448589 0.16168002 0.16815596 0.45567812]\n",
      "iteration  4 :  mode:  [0.21101932 0.17365954 0.17952418 0.43579695]\n",
      "iteration  5 :  mode:  [0.21418813 0.18799778 0.19334226 0.40447182]\n",
      "iteration  6 :  mode:  [0.21912966 0.20044653 0.20515524 0.37526857]\n",
      "iteration  7 :  mode:  [0.22387136 0.21026198 0.21431907 0.35154759]\n",
      "iteration  8 :  mode:  [0.22819589 0.21853864 0.22222851 0.33103696]\n",
      "iteration  9 :  mode:  [0.23167413 0.22491371 0.22831231 0.31509985]\n",
      "iteration  10 :  mode:  [0.23445836 0.22983676 0.23293463 0.30277025]\n",
      "iteration  11 :  mode:  [0.23653586 0.23379147 0.23686628 0.29280639]\n",
      "iteration  12 :  mode:  [0.23800895 0.2371092  0.24055148 0.28433037]\n",
      "iteration  13 :  mode:  [0.23912306 0.23967987 0.24341067 0.2777864 ]\n",
      "iteration  14 :  mode:  [0.23992696 0.24172795 0.24576367 0.27258141]\n",
      "iteration  15 :  mode:  [0.24048289 0.2433435  0.24767578 0.26849783]\n",
      "iteration  16 :  mode:  [0.24082602 0.2443746  0.24877652 0.26602286]\n",
      "iteration  17 :  mode:  [0.24099968 0.24504014 0.24946235 0.26449783]\n",
      "iteration  18 :  mode:  [0.24107781 0.2456939  0.25029692 0.26293136]\n",
      "iteration  19 :  mode:  [0.24104831 0.246114   0.25089864 0.26193906]\n",
      "iteration  20 :  mode:  [0.24105705 0.24662875 0.25162357 0.26069063]\n",
      "iteration  21 :  mode:  [0.24109691 0.247016   0.25208865 0.25979845]\n",
      "iteration  22 :  mode:  [0.24107986 0.2473308  0.25250094 0.2590884 ]\n",
      "iteration  23 :  mode:  [0.24101379 0.24752752 0.25272574 0.25873295]\n",
      "iteration  24 :  mode:  [0.24097062 0.24783759 0.25330144 0.25789035]\n",
      "iteration  25 :  mode:  [0.24109363 0.24819217 0.2540271  0.25668711]\n",
      "iteration  26 :  mode:  [0.24090152 0.24819763 0.25432909 0.25657176]\n",
      "iteration  27 :  mode:  [0.24054423 0.24813718 0.2544773  0.25684128]\n",
      "iteration  28 :  mode:  [0.24020896 0.24809804 0.25461589 0.25707712]\n",
      "iteration  29 :  mode:  [0.23978169 0.24799151 0.25488547 0.25734134]\n",
      "iteration  30 :  mode:  [0.23940023 0.2478854  0.25510719 0.25760717]\n",
      "iteration  31 :  mode:  [0.23909668 0.24786802 0.25514319 0.2578921 ]\n"
     ]
    }
   ],
   "source": [
    "# put some initial input here. Like the trajectory of first one second\n",
    "for i in range(len(input_xy_temp)):\n",
    "    # x = interpolated_z[i, 0]\n",
    "    # y = interpolated_z[i, 1]\n",
    "    # z = np.array([[x], [y]])\n",
    "    z = input_xy_temp[i]\n",
    "    # print(z)\n",
    "    # print(z.shape)\n",
    "    \n",
    "    imm.predict()\n",
    "    imm.update(z)\n",
    "    # print(imm.x.T)\n",
    "    print(\"iteration \", i, \": \",  \"mode: \", imm.mu)\n",
    "    # print()"
   ]
  },
  {
   "cell_type": "code",
   "execution_count": 165,
   "metadata": {},
   "outputs": [
    {
     "data": {
      "text/plain": [
       "array([[ 1.        ,  0.        , -0.19193595,  0.29376679],\n",
       "       [ 0.        ,  1.        ,  0.20769312,  0.27147942],\n",
       "       [ 0.        ,  0.        ,  1.        ,  0.        ],\n",
       "       [ 0.        ,  0.        ,  0.        ,  1.        ]])"
      ]
     },
     "execution_count": 165,
     "metadata": {},
     "output_type": "execute_result"
    }
   ],
   "source": [
    "kf2.F"
   ]
  },
  {
   "cell_type": "code",
   "execution_count": 619,
   "metadata": {},
   "outputs": [
    {
     "data": {
      "text/plain": [
       "array([-0.84996266, -0.52684293])"
      ]
     },
     "execution_count": 619,
     "metadata": {},
     "output_type": "execute_result"
    }
   ],
   "source": [
    "temp_goal = (dest_list[1] - input_xy_temp[0])/np.linalg.norm((dest_list[1] - input_xy_temp[0]))\n",
    "temp_goal"
   ]
  },
  {
   "cell_type": "code",
   "execution_count": 620,
   "metadata": {},
   "outputs": [
    {
     "data": {
      "text/plain": [
       "array([ 0.99169066, -0.12864541])"
      ]
     },
     "execution_count": 620,
     "metadata": {},
     "output_type": "execute_result"
    }
   ],
   "source": [
    "(dest_list[3] - input_xy_temp[0])/np.linalg.norm((dest_list[3] - input_xy_temp[0]))"
   ]
  },
  {
   "cell_type": "code",
   "execution_count": 176,
   "metadata": {},
   "outputs": [],
   "source": [
    "def state_transition_matrix2(v, yaw, T):\n",
    "    term13 = (v/yaw) * (-math.cos(yaw) + math.cos(T * yaw + yaw))\n",
    "    term14 = (-math.sin(yaw) + math.sin(T * yaw + yaw))/yaw\n",
    "    term15 = T * v * math.cos(T * yaw + yaw)/ yaw - v * (-math.sin(yaw) + math.sin(T * yaw + yaw)) / yaw **2\n",
    "    term23 = (v/yaw) * (-math.sin(yaw) + math.sin(T * yaw + yaw))\n",
    "    term24 = (math.cos(yaw) - math.cos(T * yaw + yaw)) / yaw\n",
    "    term25 = T * v * math.sin(T * yaw + yaw)/ yaw - v * (math.cos(yaw) - math.cos(T * yaw + yaw)) / yaw **2\n",
    "    state_transition_matrix = np.array([[1, 0, term13, term14, term15],\n",
    "                                        [0, 1, term23, term24, term25],\n",
    "                                        [0, 0, 1, 0, T],\n",
    "                                        [0, 0, 0, 1, 0],\n",
    "                                        [0, 0, 0, 0, 1]])\n",
    "    return state_transition_matrix"
   ]
  },
  {
   "cell_type": "code",
   "execution_count": 177,
   "metadata": {},
   "outputs": [
    {
     "name": "stdout",
     "output_type": "stream",
     "text": [
      "14.293746418115887\n",
      "19.983267604849257\n",
      "19.5306984879547\n",
      "3.0432216395756666\n",
      "9.200513324936976\n"
     ]
    }
   ],
   "source": [
    "# 5 zones\n",
    "start = input_xy_temp[0]\n",
    "# zone1, zone2, zone3, zone4 = [-2, 5.8566027], [-6.5902743, 0.065724367], [-6.5553084, 1.1867515], [15.10717, 5.5659299]\n",
    "zone1, zone2, zone3, zone4, zone5 = dest_list[0], dest_list[1], dest_list[2], dest_list[3], dest_list[4]\n",
    "v, delta_t = 0.707, 0.4\n",
    "\n",
    "kf1 = KalmanFilter(dim_x=5, dim_z=2)\n",
    "kf2 = KalmanFilter(dim_x=5, dim_z=2)\n",
    "kf3 = KalmanFilter(dim_x=5, dim_z=2)\n",
    "kf4 = KalmanFilter(dim_x=5, dim_z=2)\n",
    "kf5 = KalmanFilter(dim_x=5, dim_z=2)\n",
    "\n",
    "directions1, directions2, directions3 = direction(start, zone1), direction(start, zone2), direction(start, zone3)\n",
    "directions4, directions5 = direction(start, zone4), direction(start, zone5)\n",
    "\n",
    "state_transition1 = state_transition_matrix2(v, directions1, delta_t)\n",
    "state_transition2 = state_transition_matrix2(v, directions2, delta_t)\n",
    "state_transition3 = state_transition_matrix2(v, directions3, delta_t)\n",
    "state_transition4 = state_transition_matrix2(v, directions4, delta_t)\n",
    "state_transition5 = state_transition_matrix2(v, directions5, delta_t)\n",
    "\n",
    "kf1.F, kf2.F, kf3.F, kf4.F = state_transition1, state_transition2, state_transition3, state_transition4\n",
    "kf5.F = state_transition5\n",
    "\n",
    "# define initial state [x, y, yaw, velocity, yaw*dt]\n",
    "kf1.x = np.array([input_xy_temp[0, 0], input_xy_temp[0, 1], directions1, v, directions1*delta_t])\n",
    "kf2.x = np.array([input_xy_temp[0, 0], input_xy_temp[0, 1], directions2, v, directions2*delta_t])\n",
    "kf3.x = np.array([input_xy_temp[0, 0], input_xy_temp[0, 1], directions3, v, directions3*delta_t])\n",
    "kf4.x = np.array([input_xy_temp[0, 0], input_xy_temp[0, 1], directions4, v, directions4*delta_t])\n",
    "kf5.x = np.array([input_xy_temp[0, 0], input_xy_temp[0, 1], directions4, v, directions4*delta_t])\n",
    "\n",
    "sGPS, sCourse, sVelocity, sYaw = 0.5*8.8*delta_t**2, 0.1*delta_t, 8.8*delta_t, 1.0*delta_t\n",
    "temp_q = np.diag([sGPS**2, sGPS**2, sCourse**2, sVelocity**2, sYaw**2])\n",
    "# process noise\n",
    "kf1.Q, kf2.Q, kf3.Q, kf4.Q, kf5.Q = temp_q, temp_q, temp_q, temp_q, temp_q\n",
    "# measurement noise\n",
    "kf1.R, kf2.R, kf3.R, kf4.R = np.identity(2)*5, np.identity(2)*5, np.identity(2)*5, np.identity(2)*5\n",
    "kf5.R = np.identity(2)*5\n",
    "# Define the covariance matrix.\n",
    "# Here I take advantage of the fact that P already contains np.eye(dim_x), and just multiply by the uncertainty:\n",
    "kf1.P *= 10; kf2.P *= 10; kf3.P *= 10; kf4.P *= 10; kf5.P *= 10\n",
    "\n",
    "# define measurement function\n",
    "kf1.H = np.array([[1.0, 0.0, 0.0, 0.0, 0.0],\n",
    "                [0.0, 1.0, 0.0, 0.0, 0.0]])\n",
    "kf2.H = np.array([[1.0, 0.0, 0.0, 0.0, 0.0],\n",
    "                [0.0, 1.0, 0.0, 0.0, 0.0]])\n",
    "kf3.H = np.array([[1.0, 0.0, 0.0, 0.0, 0.0],\n",
    "                [0.0, 1.0, 0.0, 0.0, 0.0]])\n",
    "kf4.H = np.array([[1.0, 0.0, 0.0, 0.0, 0.0],\n",
    "                [0.0, 1.0, 0.0, 0.0, 0.0]])\n",
    "kf5.H = np.array([[1.0, 0.0, 0.0, 0.0, 0.0],\n",
    "                [0.0, 1.0, 0.0, 0.0, 0.0]])\n",
    "\n",
    "filters = [kf1, kf2, kf3, kf4, kf5]\n",
    "\n",
    "mu = [0.20, 0.20, 0.20, 0.20, 0.20] # each filter is equally likely at the start\n",
    "\n",
    "trans = np.array([[0.80, 0.05, 0.05, 0.05, 0.05], \n",
    "                  [0.05, 0.80, 0.05, 0.05, 0.05], \n",
    "                  [0.05, 0.05, 0.80, 0.05, 0.05],\n",
    "                  [0.05, 0.05, 0.05, 0.80, 0.05],\n",
    "                  [0.05, 0.05, 0.05, 0.05, 0.80]\n",
    "                 ]) \n",
    "# M[i,j] is the probability of switching from filter j to filter i.\n",
    "\n",
    "imm = IMMEstimator(filters, mu, trans)"
   ]
  },
  {
   "cell_type": "code",
   "execution_count": 178,
   "metadata": {},
   "outputs": [
    {
     "name": "stdout",
     "output_type": "stream",
     "text": [
      "iteration  0 :  mode:  [0.21244446 0.20546764 0.20669427 0.17527816 0.20011547]\n",
      "iteration  1 :  mode:  [0.24480979 0.22875573 0.23541392 0.11139972 0.17962084]\n",
      "iteration  2 :  mode:  [0.27412139 0.25473385 0.27391618 0.06295219 0.13427639]\n",
      "iteration  3 :  mode:  [0.27633452 0.27941051 0.30691643 0.04063033 0.09670821]\n",
      "iteration  4 :  mode:  [0.27307876 0.29117433 0.32550147 0.03041175 0.07983369]\n",
      "iteration  5 :  mode:  [0.26282259 0.29936636 0.34193029 0.02534418 0.07053658]\n",
      "iteration  6 :  mode:  [0.25651612 0.30368007 0.34965239 0.02367409 0.06647733]\n",
      "iteration  7 :  mode:  [0.25869374 0.30399275 0.3481564  0.0237588  0.06539831]\n",
      "iteration  8 :  mode:  [0.25809585 0.30454819 0.34955944 0.02385575 0.06394077]\n",
      "iteration  9 :  mode:  [0.26051076 0.30349818 0.34709594 0.02481283 0.06408229]\n",
      "iteration  10 :  mode:  [0.26227603 0.3033922  0.34406985 0.02597672 0.06428519]\n",
      "iteration  11 :  mode:  [0.26598503 0.3013511  0.34035279 0.02694763 0.06536344]\n",
      "iteration  12 :  mode:  [0.27416382 0.29549769 0.33515729 0.02772242 0.06745878]\n",
      "iteration  13 :  mode:  [0.28166836 0.29091503 0.3296722  0.02886011 0.0688843 ]\n",
      "iteration  14 :  mode:  [0.2898879  0.28608936 0.32362395 0.02987525 0.07052355]\n",
      "iteration  15 :  mode:  [0.29932563 0.28083443 0.31673436 0.03084163 0.07226395]\n",
      "iteration  16 :  mode:  [0.31026724 0.27588843 0.30790869 0.03206138 0.07387425]\n",
      "iteration  17 :  mode:  [0.32468122 0.26926655 0.29721756 0.03301962 0.07581506]\n",
      "iteration  18 :  mode:  [0.33649877 0.2637697  0.28958988 0.03346007 0.07668159]\n",
      "iteration  19 :  mode:  [0.34871848 0.25789923 0.28160973 0.03400378 0.07776878]\n",
      "iteration  20 :  mode:  [0.35623746 0.25437356 0.27711366 0.03430833 0.07796699]\n",
      "iteration  21 :  mode:  [0.36062129 0.25232743 0.27396748 0.03479488 0.07828891]\n",
      "iteration  22 :  mode:  [0.36443939 0.25037172 0.27110705 0.03515798 0.07892386]\n",
      "iteration  23 :  mode:  [0.36841205 0.24836983 0.26811078 0.03547872 0.07962862]\n",
      "iteration  24 :  mode:  [0.37269891 0.24623486 0.2656579  0.03547647 0.07993185]\n",
      "iteration  25 :  mode:  [0.37412627 0.24503494 0.26402775 0.03606419 0.08074685]\n",
      "iteration  26 :  mode:  [0.37728568 0.24341955 0.26154597 0.03616672 0.08158207]\n",
      "iteration  27 :  mode:  [0.38173187 0.24132765 0.25865866 0.03609261 0.08218921]\n",
      "iteration  28 :  mode:  [0.38670009 0.23922621 0.25589269 0.0358177  0.08236332]\n",
      "iteration  29 :  mode:  [0.39110323 0.2372652  0.25306969 0.03578397 0.0827779 ]\n",
      "iteration  30 :  mode:  [0.39611434 0.23542158 0.25051048 0.03528749 0.08266611]\n",
      "iteration  31 :  mode:  [0.40229625 0.23326024 0.24820632 0.03434378 0.08189341]\n"
     ]
    }
   ],
   "source": [
    "# put some initial input here. Like the trajectory of first one second\n",
    "for i in range(len(input_xy_temp)):\n",
    "    # x = interpolated_z[i, 0]\n",
    "    # y = interpolated_z[i, 1]\n",
    "    # z = np.array([[x], [y]])\n",
    "    z = input_xy_temp[i]\n",
    "    # print(z)\n",
    "    # print(z.shape)\n",
    "    \n",
    "    imm.predict()\n",
    "    imm.update(z)\n",
    "    # print(imm.x.T)\n",
    "    print(\"iteration \", i, \": \",  \"mode: \", imm.mu)\n",
    "    # print()"
   ]
  },
  {
   "cell_type": "code",
   "execution_count": 727,
   "metadata": {},
   "outputs": [],
   "source": [
    "kf_test = kinematic_kf(dim=2, order=2, dt=0.4, order_by_dim=False)"
   ]
  },
  {
   "cell_type": "code",
   "execution_count": 728,
   "metadata": {},
   "outputs": [
    {
     "data": {
      "text/plain": [
       "array([[1.  , 0.  , 0.4 , 0.  , 0.08, 0.  ],\n",
       "       [0.  , 1.  , 0.  , 0.4 , 0.  , 0.08],\n",
       "       [0.  , 0.  , 1.  , 0.  , 0.4 , 0.  ],\n",
       "       [0.  , 0.  , 0.  , 1.  , 0.  , 0.4 ],\n",
       "       [0.  , 0.  , 0.  , 0.  , 1.  , 0.  ],\n",
       "       [0.  , 0.  , 0.  , 0.  , 0.  , 1.  ]])"
      ]
     },
     "execution_count": 728,
     "metadata": {},
     "output_type": "execute_result"
    }
   ],
   "source": [
    "kf_test.F"
   ]
  },
  {
   "cell_type": "code",
   "execution_count": 729,
   "metadata": {},
   "outputs": [
    {
     "data": {
      "text/plain": [
       "4.47213595499958"
      ]
     },
     "execution_count": 729,
     "metadata": {},
     "output_type": "execute_result"
    }
   ],
   "source": [
    "np.linalg.norm((np.array((12, 5)) - np.array((8, 3))))"
   ]
  },
  {
   "cell_type": "code",
   "execution_count": 743,
   "metadata": {},
   "outputs": [
    {
     "data": {
      "text/plain": [
       "array([-14.5219591,   0.2516812])"
      ]
     },
     "execution_count": 743,
     "metadata": {},
     "output_type": "execute_result"
    }
   ],
   "source": [
    "tt = (np.array((-1.5219591, 6.0516812)) - np.array((13, 5.8)))\n",
    "tt"
   ]
  },
  {
   "cell_type": "code",
   "execution_count": 744,
   "metadata": {},
   "outputs": [
    {
     "name": "stderr",
     "output_type": "stream",
     "text": [
      "c:\\users\\sakif\\appdata\\local\\programs\\python\\python37\\lib\\site-packages\\ipykernel_launcher.py:1: RuntimeWarning: invalid value encountered in arccos\n",
      "  \"\"\"Entry point for launching an IPython kernel.\n"
     ]
    },
    {
     "data": {
      "text/plain": [
       "array([       nan, 1.31637935])"
      ]
     },
     "execution_count": 744,
     "metadata": {},
     "output_type": "execute_result"
    }
   ],
   "source": [
    "np.arccos(tt)"
   ]
  },
  {
   "cell_type": "code",
   "execution_count": 745,
   "metadata": {},
   "outputs": [
    {
     "data": {
      "text/plain": [
       "14.524139889456665"
      ]
     },
     "execution_count": 745,
     "metadata": {},
     "output_type": "execute_result"
    }
   ],
   "source": [
    "np.linalg.norm(tt)"
   ]
  },
  {
   "cell_type": "code",
   "execution_count": 736,
   "metadata": {},
   "outputs": [
    {
     "data": {
      "text/plain": [
       "1.000000001118128"
      ]
     },
     "execution_count": 736,
     "metadata": {},
     "output_type": "execute_result"
    }
   ],
   "source": [
    "np.sqrt((0.89442719**2 + 0.4472136**2))"
   ]
  },
  {
   "cell_type": "code",
   "execution_count": null,
   "metadata": {},
   "outputs": [],
   "source": []
  }
 ],
 "metadata": {
  "kernelspec": {
   "display_name": "Python 3 (ipykernel)",
   "language": "python",
   "name": "python3"
  },
  "language_info": {
   "codemirror_mode": {
    "name": "ipython",
    "version": 3
   },
   "file_extension": ".py",
   "mimetype": "text/x-python",
   "name": "python",
   "nbconvert_exporter": "python",
   "pygments_lexer": "ipython3",
   "version": "3.7.1"
  }
 },
 "nbformat": 4,
 "nbformat_minor": 4
}
