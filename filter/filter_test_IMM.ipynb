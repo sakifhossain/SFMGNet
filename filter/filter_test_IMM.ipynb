{
 "cells": [
  {
   "cell_type": "code",
   "execution_count": 8,
   "metadata": {},
   "outputs": [],
   "source": [
    "from filterpy.common import kinematic_kf\n",
    "import numpy as np\n",
    "from filterpy.kalman import IMMEstimator"
   ]
  },
  {
   "cell_type": "code",
   "execution_count": 49,
   "metadata": {},
   "outputs": [],
   "source": [
    "kf1 = kinematic_kf(2, 2)\n",
    "kf2 = kinematic_kf(2, 2)\n",
    "kf3 = kinematic_kf(2, 2)\n",
    "# do some settings of x, R, P etc. here, I'll just use the defaults"
   ]
  },
  {
   "cell_type": "code",
   "execution_count": 24,
   "metadata": {},
   "outputs": [],
   "source": [
    "# no prediction error in second filter\n",
    "kf3.Q *= 0"
   ]
  },
  {
   "cell_type": "code",
   "execution_count": 25,
   "metadata": {},
   "outputs": [],
   "source": [
    "filters = [kf1, kf2, kf3]"
   ]
  },
  {
   "cell_type": "code",
   "execution_count": 34,
   "metadata": {},
   "outputs": [],
   "source": [
    "mu = [0.333, 0.333, 0.333] # each filter is equally likely at the start"
   ]
  },
  {
   "cell_type": "code",
   "execution_count": 31,
   "metadata": {},
   "outputs": [],
   "source": [
    "trans = np.array([[0.90, 0.05, 0.05], \n",
    "                  [0.05, 0.90, 0.05], \n",
    "                  [0.05, 0.05, 0.90]\n",
    "                 ]) \n",
    "# M[i,j] is the probability of switching from filter j to filter i."
   ]
  },
  {
   "cell_type": "code",
   "execution_count": 43,
   "metadata": {},
   "outputs": [],
   "source": [
    "imm = IMMEstimator(filters, mu, trans)"
   ]
  },
  {
   "cell_type": "code",
   "execution_count": 44,
   "metadata": {},
   "outputs": [
    {
     "name": "stdout",
     "output_type": "stream",
     "text": [
      "mode:  [5.00000000e-01 5.00000000e-01 1.55715092e-25]\n",
      "mode:  [0.4979846 0.4979846 0.0040308]\n",
      "mode:  [0.48285556 0.48285556 0.03428888]\n",
      "mode:  [0.45208281 0.45208281 0.09583437]\n",
      "mode:  [0.44237728 0.44237728 0.11524544]\n",
      "mode:  [0.46878011 0.46878011 0.06243977]\n",
      "mode:  [0.43793924 0.43793924 0.12412152]\n",
      "mode:  [0.41950333 0.41950333 0.16099333]\n",
      "mode:  [0.40816515 0.40816515 0.18366969]\n",
      "mode:  [0.36721209 0.36721209 0.26557582]\n",
      "mode:  [0.30425386 0.30425386 0.39149228]\n",
      "mode:  [0.23419919 0.23419919 0.53160163]\n",
      "mode:  [0.20874254 0.20874254 0.58251493]\n",
      "mode:  [0.14292456 0.14292456 0.71415088]\n",
      "mode:  [0.20982651 0.20982651 0.58034697]\n",
      "mode:  [0.21434193 0.21434193 0.57131615]\n",
      "mode:  [0.16787223 0.16787223 0.66425554]\n",
      "mode:  [0.19405156 0.19405156 0.61189687]\n",
      "mode:  [0.1658498  0.1658498  0.66830039]\n",
      "mode:  [0.10528071 0.10528071 0.78943857]\n"
     ]
    }
   ],
   "source": [
    "for i in range(20):\n",
    "    x = i + np.random.randn()*np.sqrt(kf1.R[0, 0])\n",
    "    y = i + np.random.randn()*np.sqrt(kf1.R[1, 1])\n",
    "    z = np.array([[x], [y]])\n",
    "    \n",
    "    imm.predict()\n",
    "    imm.update(z)\n",
    "    # print(imm.x.T)\n",
    "    print(\"mode: \", imm.mu)"
   ]
  },
  {
   "cell_type": "code",
   "execution_count": 51,
   "metadata": {},
   "outputs": [
    {
     "data": {
      "text/plain": [
       "array([[1. , 1. , 0.5, 0. , 0. , 0. ],\n",
       "       [0. , 1. , 1. , 0. , 0. , 0. ],\n",
       "       [0. , 0. , 1. , 0. , 0. , 0. ],\n",
       "       [0. , 0. , 0. , 1. , 1. , 0.5],\n",
       "       [0. , 0. , 0. , 0. , 1. , 1. ],\n",
       "       [0. , 0. , 0. , 0. , 0. , 1. ]])"
      ]
     },
     "execution_count": 51,
     "metadata": {},
     "output_type": "execute_result"
    }
   ],
   "source": [
    "kf2.F"
   ]
  },
  {
   "cell_type": "code",
   "execution_count": 52,
   "metadata": {},
   "outputs": [
    {
     "data": {
      "text/plain": [
       "array([[1. , 1. , 0.5, 0. , 0. , 0. ],\n",
       "       [0. , 1. , 1. , 0. , 0. , 0. ],\n",
       "       [0. , 0. , 1. , 0. , 0. , 0. ],\n",
       "       [0. , 0. , 0. , 1. , 1. , 0.5],\n",
       "       [0. , 0. , 0. , 0. , 1. , 1. ],\n",
       "       [0. , 0. , 0. , 0. , 0. , 1. ]])"
      ]
     },
     "execution_count": 52,
     "metadata": {},
     "output_type": "execute_result"
    }
   ],
   "source": [
    "kf1.F"
   ]
  },
  {
   "cell_type": "code",
   "execution_count": null,
   "metadata": {},
   "outputs": [],
   "source": []
  }
 ],
 "metadata": {
  "kernelspec": {
   "display_name": "Python 3",
   "language": "python",
   "name": "python3"
  },
  "language_info": {
   "codemirror_mode": {
    "name": "ipython",
    "version": 3
   },
   "file_extension": ".py",
   "mimetype": "text/x-python",
   "name": "python",
   "nbconvert_exporter": "python",
   "pygments_lexer": "ipython3",
   "version": "3.7.1"
  }
 },
 "nbformat": 4,
 "nbformat_minor": 4
}
