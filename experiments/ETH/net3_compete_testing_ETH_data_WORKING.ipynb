{
 "cells": [
  {
   "cell_type": "code",
   "execution_count": 1,
   "metadata": {},
   "outputs": [],
   "source": [
    "import torch\n",
    "import torch.nn as nn\n",
    "import torch.nn.functional as F\n",
    "import pandas as pd\n",
    "import numpy as np\n",
    "import torch.utils.data as data_utils\n",
    "import torch.optim as optim\n",
    "import matplotlib.pyplot as plt\n",
    "from torch.utils.data import Dataset\n",
    "from scipy.spatial import distance\n",
    "from sklearn.metrics import mean_squared_error"
   ]
  },
  {
   "cell_type": "code",
   "execution_count": 2,
   "metadata": {},
   "outputs": [],
   "source": [
    "import my_models as my_models"
   ]
  },
  {
   "cell_type": "code",
   "execution_count": 3,
   "metadata": {},
   "outputs": [],
   "source": [
    "net3_ped1 = my_models.Net3_ped1()\n",
    "net3_ped2 = my_models.Net3_ped2()\n",
    "net3_ped3 = my_models.Net3_ped3()\n",
    "net3_ped4 = my_models.Net3_ped4()\n",
    "net3_ped5 = my_models.Net3_ped5()\n",
    "net3_ped6 = my_models.Net3_ped6()\n",
    "net3_ped7 = my_models.Net3_ped7()\n",
    "net3_ped8 = my_models.Net3_ped8()\n",
    "net3_ped9 = my_models.Net3_ped9()"
   ]
  },
  {
   "cell_type": "code",
   "execution_count": 5,
   "metadata": {},
   "outputs": [],
   "source": [
    "net3_ped_repulse_total = my_models.Net3_ped_repulse_total(net3_ped1, net3_ped2, net3_ped3, net3_ped4, net3_ped5,\n",
    "                                                net3_ped6, net3_ped7, net3_ped8, net3_ped9)\n",
    "net3_attract = my_models.Net3_attract()\n",
    "net3_repulse = my_models.Net3_repulse()\n",
    "net3_ped_group = my_models.Net3_ped_group()"
   ]
  },
  {
   "cell_type": "code",
   "execution_count": 7,
   "metadata": {},
   "outputs": [],
   "source": [
    "path_ped_repulse = \"weights/Net3_ped_repulse_total.pth\"\n",
    "path_attract = \"weights/net3_attract.pth\"\n",
    "path_repulse = \"weights/net3_repulse.pth\"\n",
    "path_group = \"weights/net3_ped_group.pth\""
   ]
  },
  {
   "cell_type": "code",
   "execution_count": 8,
   "metadata": {},
   "outputs": [
    {
     "data": {
      "text/plain": [
       "<All keys matched successfully>"
      ]
     },
     "execution_count": 8,
     "metadata": {},
     "output_type": "execute_result"
    }
   ],
   "source": [
    "net3_ped_repulse_total.load_state_dict(torch.load(path_ped_repulse))\n",
    "net3_attract.load_state_dict(torch.load(path_attract))\n",
    "net3_repulse.load_state_dict(torch.load(path_repulse))\n",
    "net3_ped_group.load_state_dict(torch.load(path_group))"
   ]
  },
  {
   "cell_type": "code",
   "execution_count": 9,
   "metadata": {},
   "outputs": [],
   "source": [
    "net3_complete = my_models.Net3_complete(net3_attract, net3_repulse, net3_ped_repulse_total, net3_ped_group)\n",
    "# print(net3_complete)"
   ]
  },
  {
   "cell_type": "code",
   "execution_count": 10,
   "metadata": {},
   "outputs": [],
   "source": [
    "path_net3_complete = \"weights/net3_complete2.pth\""
   ]
  },
  {
   "cell_type": "code",
   "execution_count": 11,
   "metadata": {},
   "outputs": [
    {
     "data": {
      "text/plain": [
       "<All keys matched successfully>"
      ]
     },
     "execution_count": 11,
     "metadata": {},
     "output_type": "execute_result"
    }
   ],
   "source": [
    "net3_complete.load_state_dict(torch.load(path_net3_complete))"
   ]
  },
  {
   "cell_type": "code",
   "execution_count": 12,
   "metadata": {},
   "outputs": [],
   "source": [
    "from scipy.interpolate import interp1d\n",
    "\n",
    "def input_interpolated(temp_xy):\n",
    "    # takes the 3 timesteps of inputs and rescales it into 10 timesteps\n",
    "    # returns as (10, 2)\n",
    "    temp_x = np.array((temp_xy[0], temp_xy[2], temp_xy[4]))\n",
    "    temp_y = np.array((temp_xy[1], temp_xy[3], temp_xy[5]))\n",
    "    x_total = []\n",
    "    y_total = []\n",
    "    for p in range(2):\n",
    "        x = temp_x[0+p:2+p]\n",
    "        y = temp_y[0+p:2+p]\n",
    "        if (x[0] == x[-1] and y[0] == y[-1]):\n",
    "            # if both x values are same, we do this to avoid nan given by interp1d\n",
    "            x_new = np.linspace(x[0], x[-1], num=5)\n",
    "            y_new = np.linspace(y[0], y[-1], num=5)\n",
    "        else:            \n",
    "            f2 = interp1d(x, y)\n",
    "            x_new = np.linspace(x[0], x[-1], num=5)\n",
    "            \n",
    "            y_new = f2(x_new)\n",
    "        x_total.append(x_new)\n",
    "        y_total.append(y_new)\n",
    "    x_total = np.array(x_total)\n",
    "    x_total = x_total.flatten()\n",
    "    y_total = np.array(y_total)\n",
    "    y_total = y_total.flatten()\n",
    "    xy_input = []\n",
    "    for p in range(len(x_total)):\n",
    "        temp_array = [x_total[p], y_total[p]]\n",
    "        xy_input.append(temp_array)\n",
    "    xy_input = np.array(xy_input)\n",
    "    return xy_input"
   ]
  },
  {
   "cell_type": "code",
   "execution_count": 14,
   "metadata": {},
   "outputs": [],
   "source": [
    "test_df_path = \"data/test_data/eth_data_prepared_normal3.csv\"\n",
    "# delta_t = 0.4"
   ]
  },
  {
   "cell_type": "code",
   "execution_count": 15,
   "metadata": {},
   "outputs": [],
   "source": [
    "test_df = pd.read_csv(test_df_path, index_col=None)"
   ]
  },
  {
   "cell_type": "code",
   "execution_count": 16,
   "metadata": {
    "scrolled": true
   },
   "outputs": [
    {
     "data": {
      "text/html": [
       "<div>\n",
       "<style scoped>\n",
       "    .dataframe tbody tr th:only-of-type {\n",
       "        vertical-align: middle;\n",
       "    }\n",
       "\n",
       "    .dataframe tbody tr th {\n",
       "        vertical-align: top;\n",
       "    }\n",
       "\n",
       "    .dataframe thead th {\n",
       "        text-align: right;\n",
       "    }\n",
       "</style>\n",
       "<table border=\"1\" class=\"dataframe\">\n",
       "  <thead>\n",
       "    <tr style=\"text-align: right;\">\n",
       "      <th></th>\n",
       "      <th>frame_id</th>\n",
       "      <th>ped_no</th>\n",
       "      <th>pos_x</th>\n",
       "      <th>pos_y</th>\n",
       "      <th>vel_x</th>\n",
       "      <th>vel_y</th>\n",
       "      <th>rotation_angle</th>\n",
       "      <th>eta_group_x</th>\n",
       "      <th>eta_group_y</th>\n",
       "      <th>bound_x</th>\n",
       "      <th>...</th>\n",
       "      <th>n_w_y21</th>\n",
       "      <th>n_w_y22</th>\n",
       "      <th>n_w_y23</th>\n",
       "      <th>n_w_y24</th>\n",
       "      <th>n_w_y25</th>\n",
       "      <th>n_w_y26</th>\n",
       "      <th>n26_y</th>\n",
       "      <th>d_w_bound</th>\n",
       "      <th>n_w_bound_x</th>\n",
       "      <th>n_w_bound_y</th>\n",
       "    </tr>\n",
       "  </thead>\n",
       "  <tbody>\n",
       "    <tr>\n",
       "      <th>0</th>\n",
       "      <td>780</td>\n",
       "      <td>1</td>\n",
       "      <td>8.456844</td>\n",
       "      <td>3.588066</td>\n",
       "      <td>1.671714</td>\n",
       "      <td>0.176292</td>\n",
       "      <td>0.0</td>\n",
       "      <td>0.0</td>\n",
       "      <td>0.0</td>\n",
       "      <td>0.793</td>\n",
       "      <td>...</td>\n",
       "      <td>0.0</td>\n",
       "      <td>0.0</td>\n",
       "      <td>0.0</td>\n",
       "      <td>0.0</td>\n",
       "      <td>0.0</td>\n",
       "      <td>0.0</td>\n",
       "      <td>0.0</td>\n",
       "      <td>8.906774</td>\n",
       "      <td>0.949485</td>\n",
       "      <td>0.313814</td>\n",
       "    </tr>\n",
       "    <tr>\n",
       "      <th>1</th>\n",
       "      <td>786</td>\n",
       "      <td>1</td>\n",
       "      <td>9.125530</td>\n",
       "      <td>3.658583</td>\n",
       "      <td>1.662877</td>\n",
       "      <td>0.326723</td>\n",
       "      <td>0.0</td>\n",
       "      <td>0.0</td>\n",
       "      <td>0.0</td>\n",
       "      <td>0.793</td>\n",
       "      <td>...</td>\n",
       "      <td>0.0</td>\n",
       "      <td>0.0</td>\n",
       "      <td>0.0</td>\n",
       "      <td>0.0</td>\n",
       "      <td>0.0</td>\n",
       "      <td>0.0</td>\n",
       "      <td>0.0</td>\n",
       "      <td>9.564877</td>\n",
       "      <td>0.954067</td>\n",
       "      <td>0.299594</td>\n",
       "    </tr>\n",
       "    <tr>\n",
       "      <th>2</th>\n",
       "      <td>792</td>\n",
       "      <td>1</td>\n",
       "      <td>9.787146</td>\n",
       "      <td>3.849445</td>\n",
       "      <td>1.683334</td>\n",
       "      <td>0.371084</td>\n",
       "      <td>0.0</td>\n",
       "      <td>0.0</td>\n",
       "      <td>0.0</td>\n",
       "      <td>0.793</td>\n",
       "      <td>...</td>\n",
       "      <td>0.0</td>\n",
       "      <td>0.0</td>\n",
       "      <td>0.0</td>\n",
       "      <td>0.0</td>\n",
       "      <td>0.0</td>\n",
       "      <td>0.0</td>\n",
       "      <td>0.0</td>\n",
       "      <td>10.253295</td>\n",
       "      <td>0.954537</td>\n",
       "      <td>0.298094</td>\n",
       "    </tr>\n",
       "    <tr>\n",
       "      <th>3</th>\n",
       "      <td>798</td>\n",
       "      <td>1</td>\n",
       "      <td>10.472197</td>\n",
       "      <td>3.955450</td>\n",
       "      <td>1.598568</td>\n",
       "      <td>0.264795</td>\n",
       "      <td>0.0</td>\n",
       "      <td>0.0</td>\n",
       "      <td>0.0</td>\n",
       "      <td>0.793</td>\n",
       "      <td>...</td>\n",
       "      <td>0.0</td>\n",
       "      <td>0.0</td>\n",
       "      <td>0.0</td>\n",
       "      <td>0.0</td>\n",
       "      <td>0.0</td>\n",
       "      <td>0.0</td>\n",
       "      <td>0.0</td>\n",
       "      <td>10.939286</td>\n",
       "      <td>0.957302</td>\n",
       "      <td>0.289091</td>\n",
       "    </tr>\n",
       "    <tr>\n",
       "      <th>4</th>\n",
       "      <td>804</td>\n",
       "      <td>1</td>\n",
       "      <td>11.066000</td>\n",
       "      <td>4.061280</td>\n",
       "      <td>1.574526</td>\n",
       "      <td>0.456390</td>\n",
       "      <td>0.0</td>\n",
       "      <td>0.0</td>\n",
       "      <td>0.0</td>\n",
       "      <td>0.793</td>\n",
       "      <td>...</td>\n",
       "      <td>0.0</td>\n",
       "      <td>0.0</td>\n",
       "      <td>0.0</td>\n",
       "      <td>0.0</td>\n",
       "      <td>0.0</td>\n",
       "      <td>0.0</td>\n",
       "      <td>0.0</td>\n",
       "      <td>11.538544</td>\n",
       "      <td>0.959047</td>\n",
       "      <td>0.283249</td>\n",
       "    </tr>\n",
       "  </tbody>\n",
       "</table>\n",
       "<p>5 rows × 144 columns</p>\n",
       "</div>"
      ],
      "text/plain": [
       "   frame_id  ped_no      pos_x     pos_y     vel_x     vel_y  rotation_angle  \\\n",
       "0       780       1   8.456844  3.588066  1.671714  0.176292             0.0   \n",
       "1       786       1   9.125530  3.658583  1.662877  0.326723             0.0   \n",
       "2       792       1   9.787146  3.849445  1.683334  0.371084             0.0   \n",
       "3       798       1  10.472197  3.955450  1.598568  0.264795             0.0   \n",
       "4       804       1  11.066000  4.061280  1.574526  0.456390             0.0   \n",
       "\n",
       "   eta_group_x  eta_group_y  bound_x  ...  n_w_y21  n_w_y22  n_w_y23  n_w_y24  \\\n",
       "0          0.0          0.0    0.793  ...      0.0      0.0      0.0      0.0   \n",
       "1          0.0          0.0    0.793  ...      0.0      0.0      0.0      0.0   \n",
       "2          0.0          0.0    0.793  ...      0.0      0.0      0.0      0.0   \n",
       "3          0.0          0.0    0.793  ...      0.0      0.0      0.0      0.0   \n",
       "4          0.0          0.0    0.793  ...      0.0      0.0      0.0      0.0   \n",
       "\n",
       "   n_w_y25  n_w_y26  n26_y  d_w_bound  n_w_bound_x  n_w_bound_y  \n",
       "0      0.0      0.0    0.0   8.906774     0.949485     0.313814  \n",
       "1      0.0      0.0    0.0   9.564877     0.954067     0.299594  \n",
       "2      0.0      0.0    0.0  10.253295     0.954537     0.298094  \n",
       "3      0.0      0.0    0.0  10.939286     0.957302     0.289091  \n",
       "4      0.0      0.0    0.0  11.538544     0.959047     0.283249  \n",
       "\n",
       "[5 rows x 144 columns]"
      ]
     },
     "execution_count": 16,
     "metadata": {},
     "output_type": "execute_result"
    }
   ],
   "source": [
    "test_df.head()"
   ]
  },
  {
   "cell_type": "code",
   "execution_count": 19,
   "metadata": {},
   "outputs": [],
   "source": [
    "from collections import Counter"
   ]
  },
  {
   "cell_type": "code",
   "execution_count": 20,
   "metadata": {},
   "outputs": [],
   "source": [
    "tempppp = Counter(np.array(test_df['ped_no']))\n",
    "# tempppp\n",
    "# 171"
   ]
  },
  {
   "cell_type": "code",
   "execution_count": 29,
   "metadata": {},
   "outputs": [],
   "source": [
    "def speed_finder(positions):\n",
    "    # temp_seq = np.reshape(positions, (10, 2))\n",
    "    positions = positions.view((10, 2))\n",
    "    # print(positions)\n",
    "    temp_array = []\n",
    "    # global goal\n",
    "    for k in reversed(range(10)):\n",
    "        # print(k)\n",
    "        temp_positions = positions[k] - positions[k - 1]\n",
    "        temp_positions = torch.norm(temp_positions)\n",
    "        # print(temp_positions)\n",
    "        # temp_positions = temp_positions.tolist()\n",
    "        # print(temp_positions)\n",
    "        temp_array.insert(0, temp_positions)\n",
    "    return torch.Tensor([temp_array])"
   ]
  },
  {
   "cell_type": "code",
   "execution_count": 30,
   "metadata": {},
   "outputs": [],
   "source": [
    "import math"
   ]
  },
  {
   "cell_type": "code",
   "execution_count": 31,
   "metadata": {},
   "outputs": [],
   "source": [
    "# make a class prediction for one row of data\n",
    "# give previous velocity directly here\n",
    "#  e, x_attract1, x_attract2, x_bound, x1, x2, x3, x4, x5, x6, x7, x8, x9, x_group, x_speed\n",
    "def predict_synthetic(model, delta_t, last_velocity, temp_input, temp_goal, temp_n1, temp_n2, temp_n3, temp_n4, temp_n5,\n",
    "                      temp_n6, temp_n7, temp_n8, temp_n9, temp_n_bound, temp_n_group, temp_n_centroid):\n",
    "\n",
    "    previous_velocity = last_velocity\n",
    "    previous_speed = np.linalg.norm(previous_velocity)\n",
    "    temp_input2 = temp_input - temp_input[:, 0]\n",
    "    temp_input_1 = speed_finder(temp_input2)/delta_t\n",
    "    x_speed = temp_input_1[:, -1:]\n",
    "    # make prediction\n",
    "    # yhat = net3_complete(goal2, x_attract1, x_attract2, x_bound, x1, x2, x3, x4, x5, x6, x7, x8, x9, x_group, x_speed)\n",
    "    yhat = model(temp_goal, temp_input_1, temp_input2, temp_n_bound, temp_n1, temp_n2, temp_n3, temp_n4, temp_n5, \n",
    "                 temp_n6, temp_n7, temp_n8, temp_n9, temp_n_group, temp_n_centroid)\n",
    "    \n",
    "    # retrieve numpy array\n",
    "    yhat = yhat.detach().numpy()\n",
    "    # that is actually not the desired velocity: try giving it directly\n",
    "\n",
    "    desired_velocity = previous_velocity + (yhat * delta_t)\n",
    "    desired_speed = np.linalg.norm(desired_velocity)\n",
    "    \n",
    "    # this section is to cap the velocity to a certain value\n",
    "    factor = np.minimum(1.0, (1.3 * previous_speed) / desired_speed)\n",
    "    # if factor != 1.0 : print(\"different factor\")\n",
    "    if desired_speed == 0:\n",
    "        factor = 0.0\n",
    "    # print(factor)\n",
    "    current_velocity = desired_velocity * factor\n",
    "    # print(\"current velocity: \", current_velocity, \"\\n\")\n",
    "    # print(\"current position: \", temp_input[0, -2:].detach().numpy(), \"\\n\")\n",
    "    next_position = temp_input[0, -2:].detach().numpy() + (current_velocity * delta_t)\n",
    "     \n",
    "    return yhat, next_position"
   ]
  },
  {
   "cell_type": "code",
   "execution_count": 32,
   "metadata": {},
   "outputs": [],
   "source": [
    "ped_array = np.unique(np.array(test_df['ped_no']))\n",
    "for j in range(3):\n",
    "    # if j == 5: break\n",
    "    test_df_indiv2 = test_df.loc[test_df['ped_no'] == ped_array[j]]\n",
    "    # print(test_df_indiv2.head())"
   ]
  },
  {
   "cell_type": "code",
   "execution_count": 33,
   "metadata": {},
   "outputs": [],
   "source": [
    "test_df_indiv = test_df.loc[test_df['ped_no'] == 359]\n",
    "# test_df_indiv = test_df_indiv.loc[test_df_indiv['frame_id'] >= 1242]"
   ]
  },
  {
   "cell_type": "code",
   "execution_count": 34,
   "metadata": {},
   "outputs": [],
   "source": [
    "def nearest_neighbour_finder(temp_neighbours):\n",
    "    a = temp_neighbours[0]\n",
    "    b = np.argsort(a[np.nonzero(a)])[:9]\n",
    "    b = b + 1\n",
    "    label_dw = \"d_w\"\n",
    "    label_nw_x = \"n_w_x\"\n",
    "    label_nw_y = \"n_w_y\"\n",
    "    label_dw_list = []\n",
    "    label_nw_x_list = []\n",
    "    label_nw_y_list = []\n",
    "    for r in range(len(b)):\n",
    "        label_dw2 = label_dw + str(b[r])\n",
    "        label_nw_x2 = label_nw_x + str(b[r])\n",
    "        label_nw_y2 = label_nw_y + str(b[r])\n",
    "        label_dw_list.append(label_dw2)\n",
    "        label_nw_x_list.append(label_nw_x2)\n",
    "        label_nw_y_list.append(label_nw_y2)\n",
    "\n",
    "    label_dw_list = np.array(label_dw_list)\n",
    "    label_nw_x_list = np.array(label_nw_x_list)\n",
    "    label_nw_y_list = np.array(label_nw_y_list)\n",
    "    return label_dw_list, label_nw_x_list, label_nw_y_list"
   ]
  },
  {
   "cell_type": "code",
   "execution_count": null,
   "metadata": {},
   "outputs": [],
   "source": [
    "dest_list = np.array(((-2, 5.8566027), (-6.5902743, 0.065724367), (-6.5553084, 1.1867515), (15.10717, 5.5659299)))\n",
    "dest_list"
   ]
  },
  {
   "cell_type": "code",
   "execution_count": 38,
   "metadata": {},
   "outputs": [],
   "source": [
    "def goal_estimator2(given_dest, input_xy):\n",
    "    goal_estimated = (given_dest - input_xy[0])/np.linalg.norm((given_dest - input_xy[0]))\n",
    "    goal_estimated = torch.Tensor([goal_estimated])\n",
    "    return goal_estimated"
   ]
  },
  {
   "cell_type": "code",
   "execution_count": 39,
   "metadata": {},
   "outputs": [],
   "source": [
    "def get_last_disp(y_true, y_prediction):\n",
    "    last_disp = np.linalg.norm((y_true[-1, :] - y_prediction[-1, :]))\n",
    "    return last_disp\n",
    "\n",
    "def get_eucledian(true_values, predicted_values):\n",
    "    eucledian_v = np.linalg.norm((true_values - predicted_values), axis =1)\n",
    "    eucledian_v = np.mean(eucledian_v)\n",
    "    return eucledian_v"
   ]
  },
  {
   "cell_type": "code",
   "execution_count": 40,
   "metadata": {},
   "outputs": [],
   "source": [
    "dest_df = pd.read_csv(\"filter/eth_estimated_dests2.csv\", index_col=0)"
   ]
  },
  {
   "cell_type": "code",
   "execution_count": 41,
   "metadata": {},
   "outputs": [
    {
     "data": {
      "text/html": [
       "<div>\n",
       "<style scoped>\n",
       "    .dataframe tbody tr th:only-of-type {\n",
       "        vertical-align: middle;\n",
       "    }\n",
       "\n",
       "    .dataframe tbody tr th {\n",
       "        vertical-align: top;\n",
       "    }\n",
       "\n",
       "    .dataframe thead th {\n",
       "        text-align: right;\n",
       "    }\n",
       "</style>\n",
       "<table border=\"1\" class=\"dataframe\">\n",
       "  <thead>\n",
       "    <tr style=\"text-align: right;\">\n",
       "      <th></th>\n",
       "      <th>dest_x</th>\n",
       "      <th>dest_y</th>\n",
       "    </tr>\n",
       "  </thead>\n",
       "  <tbody>\n",
       "    <tr>\n",
       "      <th>1</th>\n",
       "      <td>-6.555308</td>\n",
       "      <td>11.867515</td>\n",
       "    </tr>\n",
       "    <tr>\n",
       "      <th>2</th>\n",
       "      <td>-2.000000</td>\n",
       "      <td>5.856603</td>\n",
       "    </tr>\n",
       "    <tr>\n",
       "      <th>3</th>\n",
       "      <td>-2.000000</td>\n",
       "      <td>5.856603</td>\n",
       "    </tr>\n",
       "    <tr>\n",
       "      <th>4</th>\n",
       "      <td>15.107170</td>\n",
       "      <td>5.565930</td>\n",
       "    </tr>\n",
       "    <tr>\n",
       "      <th>5</th>\n",
       "      <td>15.107170</td>\n",
       "      <td>5.565930</td>\n",
       "    </tr>\n",
       "  </tbody>\n",
       "</table>\n",
       "</div>"
      ],
      "text/plain": [
       "      dest_x     dest_y\n",
       "1  -6.555308  11.867515\n",
       "2  -2.000000   5.856603\n",
       "3  -2.000000   5.856603\n",
       "4  15.107170   5.565930\n",
       "5  15.107170   5.565930"
      ]
     },
     "execution_count": 41,
     "metadata": {},
     "output_type": "execute_result"
    }
   ],
   "source": [
    "dest_df.head()"
   ]
  },
  {
   "cell_type": "code",
   "execution_count": 42,
   "metadata": {},
   "outputs": [],
   "source": [
    "estimated_dest_list = np.array(dest_df[[\"dest_x\", \"dest_y\"]])"
   ]
  },
  {
   "cell_type": "code",
   "execution_count": 43,
   "metadata": {},
   "outputs": [
    {
     "data": {
      "text/plain": [
       "(360, 2)"
      ]
     },
     "execution_count": 43,
     "metadata": {},
     "output_type": "execute_result"
    }
   ],
   "source": [
    "estimated_dest_list.shape"
   ]
  },
  {
   "cell_type": "code",
   "execution_count": 44,
   "metadata": {},
   "outputs": [],
   "source": [
    "# to predict all the trajectories, 0.1 seconds of prediction at a time\n",
    "# input of one seconds\n",
    "# next step: make it into a function\n",
    "# function to get predictions of trajectories, recursively\n",
    "def get_predictions(step_size, delta_t, temp_cycle, input_xy, velocity, n1, n2, n3, n4, n5, n6, n7, n8, n9, n_bound,\n",
    "                    n_group, n_centroid, estimated_dest):\n",
    "    dest_list = np.array(((-2, 5.8566027), (-6.5902743, 0.065724367), (-6.5553084, 11.867515), (15.10717, 5.5659299)))\n",
    "    step_size = step_size\n",
    "    delta_t = delta_t\n",
    "    temp_cycle = temp_cycle\n",
    "    predicted_trajs = []\n",
    "    real_trajs = []\n",
    "    force_pred = []\n",
    "    interpolate = True\n",
    "    my_goal = goal_estimator2(estimated_dest, input_xy)\n",
    "    # len(input_xy)\n",
    "    end_cycle = len(input_xy)\n",
    "    for p in range(0, end_cycle, step_size):\n",
    "        # print(\"timesteps: \", p)\n",
    "        start_cycle = temp_cycle + p\n",
    "        if (start_cycle + step_size) > end_cycle: \n",
    "            # print(\"i am here\")\n",
    "            continue\n",
    "\n",
    "        if (temp_cycle != 10):\n",
    "            if not interpolate:\n",
    "                temp_input5 = np.concatenate((np.zeros(14), input_xy[(start_cycle - temp_cycle):start_cycle].flatten()))\n",
    "                temp_input = torch.Tensor([temp_input5])\n",
    "            else:\n",
    "                temp_input_total = input_xy[(start_cycle - temp_cycle):start_cycle].flatten()\n",
    "                temp_input5 = input_interpolated(temp_input_total).flatten()\n",
    "                temp_input = torch.Tensor([temp_input5])\n",
    "        else: \n",
    "            temp_input = torch.Tensor([input_xy[(start_cycle - temp_cycle):start_cycle].flatten()])\n",
    "\n",
    "        temp_real = input_xy[(start_cycle):(start_cycle + step_size)]\n",
    "        # print((start_cycle - 10), start_cycle)\n",
    "        # print(start_cycle, (start_cycle + step_size))\n",
    "        real_trajs.append(temp_real)\n",
    "        prediction_list = []\n",
    "        next_position_list = []\n",
    "        # print(\"input: \", temp_input, \"\\n\")\n",
    "        for x in range(step_size):\n",
    "            if x == 0:\n",
    "                temp_input3 = temp_input\n",
    "            else: \n",
    "                if not interpolate:\n",
    "                    temp_input3 = torch.cat((temp_input[:, 2:], torch.Tensor(next_position)), axis=1)\n",
    "                    temp_input = temp_input3\n",
    "                else:\n",
    "                    temp_input_total = np.concatenate((temp_input_total[2:], next_position.flatten()))\n",
    "                    temp_input3 = input_interpolated(temp_input_total).flatten()\n",
    "                    temp_input3 = torch.Tensor([temp_input3])\n",
    "                    temp_input = temp_input3\n",
    "\n",
    "            temp_velocity = velocity[(start_cycle -1 + x)]\n",
    "            temp_goal = my_goal\n",
    "            temp_n1 = torch.Tensor([n1[start_cycle + x].flatten()])\n",
    "            temp_n2 = torch.Tensor([n2[start_cycle + x].flatten()])\n",
    "            temp_n3 = torch.Tensor([n3[start_cycle + x].flatten()])\n",
    "            temp_n4 = torch.Tensor([n4[start_cycle + x].flatten()])\n",
    "            temp_n5 = torch.Tensor([n5[start_cycle + x].flatten()])\n",
    "            temp_n6 = torch.Tensor([n6[start_cycle + x].flatten()])\n",
    "            temp_n7 = torch.Tensor([n7[start_cycle + x].flatten()])\n",
    "            temp_n8 = torch.Tensor([n8[start_cycle + x].flatten()])\n",
    "            temp_n9 = torch.Tensor([n9[start_cycle + x].flatten()])\n",
    "            temp_n_bound = torch.Tensor([n_bound[start_cycle + x].flatten()])\n",
    "            temp_n_group = torch.Tensor([n_group[start_cycle + x].flatten()])\n",
    "            temp_n_centroid = torch.Tensor([n_centroid[start_cycle + x].flatten()])\n",
    "\n",
    "            prediction1, next_position = predict_synthetic(net3_complete, delta_t, temp_velocity,  temp_input3, temp_goal, \n",
    "                                                           temp_n1, temp_n2, temp_n3, temp_n4, temp_n5, temp_n6, temp_n7, \n",
    "                                                           temp_n8, temp_n9, temp_n_bound, temp_n_group, temp_n_centroid)\n",
    "            prediction_list.append(prediction1)\n",
    "            next_position_list.append(next_position)\n",
    "\n",
    "\n",
    "        prediction_list = np.array(prediction_list)\n",
    "        next_position_list = np.array(next_position_list)\n",
    "        predicted_trajs.append(next_position_list)\n",
    "        force_pred.append(prediction_list)\n",
    "\n",
    "    predicted_trajs = np.array(predicted_trajs)\n",
    "    force_pred = np.array(force_pred)\n",
    "    real_trajs = np.array(real_trajs)\n",
    "\n",
    "    predicted_trajs_reshaped = np.reshape(predicted_trajs, (int((len(predicted_trajs.flatten())/2)), 2))\n",
    "    real_trajs_reshaped = np.reshape(real_trajs, (int((len(real_trajs.flatten())/2)), 2))\n",
    "    # print(real_trajs.shape)\n",
    "    # print(predicted_trajs.shape)\n",
    "\n",
    "    eucledian_temp_list = []\n",
    "    for k in range(0, len(predicted_trajs_reshaped), step_size):\n",
    "        eucledian_temp = get_eucledian(real_trajs_reshaped[0+k:12+k], predicted_trajs_reshaped[0+k:12+k])\n",
    "        # print(eucledian_temp)\n",
    "        eucledian_temp_list.append(eucledian_temp)\n",
    "    eucledian_temp_list = np.array(eucledian_temp_list)\n",
    "    final_eucledian_dist = np.mean(eucledian_temp_list)\n",
    "    final_disp = get_last_disp(real_trajs_reshaped, predicted_trajs_reshaped)\n",
    "\n",
    "    return final_eucledian_dist, final_disp"
   ]
  },
  {
   "cell_type": "code",
   "execution_count": 45,
   "metadata": {},
   "outputs": [
    {
     "name": "stdout",
     "output_type": "stream",
     "text": [
      "360\n",
      "46\n",
      "mean eucledian distance:  0.09619106 \n",
      "\n",
      "mean final displacement:  0.13880712 \n",
      "\n"
     ]
    }
   ],
   "source": [
    "ped_array = np.unique(np.array(test_df['ped_no']))\n",
    "eucledian_for_all = []\n",
    "displacement_for_all = []\n",
    "temp_count = 0\n",
    "temp_count2 = 0\n",
    "print(len(ped_array))\n",
    "for j in range(len(ped_array)):\n",
    "    # if j == 5: break\n",
    "    test_df_indiv = test_df.loc[test_df['ped_no'] == ped_array[j]]\n",
    "    \n",
    "    input_xy = np.array(test_df_indiv[[\"pos_x\", \"pos_y\"]]).astype('float32')\n",
    "    # print(\"pedestrian no: \", ped_array[j], \"\\n\")\n",
    "    if len(input_xy) < 15: \n",
    "        # print(\"length of input_xy\", len(input_xy), \"\\n\")\n",
    "        # print(\"skipped\")\n",
    "        temp_count2 += 1\n",
    "        continue\n",
    "\n",
    "    temp_neighbours = np.array(test_df_indiv[[\"d_w1\", \"d_w2\", \"d_w3\", \"d_w4\", \"d_w5\", \"d_w6\", \"d_w7\", \"d_w8\", \n",
    "                                              \"d_w9\", \"d_w10\", \"d_w11\", \"d_w12\", \"d_w13\", \"d_w14\", \"d_w15\", \n",
    "                                              \"d_w16\", \"d_w17\", \"d_w18\", \"d_w19\", \"d_w20\", \"d_w21\", \"d_w22\", \n",
    "                                              \"d_w23\", \"d_w24\", \"d_w25\", \"d_w26\"]]).astype('float32')\n",
    "    neighbour_test = temp_neighbours[0]\n",
    "\n",
    "    if len(neighbour_test[np.nonzero(neighbour_test)]) > 9:\n",
    "        temp_count += 1\n",
    "        # print(\"we are here\")\n",
    "        dw_list, nw_x_list, nw_y_list = nearest_neighbour_finder(temp_neighbours)\n",
    "        # print(dw_list)\n",
    "\n",
    "        n1 = np.array(test_df_indiv[[dw_list[0], nw_x_list[0], nw_y_list[0]]]).astype('float32')\n",
    "        n2 = np.array(test_df_indiv[[dw_list[1], nw_x_list[1], nw_y_list[1]]]).astype('float32')\n",
    "        n3 = np.array(test_df_indiv[[dw_list[2], nw_x_list[2], nw_y_list[2]]]).astype('float32')\n",
    "        n4 = np.array(test_df_indiv[[dw_list[3], nw_x_list[3], nw_y_list[3]]]).astype('float32')\n",
    "        n5 = np.array(test_df_indiv[[dw_list[4], nw_x_list[4], nw_y_list[4]]]).astype('float32')\n",
    "        n6 = np.array(test_df_indiv[[dw_list[5], nw_x_list[5], nw_y_list[5]]]).astype('float32')\n",
    "        n7 = np.array(test_df_indiv[[dw_list[6], nw_x_list[6], nw_y_list[6]]]).astype('float32')\n",
    "        n8 = np.array(test_df_indiv[[dw_list[7], nw_x_list[7], nw_y_list[7]]]).astype('float32')\n",
    "        n9 = np.array(test_df_indiv[[dw_list[8], nw_x_list[8], nw_y_list[8]]]).astype('float32')\n",
    "    else:\n",
    "        n1 = np.array(test_df_indiv[[\"d_w1\", \"n_w_x1\", \"n_w_y1\"]]).astype('float32')\n",
    "        n2 = np.array(test_df_indiv[[\"d_w2\", \"n_w_x2\", \"n_w_y2\"]]).astype('float32')\n",
    "        n3 = np.array(test_df_indiv[[\"d_w3\", \"n_w_x3\", \"n_w_y3\"]]).astype('float32')\n",
    "        n4 = np.array(test_df_indiv[[\"d_w4\", \"n_w_x4\", \"n_w_y4\"]]).astype('float32')\n",
    "        n5 = np.array(test_df_indiv[[\"d_w5\", \"n_w_x5\", \"n_w_y5\"]]).astype('float32')\n",
    "        n6 = np.array(test_df_indiv[[\"d_w6\", \"n_w_x6\", \"n_w_y6\"]]).astype('float32')\n",
    "        n7 = np.array(test_df_indiv[[\"d_w7\", \"n_w_x7\", \"n_w_y7\"]]).astype('float32')\n",
    "        n8 = np.array(test_df_indiv[[\"d_w8\", \"n_w_x8\", \"n_w_y8\"]]).astype('float32')\n",
    "        n9 = np.array(test_df_indiv[[\"d_w9\", \"n_w_x9\", \"n_w_y9\"]]).astype('float32')\n",
    "\n",
    "    input_xy = np.array(test_df_indiv[[\"pos_x\", \"pos_y\"]]).astype('float32')\n",
    "\n",
    "    n_bound = np.array(test_df_indiv[[\"d_w_bound\", \"n_w_bound_x\", \"n_w_bound_y\"]]).astype('float32')\n",
    "    # n_group = np.array(test_df_indiv[[\"centroid_dist\", \"rotation_angle\"]]).astype('float32')\n",
    "    n_group = np.array(test_df_indiv[\"rotation_angle\"]).astype('float32')\n",
    "    n_centroid = np.array(test_df_indiv[[\"eta_group_x\", \"eta_group_y\"]]).astype('float32')\n",
    "\n",
    "    velocity = np.array(test_df_indiv[[\"vel_x\", \"vel_y\"]]).astype('float32')\n",
    "\n",
    "    step_size = 12\n",
    "    delta_t = 0.4\n",
    "    temp_cycle = 3\n",
    "    estimated_destination = estimated_dest_list[j]\n",
    "    # print(estimated_destination)\n",
    "    # temp_clcle = the cycle from where the prediction actually stats\n",
    "    # input_xy, velocity, n1, n2, n3, n4, n5, n6, n7, n8, n9, n_bound, n_group\n",
    "\n",
    "    eucleid, disp = get_predictions(step_size, delta_t, temp_cycle, input_xy, velocity, n1, n2, n3, n4, n5, n6, \n",
    "                                    n7, n8, n9, n_bound, n_group, n_centroid, estimated_dest=estimated_destination)\n",
    "    # print(eucleid, disp)\n",
    "    \n",
    "    if not math.isnan(eucleid):\n",
    "        eucledian_for_all.append(eucleid)\n",
    "        displacement_for_all.append(disp)\n",
    "\n",
    "eucledian_for_all = np.array(eucledian_for_all)\n",
    "displacement_for_all = np.array(displacement_for_all)\n",
    "\n",
    "print(temp_count2)\n",
    "print(\"mean eucledian distance: \", np.mean(eucledian_for_all), \"\\n\")\n",
    "print(\"mean final displacement: \", np.mean(displacement_for_all), \"\\n\")\n",
    "        # print(\"pedestrian no: \", ped_array[j], \"\\n\")\n",
    "    # if not math.isnan()\n",
    "        "
   ]
  },
  {
   "cell_type": "code",
   "execution_count": null,
   "metadata": {},
   "outputs": [],
   "source": [
    "eucledian_distance = get_eucledian(real_trajs_reshaped, predicted_trajs_reshaped)\n",
    "\n",
    "last_displacement = get_last_disp(real_trajs_reshaped, predicted_trajs_reshaped)\n",
    "print(\"eucledian distance: \", eucledian_distance)\n",
    "print(\"last displacement: \", last_displacement)"
   ]
  },
  {
   "cell_type": "code",
   "execution_count": null,
   "metadata": {},
   "outputs": [],
   "source": [
    "# mean eucledian distance:  0.61246943 \n",
    "\n",
    "# mean final displacement:  1.2114174 \n"
   ]
  },
  {
   "cell_type": "code",
   "execution_count": 496,
   "metadata": {},
   "outputs": [
    {
     "name": "stdout",
     "output_type": "stream",
     "text": [
      "eucledian distance:  0.98691934\n",
      "last displacement:  1.2742083\n"
     ]
    }
   ],
   "source": [
    "# for one cycle only\n",
    "eucledian_distance = get_eucledian(real_trajs_reshaped[:12], predicted_trajs_reshaped[:12])\n",
    "last_displacement = get_last_disp(real_trajs_reshaped[:12], predicted_trajs_reshaped[:12])\n",
    "print(\"eucledian distance: \", eucledian_distance)\n",
    "print(\"last displacement: \", last_displacement)"
   ]
  }
 ],
 "metadata": {
  "kernelspec": {
   "display_name": "Python 3 (ipykernel)",
   "language": "python",
   "name": "python3"
  },
  "language_info": {
   "codemirror_mode": {
    "name": "ipython",
    "version": 3
   },
   "file_extension": ".py",
   "mimetype": "text/x-python",
   "name": "python",
   "nbconvert_exporter": "python",
   "pygments_lexer": "ipython3",
   "version": "3.7.1"
  }
 },
 "nbformat": 4,
 "nbformat_minor": 4
}
