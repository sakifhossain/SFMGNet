{
 "cells": [
  {
   "cell_type": "code",
   "execution_count": 75,
   "metadata": {},
   "outputs": [],
   "source": [
    "import torch\n",
    "import torch.nn as nn\n",
    "import torch.nn.functional as F\n",
    "import pandas as pd\n",
    "import numpy as np\n",
    "import torch.utils.data as data_utils\n",
    "import torch.optim as optim\n",
    "import matplotlib.pyplot as plt\n",
    "from torch.utils.data import Dataset\n",
    "from scipy.spatial import distance\n",
    "from sklearn.metrics import mean_squared_error"
   ]
  },
  {
   "cell_type": "code",
   "execution_count": 76,
   "metadata": {},
   "outputs": [],
   "source": [
    "import my_models as my_models"
   ]
  },
  {
   "cell_type": "code",
   "execution_count": 77,
   "metadata": {},
   "outputs": [],
   "source": [
    "net3_ped1 = my_models.Net3_ped1()\n",
    "net3_ped2 = my_models.Net3_ped2()\n",
    "net3_ped3 = my_models.Net3_ped3()\n",
    "net3_ped4 = my_models.Net3_ped4()\n",
    "net3_ped5 = my_models.Net3_ped5()\n",
    "net3_ped6 = my_models.Net3_ped6()\n",
    "net3_ped7 = my_models.Net3_ped7()\n",
    "net3_ped8 = my_models.Net3_ped8()\n",
    "net3_ped9 = my_models.Net3_ped9()\n",
    "# print(net3_ped2)"
   ]
  },
  {
   "cell_type": "code",
   "execution_count": 78,
   "metadata": {},
   "outputs": [],
   "source": [
    "net3_ped_repulse_total = my_models.Net3_ped_repulse_total(net3_ped1, net3_ped2, net3_ped3, net3_ped4, net3_ped5,\n",
    "                                                net3_ped6, net3_ped7, net3_ped8, net3_ped9)\n",
    "# print(net3_ped_repulse_total)"
   ]
  },
  {
   "cell_type": "code",
   "execution_count": 79,
   "metadata": {},
   "outputs": [],
   "source": [
    "net3_attract = my_models.Net3_attract()\n",
    "# print(net3_attract)"
   ]
  },
  {
   "cell_type": "code",
   "execution_count": 80,
   "metadata": {},
   "outputs": [],
   "source": [
    "net3_repulse = my_models.Net3_repulse()\n",
    "# print(net3_repulse)"
   ]
  },
  {
   "cell_type": "code",
   "execution_count": 81,
   "metadata": {},
   "outputs": [],
   "source": [
    "net3_ped_group = my_models.Net3_ped_group()\n",
    "# print(net3_ped_group)"
   ]
  },
  {
   "cell_type": "code",
   "execution_count": 82,
   "metadata": {},
   "outputs": [],
   "source": [
    "path_ped_repulse = \"weights/Net3_ped_repulse_total.pth\"\n",
    "path_attract = \"weights/net3_attract.pth\"\n",
    "path_repulse = \"weights/net3_repulse.pth\"\n",
    "path_group = \"weights/net3_ped_group.pth\""
   ]
  },
  {
   "cell_type": "code",
   "execution_count": 83,
   "metadata": {},
   "outputs": [
    {
     "data": {
      "text/plain": [
       "<All keys matched successfully>"
      ]
     },
     "execution_count": 83,
     "metadata": {},
     "output_type": "execute_result"
    }
   ],
   "source": [
    "net3_ped_repulse_total.load_state_dict(torch.load(path_ped_repulse))\n",
    "net3_attract.load_state_dict(torch.load(path_attract))\n",
    "net3_repulse.load_state_dict(torch.load(path_repulse))\n",
    "net3_ped_group.load_state_dict(torch.load(path_group))"
   ]
  },
  {
   "cell_type": "code",
   "execution_count": 84,
   "metadata": {},
   "outputs": [],
   "source": [
    "net3_complete = my_models.Net3_complete(net3_attract, net3_repulse, net3_ped_repulse_total, net3_ped_group)\n",
    "# print(net3_complete)"
   ]
  },
  {
   "cell_type": "code",
   "execution_count": 85,
   "metadata": {},
   "outputs": [],
   "source": [
    "path_net3_complete = \"weights/net3_complete2.pth\""
   ]
  },
  {
   "cell_type": "code",
   "execution_count": 86,
   "metadata": {},
   "outputs": [
    {
     "data": {
      "text/plain": [
       "<All keys matched successfully>"
      ]
     },
     "execution_count": 86,
     "metadata": {},
     "output_type": "execute_result"
    }
   ],
   "source": [
    "net3_complete.load_state_dict(torch.load(path_net3_complete))"
   ]
  },
  {
   "cell_type": "code",
   "execution_count": 87,
   "metadata": {},
   "outputs": [
    {
     "data": {
      "text/plain": [
       "<All keys matched successfully>"
      ]
     },
     "execution_count": 87,
     "metadata": {},
     "output_type": "execute_result"
    }
   ],
   "source": [
    "net3_a_rb = my_models.Net3_a_rb(net3_attract, net3_repulse)\n",
    "path_net3_a_rb = \"weights/net3_a_rb.pth\"\n",
    "net3_a_rb.load_state_dict(torch.load(path_net3_a_rb))"
   ]
  },
  {
   "cell_type": "code",
   "execution_count": 88,
   "metadata": {},
   "outputs": [
    {
     "data": {
      "text/plain": [
       "<All keys matched successfully>"
      ]
     },
     "execution_count": 88,
     "metadata": {},
     "output_type": "execute_result"
    }
   ],
   "source": [
    "net3_a_rb_rp = my_models.Net3_a_rb_rp(net3_attract, net3_repulse, net3_ped_repulse_total)\n",
    "path_net3_a_rb_rp = \"weights/net3_a_rb_rp.pth\"\n",
    "net3_a_rb_rp.load_state_dict(torch.load(path_net3_a_rb_rp))"
   ]
  },
  {
   "cell_type": "code",
   "execution_count": 89,
   "metadata": {},
   "outputs": [],
   "source": [
    "from scipy.interpolate import interp1d\n",
    "\n",
    "def input_interpolated(temp_xy):\n",
    "    # takes the 3 timesteps of inputs and rescales it into 10 timesteps\n",
    "    # returns as (10, 2)\n",
    "    # print(\"input to the interpolator: \",temp_xy)\n",
    "    temp_x = np.array((temp_xy[0], temp_xy[2], temp_xy[4]))\n",
    "    temp_y = np.array((temp_xy[1], temp_xy[3], temp_xy[5]))\n",
    "    x_total = []\n",
    "    y_total = []\n",
    "    for p in range(2):\n",
    "        x = temp_x[0+p:2+p]\n",
    "        y = temp_y[0+p:2+p]\n",
    "        if (x[0] == x[-1] and y[0] == y[-1]):\n",
    "            # if both x values are same, we do this to avoid nan given by interp1d\n",
    "            x_new = np.linspace(x[0], x[-1], num=5)\n",
    "            y_new = np.linspace(y[0], y[-1], num=5)\n",
    "        else:            \n",
    "            f2 = interp1d(x, y)\n",
    "            x_new = np.linspace(x[0], x[-1], num=5)\n",
    "            \n",
    "            y_new = f2(x_new)\n",
    "        x_total.append(x_new)\n",
    "        y_total.append(y_new)\n",
    "    x_total = np.array(x_total)\n",
    "    x_total = x_total.flatten()\n",
    "    y_total = np.array(y_total)\n",
    "    y_total = y_total.flatten()\n",
    "    xy_input = []\n",
    "    for p in range(len(x_total)):\n",
    "        temp_array = [x_total[p], y_total[p]]\n",
    "        xy_input.append(temp_array)\n",
    "    xy_input = np.array(xy_input)\n",
    "    return xy_input"
   ]
  },
  {
   "cell_type": "code",
   "execution_count": 92,
   "metadata": {},
   "outputs": [],
   "source": [
    "# with group changes\n",
    "test_df_path = \"data/test_data/uni_examples_data_prepared_normal3.csv\""
   ]
  },
  {
   "cell_type": "code",
   "execution_count": 93,
   "metadata": {},
   "outputs": [],
   "source": [
    "test_df = pd.read_csv(test_df_path, index_col=None)"
   ]
  },
  {
   "cell_type": "code",
   "execution_count": 94,
   "metadata": {
    "scrolled": true
   },
   "outputs": [
    {
     "data": {
      "text/html": [
       "<div>\n",
       "<style scoped>\n",
       "    .dataframe tbody tr th:only-of-type {\n",
       "        vertical-align: middle;\n",
       "    }\n",
       "\n",
       "    .dataframe tbody tr th {\n",
       "        vertical-align: top;\n",
       "    }\n",
       "\n",
       "    .dataframe thead th {\n",
       "        text-align: right;\n",
       "    }\n",
       "</style>\n",
       "<table border=\"1\" class=\"dataframe\">\n",
       "  <thead>\n",
       "    <tr style=\"text-align: right;\">\n",
       "      <th></th>\n",
       "      <th>frame_id</th>\n",
       "      <th>ped_no</th>\n",
       "      <th>pos_x</th>\n",
       "      <th>pos_y</th>\n",
       "      <th>scene_id</th>\n",
       "      <th>vel_x</th>\n",
       "      <th>vel_y</th>\n",
       "      <th>rotation_angle</th>\n",
       "      <th>eta_group_x</th>\n",
       "      <th>eta_group_y</th>\n",
       "      <th>...</th>\n",
       "      <th>n_w_y2</th>\n",
       "      <th>n_w_y3</th>\n",
       "      <th>n_w_y4</th>\n",
       "      <th>n_w_y5</th>\n",
       "      <th>n_w_y6</th>\n",
       "      <th>n_w_y7</th>\n",
       "      <th>n_w_y8</th>\n",
       "      <th>d_w_bound</th>\n",
       "      <th>n_w_bound_x</th>\n",
       "      <th>n_w_bound_y</th>\n",
       "    </tr>\n",
       "  </thead>\n",
       "  <tbody>\n",
       "    <tr>\n",
       "      <th>0</th>\n",
       "      <td>10</td>\n",
       "      <td>0</td>\n",
       "      <td>-26.677220</td>\n",
       "      <td>-11.602686</td>\n",
       "      <td>0</td>\n",
       "      <td>7.458618</td>\n",
       "      <td>0.651785</td>\n",
       "      <td>0.0</td>\n",
       "      <td>0.0</td>\n",
       "      <td>0.0</td>\n",
       "      <td>...</td>\n",
       "      <td>0.0</td>\n",
       "      <td>0.0</td>\n",
       "      <td>0.0</td>\n",
       "      <td>0.0</td>\n",
       "      <td>0.0</td>\n",
       "      <td>0.0</td>\n",
       "      <td>0.0</td>\n",
       "      <td>29.091173</td>\n",
       "      <td>-0.917021</td>\n",
       "      <td>-0.398839</td>\n",
       "    </tr>\n",
       "    <tr>\n",
       "      <th>1</th>\n",
       "      <td>20</td>\n",
       "      <td>0</td>\n",
       "      <td>-23.693773</td>\n",
       "      <td>-11.341972</td>\n",
       "      <td>0</td>\n",
       "      <td>7.458618</td>\n",
       "      <td>0.651785</td>\n",
       "      <td>0.0</td>\n",
       "      <td>0.0</td>\n",
       "      <td>0.0</td>\n",
       "      <td>...</td>\n",
       "      <td>0.0</td>\n",
       "      <td>0.0</td>\n",
       "      <td>0.0</td>\n",
       "      <td>0.0</td>\n",
       "      <td>0.0</td>\n",
       "      <td>0.0</td>\n",
       "      <td>0.0</td>\n",
       "      <td>26.268522</td>\n",
       "      <td>-0.901984</td>\n",
       "      <td>-0.431770</td>\n",
       "    </tr>\n",
       "    <tr>\n",
       "      <th>2</th>\n",
       "      <td>20</td>\n",
       "      <td>1</td>\n",
       "      <td>-26.507906</td>\n",
       "      <td>-8.291869</td>\n",
       "      <td>0</td>\n",
       "      <td>7.947069</td>\n",
       "      <td>0.738351</td>\n",
       "      <td>0.0</td>\n",
       "      <td>0.0</td>\n",
       "      <td>0.0</td>\n",
       "      <td>...</td>\n",
       "      <td>0.0</td>\n",
       "      <td>0.0</td>\n",
       "      <td>0.0</td>\n",
       "      <td>0.0</td>\n",
       "      <td>0.0</td>\n",
       "      <td>0.0</td>\n",
       "      <td>0.0</td>\n",
       "      <td>23.716202</td>\n",
       "      <td>-0.883446</td>\n",
       "      <td>-0.468532</td>\n",
       "    </tr>\n",
       "    <tr>\n",
       "      <th>3</th>\n",
       "      <td>30</td>\n",
       "      <td>0</td>\n",
       "      <td>-20.951992</td>\n",
       "      <td>-11.111809</td>\n",
       "      <td>0</td>\n",
       "      <td>6.854453</td>\n",
       "      <td>0.575408</td>\n",
       "      <td>0.0</td>\n",
       "      <td>0.0</td>\n",
       "      <td>0.0</td>\n",
       "      <td>...</td>\n",
       "      <td>0.0</td>\n",
       "      <td>0.0</td>\n",
       "      <td>0.0</td>\n",
       "      <td>0.0</td>\n",
       "      <td>0.0</td>\n",
       "      <td>0.0</td>\n",
       "      <td>0.0</td>\n",
       "      <td>21.548903</td>\n",
       "      <td>-0.861887</td>\n",
       "      <td>-0.507101</td>\n",
       "    </tr>\n",
       "    <tr>\n",
       "      <th>4</th>\n",
       "      <td>30</td>\n",
       "      <td>1</td>\n",
       "      <td>-23.329078</td>\n",
       "      <td>-7.996528</td>\n",
       "      <td>0</td>\n",
       "      <td>7.947069</td>\n",
       "      <td>0.738351</td>\n",
       "      <td>0.0</td>\n",
       "      <td>0.0</td>\n",
       "      <td>0.0</td>\n",
       "      <td>...</td>\n",
       "      <td>0.0</td>\n",
       "      <td>0.0</td>\n",
       "      <td>0.0</td>\n",
       "      <td>0.0</td>\n",
       "      <td>0.0</td>\n",
       "      <td>0.0</td>\n",
       "      <td>0.0</td>\n",
       "      <td>19.433014</td>\n",
       "      <td>-0.833295</td>\n",
       "      <td>-0.552829</td>\n",
       "    </tr>\n",
       "  </tbody>\n",
       "</table>\n",
       "<p>5 rows × 55 columns</p>\n",
       "</div>"
      ],
      "text/plain": [
       "   frame_id  ped_no      pos_x      pos_y  scene_id     vel_x     vel_y  \\\n",
       "0        10       0 -26.677220 -11.602686         0  7.458618  0.651785   \n",
       "1        20       0 -23.693773 -11.341972         0  7.458618  0.651785   \n",
       "2        20       1 -26.507906  -8.291869         0  7.947069  0.738351   \n",
       "3        30       0 -20.951992 -11.111809         0  6.854453  0.575408   \n",
       "4        30       1 -23.329078  -7.996528         0  7.947069  0.738351   \n",
       "\n",
       "   rotation_angle  eta_group_x  eta_group_y  ...  n_w_y2  n_w_y3  n_w_y4  \\\n",
       "0             0.0          0.0          0.0  ...     0.0     0.0     0.0   \n",
       "1             0.0          0.0          0.0  ...     0.0     0.0     0.0   \n",
       "2             0.0          0.0          0.0  ...     0.0     0.0     0.0   \n",
       "3             0.0          0.0          0.0  ...     0.0     0.0     0.0   \n",
       "4             0.0          0.0          0.0  ...     0.0     0.0     0.0   \n",
       "\n",
       "   n_w_y5  n_w_y6  n_w_y7  n_w_y8  d_w_bound  n_w_bound_x  n_w_bound_y  \n",
       "0     0.0     0.0     0.0     0.0  29.091173    -0.917021    -0.398839  \n",
       "1     0.0     0.0     0.0     0.0  26.268522    -0.901984    -0.431770  \n",
       "2     0.0     0.0     0.0     0.0  23.716202    -0.883446    -0.468532  \n",
       "3     0.0     0.0     0.0     0.0  21.548903    -0.861887    -0.507101  \n",
       "4     0.0     0.0     0.0     0.0  19.433014    -0.833295    -0.552829  \n",
       "\n",
       "[5 rows x 55 columns]"
      ]
     },
     "execution_count": 94,
     "metadata": {},
     "output_type": "execute_result"
    }
   ],
   "source": [
    "test_df.head()"
   ]
  },
  {
   "cell_type": "code",
   "execution_count": 95,
   "metadata": {},
   "outputs": [],
   "source": [
    "from collections import Counter"
   ]
  },
  {
   "cell_type": "code",
   "execution_count": 96,
   "metadata": {},
   "outputs": [],
   "source": [
    "tempppp = Counter(np.array(test_df['ped_no']))\n",
    "# tempppp\n",
    "# 171"
   ]
  },
  {
   "cell_type": "code",
   "execution_count": 100,
   "metadata": {},
   "outputs": [],
   "source": [
    "from matplotlib import pyplot as plt"
   ]
  },
  {
   "cell_type": "code",
   "execution_count": 105,
   "metadata": {},
   "outputs": [],
   "source": [
    "# concatinating (0, 19) == trajectories, [20, 21] == [e_x, e_y] ,[22, 23, 24] == [dw1, nw_x1, nw_y1], \n",
    "        # [25, 26, 27] == [dw2, nw_x2, nw_y2], [28, 29, 30] == [dw3, nw_x3, nw_y3], [31, 32, 33] == [dw4, nw_x4, nw_y4]\n",
    "        # [34, 35, 36] == [dw5, nw_x5, nw_y5], [37, 38, 39] == [dw6, nw_x6, nw_y6], [40, 41, 42] == [dw7, nw_x7, nw_y7]\n",
    "        # [43, 44, 45] == [dw8, nw_x8, nw_y8], [46, 47, 48] == [dw9, nw_x9, nw_y9]\n",
    "        # [49, 50, 51] == [dw_b, nw_x_b, nw_y_b], [52, 53] == [centroid, angle]\n",
    "        #  e, x_attract1, x_attract2, x_bound, x1, x2, x3, x4, x5, x6, x7, x8, x9, x_group, x_speed"
   ]
  },
  {
   "cell_type": "code",
   "execution_count": 106,
   "metadata": {},
   "outputs": [],
   "source": [
    "# torch.cat((temp_input2, temp_input), axis=1)"
   ]
  },
  {
   "cell_type": "code",
   "execution_count": 107,
   "metadata": {},
   "outputs": [],
   "source": [
    "def speed_finder(positions):\n",
    "    # temp_seq = np.reshape(positions, (10, 2))\n",
    "    positions = positions.view((10, 2))\n",
    "    # print(positions)\n",
    "    temp_array = []\n",
    "    # global goal\n",
    "    for k in reversed(range(10)):\n",
    "        # print(k)\n",
    "        temp_positions = positions[k] - positions[k - 1]\n",
    "        temp_positions = torch.norm(temp_positions)\n",
    "        temp_array.insert(0, temp_positions)\n",
    "    return torch.Tensor([temp_array])"
   ]
  },
  {
   "cell_type": "code",
   "execution_count": 108,
   "metadata": {},
   "outputs": [],
   "source": [
    "import math"
   ]
  },
  {
   "cell_type": "code",
   "execution_count": 109,
   "metadata": {},
   "outputs": [],
   "source": [
    "# make a class prediction for one row of data\n",
    "# give previous velocity directly here\n",
    "#  e, x_attract1, x_attract2, x_bound, x1, x2, x3, x4, x5, x6, x7, x8, x9, x_group, x_speed\n",
    "def predict_synthetic(model, delta_t, last_velocity, temp_input, temp_goal, temp_n1, temp_n2, temp_n3, temp_n4, temp_n5,\n",
    "                      temp_n6, temp_n7, temp_n8, temp_n9, temp_n_bound, temp_n_group, temp_n_centroid, indicator):\n",
    "\n",
    "    previous_velocity = last_velocity\n",
    "    previous_speed = np.linalg.norm(previous_velocity)\n",
    "    temp_input2 = temp_input - temp_input[:, 0]\n",
    "    temp_input_1 = speed_finder(temp_input2)/delta_t\n",
    "    x_speed = temp_input_1[:, -1:]\n",
    "    # make prediction\n",
    "    # yhat = net3_complete(goal2, x_attract1, x_attract2, x_bound, x1, x2, x3, x4, x5, x6, x7, x8, x9, x_group, x_speed)\n",
    "    if indicator == 0: \n",
    "        # for net3_complete\n",
    "        yhat = model(temp_goal, temp_input_1, temp_input2, temp_n_bound, temp_n1, temp_n2, temp_n3, temp_n4, temp_n5, \n",
    "                     temp_n6, temp_n7, temp_n8, temp_n9, temp_n_group, temp_n_centroid)\n",
    "    elif indicator == 1:\n",
    "        # for model with attract and repulse from obstacle\n",
    "        yhat = model(temp_goal, temp_input_1, temp_input2, temp_n_bound)\n",
    "    elif indicator == 2:\n",
    "        # for model with attract, repulse from obstacle and other peds\n",
    "        yhat = model(temp_goal, temp_input_1, temp_input2, temp_n_bound, temp_n1, temp_n2, temp_n3, temp_n4, temp_n5, \n",
    "                     temp_n6, temp_n7, temp_n8, temp_n9)\n",
    "    elif indicator == 3:\n",
    "        yhat = model(temp_input_1, temp_input2, temp_goal)\n",
    "        \n",
    "    \n",
    "    # retrieve numpy array\n",
    "    yhat = yhat.detach().numpy()\n",
    "    # that is actually not the desired velocity: try giving it directly\n",
    "\n",
    "    desired_velocity = previous_velocity + (yhat * delta_t)\n",
    "    desired_speed = np.linalg.norm(desired_velocity)\n",
    "    \n",
    "    # this section is to cap the velocity to a certain value\n",
    "    factor = np.minimum(1.0, (1.3 * previous_speed) / desired_speed)\n",
    "    # if factor != 1.0 : print(\"different factor\")\n",
    "    if desired_speed == 0:\n",
    "        factor = 0.0\n",
    "    # print(factor)\n",
    "    current_velocity = desired_velocity * factor\n",
    "    # print(\"current velocity: \", current_velocity, \"\\n\")\n",
    "    # print(\"current position: \", temp_input[0, -2:].detach().numpy(), \"\\n\")\n",
    "    next_position = temp_input[0, -2:].detach().numpy() + (current_velocity * delta_t)\n",
    "     \n",
    "    return yhat, next_position"
   ]
  },
  {
   "cell_type": "code",
   "execution_count": 110,
   "metadata": {},
   "outputs": [],
   "source": [
    "def nearest_neighbour_finder(temp_neighbours):\n",
    "    a = temp_neighbours[0]\n",
    "    b = np.argsort(a[np.nonzero(a)])[:9]\n",
    "    b = b + 1\n",
    "    label_dw = \"d_w\"\n",
    "    label_nw_x = \"n_w_x\"\n",
    "    label_nw_y = \"n_w_y\"\n",
    "    label_dw_list = []\n",
    "    label_nw_x_list = []\n",
    "    label_nw_y_list = []\n",
    "    for r in range(len(b)):\n",
    "        label_dw2 = label_dw + str(b[r])\n",
    "        label_nw_x2 = label_nw_x + str(b[r])\n",
    "        label_nw_y2 = label_nw_y + str(b[r])\n",
    "        label_dw_list.append(label_dw2)\n",
    "        label_nw_x_list.append(label_nw_x2)\n",
    "        label_nw_y_list.append(label_nw_y2)\n",
    "\n",
    "    label_dw_list = np.array(label_dw_list)\n",
    "    label_nw_x_list = np.array(label_nw_x_list)\n",
    "    label_nw_y_list = np.array(label_nw_y_list)\n",
    "    return label_dw_list, label_nw_x_list, label_nw_y_list"
   ]
  },
  {
   "cell_type": "code",
   "execution_count": 111,
   "metadata": {},
   "outputs": [],
   "source": [
    "def near_collision_finder(given_df, datset_type):\n",
    "    frame_id_array = np.unique(given_df['frame_id'])\n",
    "    cc_total = 0\n",
    "    interaction_total = 0\n",
    "    for k in range(len(frame_id_array)):\n",
    "        # print(k)\n",
    "        test_df_temp = given_df.loc[given_df['frame_id'] == frame_id_array[k]]\n",
    "        if datset_type == 'pred':\n",
    "            temp_pos_list = np.array(test_df_temp[['pred_x', 'pred_y']])\n",
    "        else:\n",
    "            temp_pos_list = np.array(test_df_temp[['pos_x', 'pos_y']])\n",
    "        if len(temp_pos_list) > 1:\n",
    "            temp_ec_list = np.zeros((1,))\n",
    "            for j in range(len(temp_pos_list) - 1):\n",
    "                temp_diff = np.diff(temp_pos_list[j:], axis=0)\n",
    "                temp_ec = np.linalg.norm(temp_diff, axis=1)\n",
    "                temp_ec_list = np.concatenate((temp_ec_list, temp_ec), axis=0)\n",
    "            cc_temp = np.count_nonzero(temp_ec_list[1:] <= 0.1)\n",
    "            # if cc_temp > 1:\n",
    "                # print(\"we got one\")\n",
    "            cc_total += cc_temp\n",
    "            interaction_temp = len(temp_ec_list[1:])\n",
    "            interaction_total += interaction_temp\n",
    "                # temp_xxx += len(np.diff(temp_pos_list[j:], axis=0))\n",
    "                # print(\"  \")\n",
    "    print(\"total collision: \", cc_total)\n",
    "    print(\"total interaction: \", interaction_total)\n",
    "    print((cc_total/interaction_total)*100)\n",
    "    return (cc_total/interaction_total)*100"
   ]
  },
  {
   "cell_type": "code",
   "execution_count": 112,
   "metadata": {},
   "outputs": [
    {
     "data": {
      "text/plain": [
       "array([-28.147572, -10.904099], dtype=float32)"
      ]
     },
     "execution_count": 112,
     "metadata": {},
     "output_type": "execute_result"
    }
   ],
   "source": [
    "input_xy[0]"
   ]
  },
  {
   "cell_type": "code",
   "execution_count": 39,
   "metadata": {},
   "outputs": [
    {
     "ename": "IndentationError",
     "evalue": "unexpected indent (Temp/ipykernel_7084/567829191.py, line 2)",
     "output_type": "error",
     "traceback": [
      "\u001b[1;36m  File \u001b[1;32m\"C:\\Users\\Sakif\\AppData\\Local\\Temp/ipykernel_7084/567829191.py\"\u001b[1;36m, line \u001b[1;32m2\u001b[0m\n\u001b[1;33m    -2.0000000e+00   1.0000000e+01\u001b[0m\n\u001b[1;37m    ^\u001b[0m\n\u001b[1;31mIndentationError\u001b[0m\u001b[1;31m:\u001b[0m unexpected indent\n"
     ]
    }
   ],
   "source": [
    " -2.0000000e+00  -1.5000000e+01\n",
    "  -2.0000000e+00   1.0000000e+01\n",
    "   1.0000000e+01   5.0000000e+00\n",
    "  -1.5000000e+01  -2.0000000e+00  "
   ]
  },
  {
   "cell_type": "code",
   "execution_count": 122,
   "metadata": {},
   "outputs": [],
   "source": [
    "def goal_estimator2(given_dest, input_xy):\n",
    "    goal_estimated = (given_dest - input_xy[0])/np.linalg.norm((given_dest - input_xy[0]))\n",
    "    goal_estimated = torch.Tensor([goal_estimated])\n",
    "    return goal_estimated"
   ]
  },
  {
   "cell_type": "code",
   "execution_count": 123,
   "metadata": {},
   "outputs": [
    {
     "data": {
      "text/plain": [
       "(118, 2)"
      ]
     },
     "execution_count": 123,
     "metadata": {},
     "output_type": "execute_result"
    }
   ],
   "source": [
    "dest_df = pd.read_csv(\"filter/uni_examples_estimated_dests1.csv\", index_col=0)\n",
    "estimated_dest_list = np.array(dest_df[[\"dest_x\", \"dest_y\"]])\n",
    "estimated_dest_list.shape"
   ]
  },
  {
   "cell_type": "code",
   "execution_count": 124,
   "metadata": {},
   "outputs": [
    {
     "data": {
      "text/plain": [
       "[[-27.075804, -13.135107],\n",
       " [1.1882029, -5.680166],\n",
       " [-9.848106, -7.7488523],\n",
       " [-29.269709, -6.0478654]]"
      ]
     },
     "execution_count": 124,
     "metadata": {},
     "output_type": "execute_result"
    }
   ],
   "source": [
    "[[-27.075804 , -13.135107 ],\n",
    "       [  1.1882029,  -5.680166 ],\n",
    "       [ -9.848106 ,  -7.7488523],\n",
    "       [-29.269709 ,  -6.0478654]]"
   ]
  },
  {
   "cell_type": "code",
   "execution_count": 125,
   "metadata": {},
   "outputs": [],
   "source": [
    "dest_list = np.array(((-27.075804, -13.135107), (1.1882029, -5.680166), (-9.848106, -7.7488523), (-29.269709, -6.0478654)))"
   ]
  },
  {
   "cell_type": "code",
   "execution_count": 129,
   "metadata": {},
   "outputs": [],
   "source": [
    "def get_last_disp(y_true, y_prediction):\n",
    "    last_disp = np.linalg.norm((y_true[-1, :] - y_prediction[-1, :]))\n",
    "    return last_disp\n",
    "\n",
    "def get_eucledian(true_values, predicted_values):\n",
    "    eucledian_v = np.linalg.norm((true_values - predicted_values), axis =1)\n",
    "    eucledian_v = np.mean(eucledian_v)\n",
    "    return eucledian_v"
   ]
  },
  {
   "cell_type": "code",
   "execution_count": 130,
   "metadata": {},
   "outputs": [],
   "source": [
    "# to predict all the trajectories, 0.1 seconds of prediction at a time\n",
    "# input of one seconds\n",
    "# next step: make it into a function\n",
    "# function to get predictions of trajectories, recursively\n",
    "def get_predictions(step_size, delta_t, temp_cycle, input_xy, velocity, n1, n2, n3, n4, n5, n6, n7, n8, n9, n_bound,\n",
    "                    n_group, n_centroid, estimated_dest, indicator):\n",
    "    # dest_list = np.array(((-2, 5.8566027), (-6.5902743, 0.065724367), (-6.5553084, 11.867515), (15.10717, 5.5659299)))\n",
    "    step_size = step_size\n",
    "    delta_t = delta_t\n",
    "    temp_cycle = temp_cycle\n",
    "    predicted_trajs = []\n",
    "    real_trajs = []\n",
    "    force_pred = []\n",
    "    indicator2 = indicator\n",
    "    interpolate = True\n",
    "    my_goal = goal_estimator2(estimated_dest, input_xy)\n",
    "    # len(input_xy)\n",
    "    end_cycle = len(input_xy)\n",
    "    for p in range(5, end_cycle, step_size):\n",
    "        start_cycle = temp_cycle + p\n",
    "        if (start_cycle + step_size) > end_cycle: \n",
    "            continue\n",
    "\n",
    "        if (temp_cycle != 10):\n",
    "            if not interpolate:\n",
    "                temp_input5 = np.concatenate((np.zeros(14), input_xy[(start_cycle - temp_cycle):start_cycle].flatten()))\n",
    "                temp_input = torch.Tensor([temp_input5])\n",
    "            else:\n",
    "                temp_input_total = input_xy[(start_cycle - temp_cycle):start_cycle].flatten()\n",
    "                temp_input5 = input_interpolated(temp_input_total).flatten()\n",
    "                temp_input = torch.Tensor([temp_input5])\n",
    "        else: \n",
    "            temp_input = torch.Tensor([input_xy[(start_cycle - temp_cycle):start_cycle].flatten()])\n",
    "\n",
    "        temp_real = input_xy[(start_cycle):(start_cycle + step_size)]\n",
    "        real_trajs.append(temp_real)\n",
    "        prediction_list = []\n",
    "        next_position_list = []\n",
    "        for x in range(step_size):\n",
    "            if x == 0:\n",
    "                temp_input3 = temp_input\n",
    "            else: \n",
    "                if not interpolate:\n",
    "                    temp_input3 = torch.cat((temp_input[:, 2:], torch.Tensor(next_position)), axis=1)\n",
    "                    temp_input = temp_input3\n",
    "                else:\n",
    "                    temp_input_total = np.concatenate((temp_input_total[2:], next_position.flatten()))\n",
    "                    temp_input3 = input_interpolated(temp_input_total).flatten()\n",
    "                    temp_input3 = torch.Tensor([temp_input3])\n",
    "                    temp_input = temp_input3\n",
    "\n",
    "            temp_velocity = velocity[(start_cycle -1 + x)]\n",
    "            temp_goal = my_goal\n",
    "            temp_n1 = torch.Tensor([n1[start_cycle + x].flatten()])\n",
    "            temp_n2 = torch.Tensor([n2[start_cycle + x].flatten()])\n",
    "            temp_n3 = torch.Tensor([n3[start_cycle + x].flatten()])\n",
    "            temp_n4 = torch.Tensor([n4[start_cycle + x].flatten()])\n",
    "            temp_n5 = torch.Tensor([n5[start_cycle + x].flatten()])\n",
    "            temp_n6 = torch.Tensor([n6[start_cycle + x].flatten()])\n",
    "            temp_n7 = torch.Tensor([n7[start_cycle + x].flatten()])\n",
    "            temp_n8 = torch.Tensor([n8[start_cycle + x].flatten()])\n",
    "            temp_n9 = torch.Tensor([n9[start_cycle + x].flatten()])\n",
    "            temp_n_bound = torch.Tensor([n_bound[start_cycle + x].flatten()])\n",
    "            temp_n_group = torch.Tensor([n_group[start_cycle + x].flatten()])\n",
    "            temp_n_centroid = torch.Tensor([n_centroid[start_cycle + x].flatten()])\n",
    "            \n",
    "            temp_model = net3_complete\n",
    "            # print(indicator2)\n",
    "            \n",
    "            if indicator2 == 0:\n",
    "                prediction1, next_position = predict_synthetic(net3_complete, delta_t, temp_velocity,  temp_input3, temp_goal, \n",
    "                                                           temp_n1, temp_n2, temp_n3, temp_n4, temp_n5, temp_n6, temp_n7, \n",
    "                                                           temp_n8, temp_n9, temp_n_bound, temp_n_group, temp_n_centroid,\n",
    "                                                           indicator2)\n",
    "            elif indicator2 == 1:\n",
    "                # print(\"we are here\")\n",
    "                prediction1, next_position = predict_synthetic(net3_a_rb, delta_t, temp_velocity,  temp_input3, temp_goal, \n",
    "                                                           temp_n1, temp_n2, temp_n3, temp_n4, temp_n5, temp_n6, temp_n7, \n",
    "                                                           temp_n8, temp_n9, temp_n_bound, temp_n_group, temp_n_centroid,\n",
    "                                                           indicator2)\n",
    "            elif indicator2 == 2:\n",
    "                prediction1, next_position = predict_synthetic(net3_a_rb_rp, delta_t, temp_velocity,  temp_input3, temp_goal, \n",
    "                                                           temp_n1, temp_n2, temp_n3, temp_n4, temp_n5, temp_n6, temp_n7, \n",
    "                                                           temp_n8, temp_n9, temp_n_bound, temp_n_group, temp_n_centroid,\n",
    "                                                           indicator2)\n",
    "                \n",
    "            elif indicator2 == 3: \n",
    "                prediction1, next_position = predict_synthetic(net3_attract, delta_t, temp_velocity,  temp_input3, temp_goal, \n",
    "                                                           temp_n1, temp_n2, temp_n3, temp_n4, temp_n5, temp_n6, temp_n7, \n",
    "                                                           temp_n8, temp_n9, temp_n_bound, temp_n_group, temp_n_centroid,\n",
    "                                                           indicator2)\n",
    "            else:\n",
    "                pass\n",
    "            # print(temp_model)\n",
    "\n",
    "            prediction_list.append(prediction1)\n",
    "            next_position_list.append(next_position)\n",
    "\n",
    "\n",
    "        prediction_list = np.array(prediction_list)\n",
    "        next_position_list = np.array(next_position_list)\n",
    "        predicted_trajs.append(next_position_list)\n",
    "        force_pred.append(prediction_list)\n",
    "\n",
    "    predicted_trajs = np.array(predicted_trajs)\n",
    "    force_pred = np.array(force_pred)\n",
    "    real_trajs = np.array(real_trajs)\n",
    "\n",
    "    predicted_trajs_reshaped = np.reshape(predicted_trajs, (int((len(predicted_trajs.flatten())/2)), 2))\n",
    "    real_trajs_reshaped = np.reshape(real_trajs, (int((len(real_trajs.flatten())/2)), 2))\n",
    "\n",
    "    eucledian_temp_list = []\n",
    "    for k in range(0, len(predicted_trajs_reshaped), step_size):\n",
    "        eucledian_temp = get_eucledian(real_trajs_reshaped[0+k:12+k], predicted_trajs_reshaped[0+k:12+k])\n",
    "        # print(eucledian_temp)\n",
    "        eucledian_temp_list.append(eucledian_temp)\n",
    "    eucledian_temp_list = np.array(eucledian_temp_list)\n",
    "    final_eucledian_dist = np.mean(eucledian_temp_list)\n",
    "    final_disp = get_last_disp(real_trajs_reshaped, predicted_trajs_reshaped)\n",
    "\n",
    "    return final_eucledian_dist, final_disp, real_trajs_reshaped, predicted_trajs_reshaped"
   ]
  },
  {
   "cell_type": "code",
   "execution_count": 132,
   "metadata": {},
   "outputs": [
    {
     "data": {
      "text/plain": [
       "(118, 2)"
      ]
     },
     "execution_count": 132,
     "metadata": {},
     "output_type": "execute_result"
    }
   ],
   "source": [
    "ped_array = np.unique(np.array(test_df['ped_no']))\n",
    "end_points = []\n",
    "\n",
    "for j in range(len(ped_array)):\n",
    "    # if j == 5: break\n",
    "    test_df_indiv = test_df.loc[test_df['ped_no'] == ped_array[j]]\n",
    "    \n",
    "    input_xy = np.array(test_df_indiv[[\"pos_x\", \"pos_y\"]]).astype('float32')\n",
    "    # print(\"pedestrian no: \", ped_array[j], \"\\n\")\n",
    "    temp_end = [input_xy[-1][0], input_xy[-1][1]]\n",
    "    end_points.append(temp_end)\n",
    "end_points = np.array(end_points)\n",
    "end_points.shape"
   ]
  },
  {
   "cell_type": "code",
   "execution_count": 133,
   "metadata": {},
   "outputs": [],
   "source": [
    "from sklearn.cluster import KMeans"
   ]
  },
  {
   "cell_type": "code",
   "execution_count": 134,
   "metadata": {},
   "outputs": [
    {
     "data": {
      "text/plain": [
       "array([[-27.075804 , -13.135107 ],\n",
       "       [  1.1882029,  -5.680166 ],\n",
       "       [ -9.848106 ,  -7.7488523],\n",
       "       [-29.269709 ,  -6.0478654]], dtype=float32)"
      ]
     },
     "execution_count": 134,
     "metadata": {},
     "output_type": "execute_result"
    }
   ],
   "source": [
    "kmeans = KMeans(n_clusters=4, random_state=0).fit(end_points)\n",
    "kmeans.cluster_centers_"
   ]
  },
  {
   "cell_type": "code",
   "execution_count": 135,
   "metadata": {},
   "outputs": [
    {
     "data": {
      "text/plain": [
       "2609"
      ]
     },
     "execution_count": 135,
     "metadata": {},
     "output_type": "execute_result"
    }
   ],
   "source": [
    "len(test_df)"
   ]
  },
  {
   "cell_type": "code",
   "execution_count": 136,
   "metadata": {},
   "outputs": [
    {
     "data": {
      "text/plain": [
       "array([[0.],\n",
       "       [0.],\n",
       "       [0.],\n",
       "       ...,\n",
       "       [0.],\n",
       "       [0.],\n",
       "       [0.]])"
      ]
     },
     "execution_count": 136,
     "metadata": {},
     "output_type": "execute_result"
    }
   ],
   "source": [
    "temp_neighbour = np.zeros((2609, 1))\n",
    "temp_neighbour"
   ]
  },
  {
   "cell_type": "code",
   "execution_count": 137,
   "metadata": {},
   "outputs": [],
   "source": [
    "#'d_w9', 'd_w10', 'd_w11', 'd_w12', 'd_w13', 'd_w14', 'd_w15', 'd_w16', 'd_w17', 'd_w18', 'd_w19', 'd_w20', \n",
    "#'d_w21', 'd_w22', 'd_w23', 'd_w24', 'd_w25', 'd_w26'\n",
    "for k in range(19):\n",
    "    label_x = \"d_w\"\n",
    "    label_x2 = label_x + str(9 + k)\n",
    "    test_df[label_x2] = temp_neighbour[:, 0]"
   ]
  },
  {
   "cell_type": "code",
   "execution_count": 138,
   "metadata": {},
   "outputs": [],
   "source": [
    "# ['n_w_x9', 'n_w_y9']\n",
    "test_df['n_w_x9'] = temp_neighbour[:, 0]\n",
    "test_df['n_w_y9'] = temp_neighbour[:, 0]"
   ]
  },
  {
   "cell_type": "code",
   "execution_count": 139,
   "metadata": {},
   "outputs": [
    {
     "data": {
      "text/html": [
       "<div>\n",
       "<style scoped>\n",
       "    .dataframe tbody tr th:only-of-type {\n",
       "        vertical-align: middle;\n",
       "    }\n",
       "\n",
       "    .dataframe tbody tr th {\n",
       "        vertical-align: top;\n",
       "    }\n",
       "\n",
       "    .dataframe thead th {\n",
       "        text-align: right;\n",
       "    }\n",
       "</style>\n",
       "<table border=\"1\" class=\"dataframe\">\n",
       "  <thead>\n",
       "    <tr style=\"text-align: right;\">\n",
       "      <th></th>\n",
       "      <th>frame_id</th>\n",
       "      <th>ped_no</th>\n",
       "      <th>pos_x</th>\n",
       "      <th>pos_y</th>\n",
       "      <th>scene_id</th>\n",
       "      <th>vel_x</th>\n",
       "      <th>vel_y</th>\n",
       "      <th>rotation_angle</th>\n",
       "      <th>eta_group_x</th>\n",
       "      <th>eta_group_y</th>\n",
       "      <th>...</th>\n",
       "      <th>d_w20</th>\n",
       "      <th>d_w21</th>\n",
       "      <th>d_w22</th>\n",
       "      <th>d_w23</th>\n",
       "      <th>d_w24</th>\n",
       "      <th>d_w25</th>\n",
       "      <th>d_w26</th>\n",
       "      <th>d_w27</th>\n",
       "      <th>n_w_x9</th>\n",
       "      <th>n_w_y9</th>\n",
       "    </tr>\n",
       "  </thead>\n",
       "  <tbody>\n",
       "    <tr>\n",
       "      <th>0</th>\n",
       "      <td>10</td>\n",
       "      <td>0</td>\n",
       "      <td>-26.677220</td>\n",
       "      <td>-11.602686</td>\n",
       "      <td>0</td>\n",
       "      <td>7.458618</td>\n",
       "      <td>0.651785</td>\n",
       "      <td>0.0</td>\n",
       "      <td>0.0</td>\n",
       "      <td>0.0</td>\n",
       "      <td>...</td>\n",
       "      <td>0.0</td>\n",
       "      <td>0.0</td>\n",
       "      <td>0.0</td>\n",
       "      <td>0.0</td>\n",
       "      <td>0.0</td>\n",
       "      <td>0.0</td>\n",
       "      <td>0.0</td>\n",
       "      <td>0.0</td>\n",
       "      <td>0.0</td>\n",
       "      <td>0.0</td>\n",
       "    </tr>\n",
       "    <tr>\n",
       "      <th>1</th>\n",
       "      <td>20</td>\n",
       "      <td>0</td>\n",
       "      <td>-23.693773</td>\n",
       "      <td>-11.341972</td>\n",
       "      <td>0</td>\n",
       "      <td>7.458618</td>\n",
       "      <td>0.651785</td>\n",
       "      <td>0.0</td>\n",
       "      <td>0.0</td>\n",
       "      <td>0.0</td>\n",
       "      <td>...</td>\n",
       "      <td>0.0</td>\n",
       "      <td>0.0</td>\n",
       "      <td>0.0</td>\n",
       "      <td>0.0</td>\n",
       "      <td>0.0</td>\n",
       "      <td>0.0</td>\n",
       "      <td>0.0</td>\n",
       "      <td>0.0</td>\n",
       "      <td>0.0</td>\n",
       "      <td>0.0</td>\n",
       "    </tr>\n",
       "    <tr>\n",
       "      <th>2</th>\n",
       "      <td>20</td>\n",
       "      <td>1</td>\n",
       "      <td>-26.507906</td>\n",
       "      <td>-8.291869</td>\n",
       "      <td>0</td>\n",
       "      <td>7.947069</td>\n",
       "      <td>0.738351</td>\n",
       "      <td>0.0</td>\n",
       "      <td>0.0</td>\n",
       "      <td>0.0</td>\n",
       "      <td>...</td>\n",
       "      <td>0.0</td>\n",
       "      <td>0.0</td>\n",
       "      <td>0.0</td>\n",
       "      <td>0.0</td>\n",
       "      <td>0.0</td>\n",
       "      <td>0.0</td>\n",
       "      <td>0.0</td>\n",
       "      <td>0.0</td>\n",
       "      <td>0.0</td>\n",
       "      <td>0.0</td>\n",
       "    </tr>\n",
       "    <tr>\n",
       "      <th>3</th>\n",
       "      <td>30</td>\n",
       "      <td>0</td>\n",
       "      <td>-20.951992</td>\n",
       "      <td>-11.111809</td>\n",
       "      <td>0</td>\n",
       "      <td>6.854453</td>\n",
       "      <td>0.575408</td>\n",
       "      <td>0.0</td>\n",
       "      <td>0.0</td>\n",
       "      <td>0.0</td>\n",
       "      <td>...</td>\n",
       "      <td>0.0</td>\n",
       "      <td>0.0</td>\n",
       "      <td>0.0</td>\n",
       "      <td>0.0</td>\n",
       "      <td>0.0</td>\n",
       "      <td>0.0</td>\n",
       "      <td>0.0</td>\n",
       "      <td>0.0</td>\n",
       "      <td>0.0</td>\n",
       "      <td>0.0</td>\n",
       "    </tr>\n",
       "    <tr>\n",
       "      <th>4</th>\n",
       "      <td>30</td>\n",
       "      <td>1</td>\n",
       "      <td>-23.329078</td>\n",
       "      <td>-7.996528</td>\n",
       "      <td>0</td>\n",
       "      <td>7.947069</td>\n",
       "      <td>0.738351</td>\n",
       "      <td>0.0</td>\n",
       "      <td>0.0</td>\n",
       "      <td>0.0</td>\n",
       "      <td>...</td>\n",
       "      <td>0.0</td>\n",
       "      <td>0.0</td>\n",
       "      <td>0.0</td>\n",
       "      <td>0.0</td>\n",
       "      <td>0.0</td>\n",
       "      <td>0.0</td>\n",
       "      <td>0.0</td>\n",
       "      <td>0.0</td>\n",
       "      <td>0.0</td>\n",
       "      <td>0.0</td>\n",
       "    </tr>\n",
       "    <tr>\n",
       "      <th>...</th>\n",
       "      <td>...</td>\n",
       "      <td>...</td>\n",
       "      <td>...</td>\n",
       "      <td>...</td>\n",
       "      <td>...</td>\n",
       "      <td>...</td>\n",
       "      <td>...</td>\n",
       "      <td>...</td>\n",
       "      <td>...</td>\n",
       "      <td>...</td>\n",
       "      <td>...</td>\n",
       "      <td>...</td>\n",
       "      <td>...</td>\n",
       "      <td>...</td>\n",
       "      <td>...</td>\n",
       "      <td>...</td>\n",
       "      <td>...</td>\n",
       "      <td>...</td>\n",
       "      <td>...</td>\n",
       "      <td>...</td>\n",
       "      <td>...</td>\n",
       "    </tr>\n",
       "    <tr>\n",
       "      <th>2604</th>\n",
       "      <td>7400</td>\n",
       "      <td>116</td>\n",
       "      <td>-1.457618</td>\n",
       "      <td>-6.075193</td>\n",
       "      <td>0</td>\n",
       "      <td>1.956575</td>\n",
       "      <td>0.093252</td>\n",
       "      <td>0.0</td>\n",
       "      <td>0.0</td>\n",
       "      <td>0.0</td>\n",
       "      <td>...</td>\n",
       "      <td>0.0</td>\n",
       "      <td>0.0</td>\n",
       "      <td>0.0</td>\n",
       "      <td>0.0</td>\n",
       "      <td>0.0</td>\n",
       "      <td>0.0</td>\n",
       "      <td>0.0</td>\n",
       "      <td>0.0</td>\n",
       "      <td>0.0</td>\n",
       "      <td>0.0</td>\n",
       "    </tr>\n",
       "    <tr>\n",
       "      <th>2605</th>\n",
       "      <td>7400</td>\n",
       "      <td>117</td>\n",
       "      <td>-6.482730</td>\n",
       "      <td>-4.754500</td>\n",
       "      <td>0</td>\n",
       "      <td>-2.532858</td>\n",
       "      <td>-0.000006</td>\n",
       "      <td>0.0</td>\n",
       "      <td>0.0</td>\n",
       "      <td>0.0</td>\n",
       "      <td>...</td>\n",
       "      <td>0.0</td>\n",
       "      <td>0.0</td>\n",
       "      <td>0.0</td>\n",
       "      <td>0.0</td>\n",
       "      <td>0.0</td>\n",
       "      <td>0.0</td>\n",
       "      <td>0.0</td>\n",
       "      <td>0.0</td>\n",
       "      <td>0.0</td>\n",
       "      <td>0.0</td>\n",
       "    </tr>\n",
       "    <tr>\n",
       "      <th>2606</th>\n",
       "      <td>7410</td>\n",
       "      <td>115</td>\n",
       "      <td>-0.625001</td>\n",
       "      <td>-5.369527</td>\n",
       "      <td>0</td>\n",
       "      <td>1.831167</td>\n",
       "      <td>0.145759</td>\n",
       "      <td>0.0</td>\n",
       "      <td>0.0</td>\n",
       "      <td>0.0</td>\n",
       "      <td>...</td>\n",
       "      <td>0.0</td>\n",
       "      <td>0.0</td>\n",
       "      <td>0.0</td>\n",
       "      <td>0.0</td>\n",
       "      <td>0.0</td>\n",
       "      <td>0.0</td>\n",
       "      <td>0.0</td>\n",
       "      <td>0.0</td>\n",
       "      <td>0.0</td>\n",
       "      <td>0.0</td>\n",
       "    </tr>\n",
       "    <tr>\n",
       "      <th>2607</th>\n",
       "      <td>7410</td>\n",
       "      <td>116</td>\n",
       "      <td>-0.674988</td>\n",
       "      <td>-6.037892</td>\n",
       "      <td>0</td>\n",
       "      <td>1.956575</td>\n",
       "      <td>0.093252</td>\n",
       "      <td>0.0</td>\n",
       "      <td>0.0</td>\n",
       "      <td>0.0</td>\n",
       "      <td>...</td>\n",
       "      <td>0.0</td>\n",
       "      <td>0.0</td>\n",
       "      <td>0.0</td>\n",
       "      <td>0.0</td>\n",
       "      <td>0.0</td>\n",
       "      <td>0.0</td>\n",
       "      <td>0.0</td>\n",
       "      <td>0.0</td>\n",
       "      <td>0.0</td>\n",
       "      <td>0.0</td>\n",
       "    </tr>\n",
       "    <tr>\n",
       "      <th>2608</th>\n",
       "      <td>7410</td>\n",
       "      <td>117</td>\n",
       "      <td>-7.588240</td>\n",
       "      <td>-4.772504</td>\n",
       "      <td>0</td>\n",
       "      <td>-2.763775</td>\n",
       "      <td>-0.045010</td>\n",
       "      <td>0.0</td>\n",
       "      <td>0.0</td>\n",
       "      <td>0.0</td>\n",
       "      <td>...</td>\n",
       "      <td>0.0</td>\n",
       "      <td>0.0</td>\n",
       "      <td>0.0</td>\n",
       "      <td>0.0</td>\n",
       "      <td>0.0</td>\n",
       "      <td>0.0</td>\n",
       "      <td>0.0</td>\n",
       "      <td>0.0</td>\n",
       "      <td>0.0</td>\n",
       "      <td>0.0</td>\n",
       "    </tr>\n",
       "  </tbody>\n",
       "</table>\n",
       "<p>2609 rows × 76 columns</p>\n",
       "</div>"
      ],
      "text/plain": [
       "      frame_id  ped_no      pos_x      pos_y  scene_id     vel_x     vel_y  \\\n",
       "0           10       0 -26.677220 -11.602686         0  7.458618  0.651785   \n",
       "1           20       0 -23.693773 -11.341972         0  7.458618  0.651785   \n",
       "2           20       1 -26.507906  -8.291869         0  7.947069  0.738351   \n",
       "3           30       0 -20.951992 -11.111809         0  6.854453  0.575408   \n",
       "4           30       1 -23.329078  -7.996528         0  7.947069  0.738351   \n",
       "...        ...     ...        ...        ...       ...       ...       ...   \n",
       "2604      7400     116  -1.457618  -6.075193         0  1.956575  0.093252   \n",
       "2605      7400     117  -6.482730  -4.754500         0 -2.532858 -0.000006   \n",
       "2606      7410     115  -0.625001  -5.369527         0  1.831167  0.145759   \n",
       "2607      7410     116  -0.674988  -6.037892         0  1.956575  0.093252   \n",
       "2608      7410     117  -7.588240  -4.772504         0 -2.763775 -0.045010   \n",
       "\n",
       "      rotation_angle  eta_group_x  eta_group_y  ...  d_w20  d_w21  d_w22  \\\n",
       "0                0.0          0.0          0.0  ...    0.0    0.0    0.0   \n",
       "1                0.0          0.0          0.0  ...    0.0    0.0    0.0   \n",
       "2                0.0          0.0          0.0  ...    0.0    0.0    0.0   \n",
       "3                0.0          0.0          0.0  ...    0.0    0.0    0.0   \n",
       "4                0.0          0.0          0.0  ...    0.0    0.0    0.0   \n",
       "...              ...          ...          ...  ...    ...    ...    ...   \n",
       "2604             0.0          0.0          0.0  ...    0.0    0.0    0.0   \n",
       "2605             0.0          0.0          0.0  ...    0.0    0.0    0.0   \n",
       "2606             0.0          0.0          0.0  ...    0.0    0.0    0.0   \n",
       "2607             0.0          0.0          0.0  ...    0.0    0.0    0.0   \n",
       "2608             0.0          0.0          0.0  ...    0.0    0.0    0.0   \n",
       "\n",
       "      d_w23  d_w24  d_w25  d_w26  d_w27  n_w_x9  n_w_y9  \n",
       "0       0.0    0.0    0.0    0.0    0.0     0.0     0.0  \n",
       "1       0.0    0.0    0.0    0.0    0.0     0.0     0.0  \n",
       "2       0.0    0.0    0.0    0.0    0.0     0.0     0.0  \n",
       "3       0.0    0.0    0.0    0.0    0.0     0.0     0.0  \n",
       "4       0.0    0.0    0.0    0.0    0.0     0.0     0.0  \n",
       "...     ...    ...    ...    ...    ...     ...     ...  \n",
       "2604    0.0    0.0    0.0    0.0    0.0     0.0     0.0  \n",
       "2605    0.0    0.0    0.0    0.0    0.0     0.0     0.0  \n",
       "2606    0.0    0.0    0.0    0.0    0.0     0.0     0.0  \n",
       "2607    0.0    0.0    0.0    0.0    0.0     0.0     0.0  \n",
       "2608    0.0    0.0    0.0    0.0    0.0     0.0     0.0  \n",
       "\n",
       "[2609 rows x 76 columns]"
      ]
     },
     "execution_count": 139,
     "metadata": {},
     "output_type": "execute_result"
    }
   ],
   "source": [
    "test_df"
   ]
  },
  {
   "cell_type": "code",
   "execution_count": 148,
   "metadata": {},
   "outputs": [
    {
     "name": "stdout",
     "output_type": "stream",
     "text": [
      "118\n",
      "47\n",
      "mean eucledian distance:  0.519258 \n",
      "\n",
      "mean final displacement:  0.97249806 \n",
      "\n",
      "1020\n",
      "1020\n",
      "1020\n"
     ]
    }
   ],
   "source": [
    "ped_array = np.unique(np.array(test_df['ped_no']))\n",
    "eucledian_for_all = []\n",
    "displacement_for_all = []\n",
    "temp_count = 0\n",
    "temp_count2 = 0\n",
    "real_traj_list = np.zeros((1, 2))\n",
    "pred_traj_list = np.zeros((1, 2))\n",
    "time_steps_list = np.zeros((1,))\n",
    "print(len(ped_array))\n",
    "for j in range(len(ped_array)):\n",
    "    # if j == 5: break\n",
    "    test_df_indiv = test_df.loc[test_df['ped_no'] == ped_array[j]]\n",
    "    \n",
    "    input_xy = np.array(test_df_indiv[[\"pos_x\", \"pos_y\"]]).astype('float32')\n",
    "    # print(\"pedestrian no: \", ped_array[j], \"\\n\")\n",
    "    if len(input_xy) < 20: \n",
    "        # print(\"length of input_xy\", len(input_xy), \"\\n\")\n",
    "        # print(\"skipped\")\n",
    "        temp_count2 +=1\n",
    "        continue\n",
    "\n",
    "    temp_neighbours = np.array(test_df_indiv[[\"d_w1\", \"d_w2\", \"d_w3\", \"d_w4\", \"d_w5\", \"d_w6\", \"d_w7\", \"d_w8\", \n",
    "                                              \"d_w9\", \"d_w10\", \"d_w11\", \"d_w12\", \"d_w13\", \"d_w14\", \"d_w15\", \n",
    "                                              \"d_w16\", \"d_w17\", \"d_w18\", \"d_w19\", \"d_w20\", \"d_w21\", \"d_w22\", \n",
    "                                              \"d_w23\", \"d_w24\", \"d_w25\", \"d_w26\"]]).astype('float32')\n",
    "    neighbour_test = temp_neighbours[0]\n",
    "\n",
    "    if len(neighbour_test[np.nonzero(neighbour_test)]) > 9:\n",
    "        temp_count += 1\n",
    "        # print(\"we are here\")\n",
    "        dw_list, nw_x_list, nw_y_list = nearest_neighbour_finder(temp_neighbours)\n",
    "        # print(dw_list)\n",
    "\n",
    "        n1 = np.array(test_df_indiv[[dw_list[0], nw_x_list[0], nw_y_list[0]]]).astype('float32')\n",
    "        n2 = np.array(test_df_indiv[[dw_list[1], nw_x_list[1], nw_y_list[1]]]).astype('float32')\n",
    "        n3 = np.array(test_df_indiv[[dw_list[2], nw_x_list[2], nw_y_list[2]]]).astype('float32')\n",
    "        n4 = np.array(test_df_indiv[[dw_list[3], nw_x_list[3], nw_y_list[3]]]).astype('float32')\n",
    "        n5 = np.array(test_df_indiv[[dw_list[4], nw_x_list[4], nw_y_list[4]]]).astype('float32')\n",
    "        n6 = np.array(test_df_indiv[[dw_list[5], nw_x_list[5], nw_y_list[5]]]).astype('float32')\n",
    "        n7 = np.array(test_df_indiv[[dw_list[6], nw_x_list[6], nw_y_list[6]]]).astype('float32')\n",
    "        n8 = np.array(test_df_indiv[[dw_list[7], nw_x_list[7], nw_y_list[7]]]).astype('float32')\n",
    "        n9 = np.array(test_df_indiv[[dw_list[8], nw_x_list[8], nw_y_list[8]]]).astype('float32')\n",
    "    else:\n",
    "        n1 = np.array(test_df_indiv[[\"d_w1\", \"n_w_x1\", \"n_w_y1\"]]).astype('float32')\n",
    "        n2 = np.array(test_df_indiv[[\"d_w2\", \"n_w_x2\", \"n_w_y2\"]]).astype('float32')\n",
    "        n3 = np.array(test_df_indiv[[\"d_w3\", \"n_w_x3\", \"n_w_y3\"]]).astype('float32')\n",
    "        n4 = np.array(test_df_indiv[[\"d_w4\", \"n_w_x4\", \"n_w_y4\"]]).astype('float32')\n",
    "        n5 = np.array(test_df_indiv[[\"d_w5\", \"n_w_x5\", \"n_w_y5\"]]).astype('float32')\n",
    "        n6 = np.array(test_df_indiv[[\"d_w6\", \"n_w_x6\", \"n_w_y6\"]]).astype('float32')\n",
    "        n7 = np.array(test_df_indiv[[\"d_w7\", \"n_w_x7\", \"n_w_y7\"]]).astype('float32')\n",
    "        n8 = np.array(test_df_indiv[[\"d_w8\", \"n_w_x8\", \"n_w_y8\"]]).astype('float32')\n",
    "        n9 = np.array(test_df_indiv[[\"d_w9\", \"n_w_x9\", \"n_w_y9\"]]).astype('float32')\n",
    "\n",
    "    input_xy = np.array(test_df_indiv[[\"pos_x\", \"pos_y\"]]).astype('float32')\n",
    "\n",
    "    n_bound = np.array(test_df_indiv[[\"d_w_bound\", \"n_w_bound_x\", \"n_w_bound_y\"]]).astype('float32')\n",
    "    # n_group = np.array(test_df_indiv[[\"centroid_dist\", \"rotation_angle\"]]).astype('float32')\n",
    "    n_group = np.array(test_df_indiv[\"rotation_angle\"]).astype('float32')\n",
    "    n_centroid = np.array(test_df_indiv[[\"eta_group_x\", \"eta_group_y\"]]).astype('float32')\n",
    "\n",
    "    velocity = np.array(test_df_indiv[[\"vel_x\", \"vel_y\"]]).astype('float32')\n",
    "\n",
    "    step_size = 12\n",
    "    delta_t = 0.4\n",
    "    temp_cycle = 3\n",
    "    estimated_destination = estimated_dest_list[j]\n",
    "    indicator3 = 0\n",
    "    # 0 = net3_complete, 1 = attract + obstacle, 2 = attract + obst + ped, 3 = attract_only\n",
    "    # temp_clcle = the cycle from where the prediction actually stats\n",
    "    # input_xy, velocity, n1, n2, n3, n4, n5, n6, n7, n8, n9, n_bound, n_group\n",
    "\n",
    "    eucleid, disp, real_traj_new, pred_traj_new = get_predictions(step_size, delta_t, temp_cycle, input_xy, velocity, n1, n2,\n",
    "                                                                  n3, n4, n5, n6, n7, n8, n9, n_bound, n_group, n_centroid, \n",
    "                                                                  estimated_dest=estimated_destination, indicator=indicator3)\n",
    "    # print(eucleid, disp)\n",
    "    temp_timestep = np.array(test_df_indiv[\"frame_id\"][:len(real_traj_new)])\n",
    "    real_traj_list = np.concatenate((real_traj_list, real_traj_new), axis=0)\n",
    "    pred_traj_list = np.concatenate((pred_traj_list, pred_traj_new), axis=0)\n",
    "    # real_traj_list.append(real_traj_new.flatten())\n",
    "    time_steps_list = np.concatenate((time_steps_list, temp_timestep), axis=0)\n",
    "    # print(eucleid, disp)\n",
    "    \n",
    "    if not math.isnan(eucleid):\n",
    "        eucledian_for_all.append(eucleid)\n",
    "        displacement_for_all.append(disp)\n",
    "\n",
    "eucledian_for_all = np.array(eucledian_for_all)\n",
    "displacement_for_all = np.array(displacement_for_all)\n",
    "\n",
    "print(temp_count2)\n",
    "print(\"mean eucledian distance: \", np.mean(eucledian_for_all), \"\\n\")\n",
    "print(\"mean final displacement: \", np.mean(displacement_for_all), \"\\n\")\n",
    "real_traj_list = real_traj_list[1:]\n",
    "pred_traj_list = pred_traj_list[1:]\n",
    "time_steps_list = time_steps_list[1:]\n",
    "print(len(real_traj_list))\n",
    "print(len(time_steps_list))\n",
    "print(len(pred_traj_list))\n",
    "        # print(\"pedestrian no: \", ped_array[j], \"\\n\")\n",
    "    # if not math.isnan()\n",
    "        "
   ]
  },
  {
   "cell_type": "code",
   "execution_count": null,
   "metadata": {},
   "outputs": [],
   "source": [
    "# for attract only\n",
    "# mean eucledian distance:  1.20\n",
    "# mean final displacement:  2.29\n",
    "# for net3_a_rb\n",
    "# mean eucledian distance:  0.50\n",
    "# mean final displacement:  0.95\n",
    "\n",
    "# for net3_a_rb_rp\n",
    "# mean eucledian distance:  0.48\n",
    "# mean final displacement:  0.91\n",
    "\n",
    "# for net3_complete\n",
    "# mean eucledian distance:  0.275 \n",
    "# mean final displacement:  0.477"
   ]
  },
  {
   "cell_type": "code",
   "execution_count": null,
   "metadata": {},
   "outputs": [],
   "source": [
    "# 1.12/2.23 0.30/0.52 0.30/0.55\n",
    "# for attract only\n",
    "# mean eucledian distance:  1.20 + 1.04 + 1.12 = 1.12\n",
    "# mean final displacement:  2.29 + 1.97 + 2.23 = 2.16\n",
    "# for net3_a_rb\n",
    "# mean eucledian distance:  0.50 + 0.31 + 0.30 = 0.37\n",
    "# mean final displacement:  0.95 + 0.54 + 0.52 = 0.67 \n",
    "\n",
    "# for net3_a_rb_rp\n",
    "# mean eucledian distance:  0.48 + 0.30 + 0.30 = 0.36\n",
    "# mean final displacement:  0.91 + 0.54 + 0.55 = 0.67\n"
   ]
  },
  {
   "cell_type": "code",
   "execution_count": 150,
   "metadata": {},
   "outputs": [],
   "source": [
    "my_dict = {'frame_id': time_steps_list, 'real_x': real_traj_list[:, 0], 'real_y': real_traj_list[:, 1], \n",
    "           'pred_x': pred_traj_list[:, 0], 'pred_y': pred_traj_list[:, 1]}\n",
    "my_df = pd.DataFrame(data=my_dict, index=None)"
   ]
  },
  {
   "cell_type": "code",
   "execution_count": 153,
   "metadata": {},
   "outputs": [
    {
     "name": "stdout",
     "output_type": "stream",
     "text": [
      "total collision:  0\n",
      "total interaction:  951\n",
      "0.0\n"
     ]
    }
   ],
   "source": [
    "collision_pred = near_collision_finder(my_df, datset_type='pred')"
   ]
  },
  {
   "cell_type": "code",
   "execution_count": 154,
   "metadata": {},
   "outputs": [
    {
     "name": "stdout",
     "output_type": "stream",
     "text": [
      "total collision:  0\n",
      "total interaction:  4488\n",
      "0.0\n"
     ]
    }
   ],
   "source": [
    "collision_real = near_collision_finder(test_df, datset_type= 'real')"
   ]
  },
  {
   "cell_type": "code",
   "execution_count": 155,
   "metadata": {},
   "outputs": [
    {
     "ename": "NameError",
     "evalue": "name 'real_trajs_reshaped' is not defined",
     "output_type": "error",
     "traceback": [
      "\u001b[1;31m---------------------------------------------------------------------------\u001b[0m",
      "\u001b[1;31mNameError\u001b[0m                                 Traceback (most recent call last)",
      "\u001b[1;32m~\\AppData\\Local\\Temp/ipykernel_1720/424470061.py\u001b[0m in \u001b[0;36m<module>\u001b[1;34m\u001b[0m\n\u001b[1;32m----> 1\u001b[1;33m \u001b[0meucledian_distance\u001b[0m \u001b[1;33m=\u001b[0m \u001b[0mget_eucledian\u001b[0m\u001b[1;33m(\u001b[0m\u001b[0mreal_trajs_reshaped\u001b[0m\u001b[1;33m,\u001b[0m \u001b[0mpredicted_trajs_reshaped\u001b[0m\u001b[1;33m)\u001b[0m\u001b[1;33m\u001b[0m\u001b[1;33m\u001b[0m\u001b[0m\n\u001b[0m\u001b[0;32m      2\u001b[0m \u001b[1;33m\u001b[0m\u001b[0m\n\u001b[0;32m      3\u001b[0m \u001b[0mlast_displacement\u001b[0m \u001b[1;33m=\u001b[0m \u001b[0mget_last_disp\u001b[0m\u001b[1;33m(\u001b[0m\u001b[0mreal_trajs_reshaped\u001b[0m\u001b[1;33m,\u001b[0m \u001b[0mpredicted_trajs_reshaped\u001b[0m\u001b[1;33m)\u001b[0m\u001b[1;33m\u001b[0m\u001b[1;33m\u001b[0m\u001b[0m\n\u001b[0;32m      4\u001b[0m \u001b[0mprint\u001b[0m\u001b[1;33m(\u001b[0m\u001b[1;34m\"eucledian distance: \"\u001b[0m\u001b[1;33m,\u001b[0m \u001b[0meucledian_distance\u001b[0m\u001b[1;33m)\u001b[0m\u001b[1;33m\u001b[0m\u001b[1;33m\u001b[0m\u001b[0m\n\u001b[0;32m      5\u001b[0m \u001b[0mprint\u001b[0m\u001b[1;33m(\u001b[0m\u001b[1;34m\"last displacement: \"\u001b[0m\u001b[1;33m,\u001b[0m \u001b[0mlast_displacement\u001b[0m\u001b[1;33m)\u001b[0m\u001b[1;33m\u001b[0m\u001b[1;33m\u001b[0m\u001b[0m\n",
      "\u001b[1;31mNameError\u001b[0m: name 'real_trajs_reshaped' is not defined"
     ]
    }
   ],
   "source": [
    "eucledian_distance = get_eucledian(real_trajs_reshaped, predicted_trajs_reshaped)\n",
    "\n",
    "last_displacement = get_last_disp(real_trajs_reshaped, predicted_trajs_reshaped)\n",
    "print(\"eucledian distance: \", eucledian_distance)\n",
    "print(\"last displacement: \", last_displacement)"
   ]
  },
  {
   "cell_type": "code",
   "execution_count": 496,
   "metadata": {},
   "outputs": [
    {
     "name": "stdout",
     "output_type": "stream",
     "text": [
      "eucledian distance:  0.98691934\n",
      "last displacement:  1.2742083\n"
     ]
    }
   ],
   "source": [
    "# for one cycle only\n",
    "eucledian_distance = get_eucledian(real_trajs_reshaped[:12], predicted_trajs_reshaped[:12])\n",
    "last_displacement = get_last_disp(real_trajs_reshaped[:12], predicted_trajs_reshaped[:12])\n",
    "print(\"eucledian distance: \", eucledian_distance)\n",
    "print(\"last displacement: \", last_displacement)"
   ]
  }
 ],
 "metadata": {
  "kernelspec": {
   "display_name": "Python 3 (ipykernel)",
   "language": "python",
   "name": "python3"
  },
  "language_info": {
   "codemirror_mode": {
    "name": "ipython",
    "version": 3
   },
   "file_extension": ".py",
   "mimetype": "text/x-python",
   "name": "python",
   "nbconvert_exporter": "python",
   "pygments_lexer": "ipython3",
   "version": "3.7.1"
  }
 },
 "nbformat": 4,
 "nbformat_minor": 4
}
